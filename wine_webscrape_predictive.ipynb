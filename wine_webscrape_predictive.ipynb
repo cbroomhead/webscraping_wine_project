{
 "cells": [
  {
   "cell_type": "code",
   "execution_count": 6,
   "metadata": {},
   "outputs": [],
   "source": [
    "import pandas as pd\n",
    "from sqlalchemy import create_engine, insert\n",
    "import sqlalchemy as sal"
   ]
  },
  {
   "cell_type": "code",
   "execution_count": 7,
   "metadata": {},
   "outputs": [],
   "source": [
    "engine = sal.create_engine('sqlite:///winewebscraping.db')\n",
    "# storing tables from database into dataframe\n",
    "master = pd.read_sql('SELECT * FROM master', engine)"
   ]
  },
  {
   "cell_type": "code",
   "execution_count": 26,
   "metadata": {},
   "outputs": [],
   "source": [
    "# Import the libraries\n",
    "import random\n",
    "from sklearn.linear_model import LinearRegression\n",
    "# Create an empty list for the feature data set 'X' and the target data set 'y'\n",
    "feature_set = []\n",
    "target_set= []\n",
    "# get the number of rows wanted for the data set\n",
    "number_of_rows = 200\n",
    "# limit the possible values in the data set\n",
    "random_number_limit = 2000\n",
    "#Create the training data set\n",
    "#Create and append a randomly generated data set to the input and output\n",
    "for i in range(0,number_of_rows):\n",
    "  x = random.randint(0, random_number_limit)\n",
    "  y = random.randint(0, random_number_limit)\n",
    "  z = random.randint(0, random_number_limit)\n",
    "#Create a linear function for the target data set 'y'\n",
    "function = (10*x) + (2*y) + (3*z)\n",
    "feature_set.append([x,y,z])\n",
    "target_set.append(function)"
   ]
  },
  {
   "cell_type": "code",
   "execution_count": 27,
   "metadata": {},
   "outputs": [
    {
     "data": {
      "text/plain": [
       "LinearRegression()"
      ]
     },
     "execution_count": 27,
     "metadata": {},
     "output_type": "execute_result"
    }
   ],
   "source": [
    "model = LinearRegression() #Create a linear regression object/model\n",
    "model.fit(feature_set, target_set)"
   ]
  },
  {
   "cell_type": "code",
   "execution_count": 28,
   "metadata": {},
   "outputs": [
    {
     "name": "stdout",
     "output_type": "stream",
     "text": [
      "Prediction:[22697.]\tCoefficient:[0. 0. 0.]\n"
     ]
    }
   ],
   "source": [
    "test_set = [[8,10,0]] \n",
    "prediction = model.predict(test_set)\n",
    "print('Prediction:'+str(prediction)+'\\t'+ 'Coefficient:'+str(model.coef_))"
   ]
  },
  {
   "cell_type": "code",
   "execution_count": null,
   "metadata": {},
   "outputs": [],
   "source": []
  }
 ],
 "metadata": {
  "kernelspec": {
   "display_name": "Python 3",
   "language": "python",
   "name": "python3"
  },
  "language_info": {
   "codemirror_mode": {
    "name": "ipython",
    "version": 3
   },
   "file_extension": ".py",
   "mimetype": "text/x-python",
   "name": "python",
   "nbconvert_exporter": "python",
   "pygments_lexer": "ipython3",
   "version": "3.8.3"
  }
 },
 "nbformat": 4,
 "nbformat_minor": 2
}
