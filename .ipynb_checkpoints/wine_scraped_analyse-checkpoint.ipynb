{
 "cells": [
  {
   "cell_type": "code",
   "execution_count": 7,
   "metadata": {},
   "outputs": [],
   "source": [
    "import numpy as np\n",
    "import pandas as pd\n",
    "import matplotlib.pyplot as plt\n",
    "import seaborn as sb\n",
    "%matplotlib inline"
   ]
  },
  {
   "cell_type": "code",
   "execution_count": 5,
   "metadata": {},
   "outputs": [],
   "source": [
    "df = pd.read_csv('wine_master_dataset.csv', index_col=0)"
   ]
  },
  {
   "cell_type": "code",
   "execution_count": 6,
   "metadata": {},
   "outputs": [
    {
     "data": {
      "text/html": [
       "<div>\n",
       "<style scoped>\n",
       "    .dataframe tbody tr th:only-of-type {\n",
       "        vertical-align: middle;\n",
       "    }\n",
       "\n",
       "    .dataframe tbody tr th {\n",
       "        vertical-align: top;\n",
       "    }\n",
       "\n",
       "    .dataframe thead th {\n",
       "        text-align: right;\n",
       "    }\n",
       "</style>\n",
       "<table border=\"1\" class=\"dataframe\">\n",
       "  <thead>\n",
       "    <tr style=\"text-align: right;\">\n",
       "      <th></th>\n",
       "      <th>product_name</th>\n",
       "      <th>price</th>\n",
       "      <th>varietal</th>\n",
       "      <th>rating</th>\n",
       "      <th>rating_count</th>\n",
       "      <th>region</th>\n",
       "      <th>country</th>\n",
       "      <th>year</th>\n",
       "    </tr>\n",
       "  </thead>\n",
       "  <tbody>\n",
       "    <tr>\n",
       "      <th>0</th>\n",
       "      <td>Dom Perignon Vintage with Gift Box 2010</td>\n",
       "      <td>199</td>\n",
       "      <td>Vintage Sparkling Wine</td>\n",
       "      <td>4.5</td>\n",
       "      <td>42.0</td>\n",
       "      <td>Champagne</td>\n",
       "      <td>France</td>\n",
       "      <td>2010</td>\n",
       "    </tr>\n",
       "    <tr>\n",
       "      <th>2</th>\n",
       "      <td>Duckhorn Napa Valley Cabernet Sauvignon 2017</td>\n",
       "      <td>78</td>\n",
       "      <td>Cabernet Sauvignon</td>\n",
       "      <td>4.3</td>\n",
       "      <td>62.0</td>\n",
       "      <td>Napa Valley</td>\n",
       "      <td>California</td>\n",
       "      <td>2017</td>\n",
       "    </tr>\n",
       "    <tr>\n",
       "      <th>3</th>\n",
       "      <td>Caymus Special Selection Cabernet Sauvignon 2016</td>\n",
       "      <td>180</td>\n",
       "      <td>Cabernet Sauvignon</td>\n",
       "      <td>4.6</td>\n",
       "      <td>108.0</td>\n",
       "      <td>Napa Valley</td>\n",
       "      <td>California</td>\n",
       "      <td>2016</td>\n",
       "    </tr>\n",
       "    <tr>\n",
       "      <th>4</th>\n",
       "      <td>Quintessa 2016</td>\n",
       "      <td>199</td>\n",
       "      <td>Cabernet Sauvignon</td>\n",
       "      <td>4.7</td>\n",
       "      <td>73.0</td>\n",
       "      <td>Rutherford</td>\n",
       "      <td>Napa Valley, California</td>\n",
       "      <td>2016</td>\n",
       "    </tr>\n",
       "    <tr>\n",
       "      <th>5</th>\n",
       "      <td>Joseph Phelps Insignia 2016</td>\n",
       "      <td>300</td>\n",
       "      <td>Bordeaux Red Blends</td>\n",
       "      <td>4.6</td>\n",
       "      <td>81.0</td>\n",
       "      <td>Napa Valley</td>\n",
       "      <td>California</td>\n",
       "      <td>2016</td>\n",
       "    </tr>\n",
       "  </tbody>\n",
       "</table>\n",
       "</div>"
      ],
      "text/plain": [
       "                                       product_name price  \\\n",
       "0           Dom Perignon Vintage with Gift Box 2010   199   \n",
       "2      Duckhorn Napa Valley Cabernet Sauvignon 2017    78   \n",
       "3  Caymus Special Selection Cabernet Sauvignon 2016   180   \n",
       "4                                    Quintessa 2016   199   \n",
       "5                       Joseph Phelps Insignia 2016   300   \n",
       "\n",
       "                 varietal  rating  rating_count       region  \\\n",
       "0  Vintage Sparkling Wine     4.5          42.0    Champagne   \n",
       "2      Cabernet Sauvignon     4.3          62.0  Napa Valley   \n",
       "3      Cabernet Sauvignon     4.6         108.0  Napa Valley   \n",
       "4      Cabernet Sauvignon     4.7          73.0   Rutherford   \n",
       "5     Bordeaux Red Blends     4.6          81.0  Napa Valley   \n",
       "\n",
       "                    country  year  \n",
       "0                    France  2010  \n",
       "2                California  2017  \n",
       "3                California  2016  \n",
       "4   Napa Valley, California  2016  \n",
       "5                California  2016  "
      ]
     },
     "execution_count": 6,
     "metadata": {},
     "output_type": "execute_result"
    }
   ],
   "source": [
    "df.head()"
   ]
  },
  {
   "cell_type": "code",
   "execution_count": 10,
   "metadata": {},
   "outputs": [],
   "source": [
    "#set the base color for the charts\n",
    "green = sb.color_palette(\"hls\", 8)[3]\n",
    "purple = sb.color_palette(\"hls\", 8)[6]\n",
    "yellow = sb.color_palette(\"hls\", 8)[1]"
   ]
  },
  {
   "cell_type": "code",
   "execution_count": 15,
   "metadata": {},
   "outputs": [
    {
     "data": {
      "text/plain": [
       "('1,000', '999')"
      ]
     },
     "execution_count": 15,
     "metadata": {},
     "output_type": "execute_result"
    }
   ],
   "source": [
    "df['price'].min(), df['price'].max()"
   ]
  },
  {
   "cell_type": "code",
   "execution_count": 18,
   "metadata": {},
   "outputs": [
    {
     "data": {
      "image/png": "[encoded data removed]",
      "text/plain": [
       "<Figure size 1440x360 with 1 Axes>"
      ]
     },
     "metadata": {
      "needs_background": "light"
     },
     "output_type": "display_data"
    }
   ],
   "source": [
    "# standard-scaled plot of prices\n",
    "plt.figure(figsize = [20, 5])\n",
    "#plt.title(\"Count of Turbines by Rated Capacity (kW)\")\n",
    "sb.countplot(data= df, x='price', color=green, edgecolor='white').set( xlabel = \"$\");"
   ]
  },
  {
   "cell_type": "code",
   "execution_count": null,
   "metadata": {},
   "outputs": [],
   "source": []
  }
 ],
 "metadata": {
  "kernelspec": {
   "display_name": "Python 3",
   "language": "python",
   "name": "python3"
  },
  "language_info": {
   "codemirror_mode": {
    "name": "ipython",
    "version": 3
   },
   "file_extension": ".py",
   "mimetype": "text/x-python",
   "name": "python",
   "nbconvert_exporter": "python",
   "pygments_lexer": "ipython3",
   "version": "3.8.3"
  }
 },
 "nbformat": 4,
 "nbformat_minor": 2
}
