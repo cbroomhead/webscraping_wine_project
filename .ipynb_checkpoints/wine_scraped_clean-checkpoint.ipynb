{
 "cells": [
  {
   "cell_type": "code",
   "execution_count": 390,
   "metadata": {},
   "outputs": [],
   "source": [
    "import pandas as pd\n",
    "import numpy as np"
   ]
  },
  {
   "cell_type": "code",
   "execution_count": 463,
   "metadata": {},
   "outputs": [],
   "source": [
    "df = pd.read_csv('wine_scraped_dataset.csv', index_col=0)"
   ]
  },
  {
   "cell_type": "markdown",
   "metadata": {},
   "source": [
    "## Assess "
   ]
  },
  {
   "cell_type": "code",
   "execution_count": 464,
   "metadata": {},
   "outputs": [
    {
     "name": "stdout",
     "output_type": "stream",
     "text": [
      "<class 'pandas.core.frame.DataFrame'>\n",
      "Int64Index: 23822 entries, 0 to 23821\n",
      "Data columns (total 6 columns):\n",
      " #   Column        Non-Null Count  Dtype  \n",
      "---  ------        --------------  -----  \n",
      " 0   product_name  23822 non-null  object \n",
      " 1   price         23822 non-null  object \n",
      " 2   varietal      23822 non-null  object \n",
      " 3   origin        23819 non-null  object \n",
      " 4   rating        23822 non-null  float64\n",
      " 5   rating_count  23822 non-null  int64  \n",
      "dtypes: float64(1), int64(1), object(4)\n",
      "memory usage: 1.3+ MB\n"
     ]
    }
   ],
   "source": [
    "df.info()"
   ]
  },
  {
   "cell_type": "code",
   "execution_count": 465,
   "metadata": {},
   "outputs": [
    {
     "data": {
      "text/html": [
       "<div>\n",
       "<style scoped>\n",
       "    .dataframe tbody tr th:only-of-type {\n",
       "        vertical-align: middle;\n",
       "    }\n",
       "\n",
       "    .dataframe tbody tr th {\n",
       "        vertical-align: top;\n",
       "    }\n",
       "\n",
       "    .dataframe thead th {\n",
       "        text-align: right;\n",
       "    }\n",
       "</style>\n",
       "<table border=\"1\" class=\"dataframe\">\n",
       "  <thead>\n",
       "    <tr style=\"text-align: right;\">\n",
       "      <th></th>\n",
       "      <th>product_name</th>\n",
       "      <th>price</th>\n",
       "      <th>varietal</th>\n",
       "      <th>origin</th>\n",
       "      <th>rating</th>\n",
       "      <th>rating_count</th>\n",
       "    </tr>\n",
       "  </thead>\n",
       "  <tbody>\n",
       "    <tr>\n",
       "      <th>0</th>\n",
       "      <td>Dom Perignon Vintage with Gift Box 2010</td>\n",
       "      <td>199</td>\n",
       "      <td>Vintage Sparkling Wine</td>\n",
       "      <td>Champagne, France</td>\n",
       "      <td>4.5</td>\n",
       "      <td>42</td>\n",
       "    </tr>\n",
       "    <tr>\n",
       "      <th>1</th>\n",
       "      <td>Veuve Clicquot Yellow Label Brut</td>\n",
       "      <td>59</td>\n",
       "      <td>Non-Vintage Sparkling Wine</td>\n",
       "      <td>Champagne, France</td>\n",
       "      <td>4.4</td>\n",
       "      <td>1138</td>\n",
       "    </tr>\n",
       "    <tr>\n",
       "      <th>2</th>\n",
       "      <td>Duckhorn Napa Valley Cabernet Sauvignon 2017</td>\n",
       "      <td>78</td>\n",
       "      <td>Cabernet Sauvignon</td>\n",
       "      <td>Napa Valley, California</td>\n",
       "      <td>4.3</td>\n",
       "      <td>62</td>\n",
       "    </tr>\n",
       "    <tr>\n",
       "      <th>3</th>\n",
       "      <td>Caymus Special Selection Cabernet Sauvignon 2016</td>\n",
       "      <td>180</td>\n",
       "      <td>Cabernet Sauvignon</td>\n",
       "      <td>Napa Valley, California</td>\n",
       "      <td>4.6</td>\n",
       "      <td>108</td>\n",
       "    </tr>\n",
       "    <tr>\n",
       "      <th>4</th>\n",
       "      <td>Quintessa 2016</td>\n",
       "      <td>199</td>\n",
       "      <td>Cabernet Sauvignon</td>\n",
       "      <td>Rutherford, Napa Valley, California</td>\n",
       "      <td>4.7</td>\n",
       "      <td>73</td>\n",
       "    </tr>\n",
       "  </tbody>\n",
       "</table>\n",
       "</div>"
      ],
      "text/plain": [
       "                                       product_name price  \\\n",
       "0           Dom Perignon Vintage with Gift Box 2010   199   \n",
       "1                  Veuve Clicquot Yellow Label Brut    59   \n",
       "2      Duckhorn Napa Valley Cabernet Sauvignon 2017    78   \n",
       "3  Caymus Special Selection Cabernet Sauvignon 2016   180   \n",
       "4                                    Quintessa 2016   199   \n",
       "\n",
       "                     varietal                               origin  rating  \\\n",
       "0      Vintage Sparkling Wine                    Champagne, France     4.5   \n",
       "1  Non-Vintage Sparkling Wine                    Champagne, France     4.4   \n",
       "2          Cabernet Sauvignon              Napa Valley, California     4.3   \n",
       "3          Cabernet Sauvignon              Napa Valley, California     4.6   \n",
       "4          Cabernet Sauvignon  Rutherford, Napa Valley, California     4.7   \n",
       "\n",
       "   rating_count  \n",
       "0            42  \n",
       "1          1138  \n",
       "2            62  \n",
       "3           108  \n",
       "4            73  "
      ]
     },
     "execution_count": 465,
     "metadata": {},
     "output_type": "execute_result"
    }
   ],
   "source": [
    "df.head()"
   ]
  },
  {
   "cell_type": "code",
   "execution_count": 466,
   "metadata": {},
   "outputs": [
    {
     "data": {
      "text/plain": [
       "array(['Agiorgitiko', 'Aglianico', 'Albarino', 'Alicante Bouschet',\n",
       "       'Arneis', 'Assyrtiko', 'Baga', 'Barbera', 'Blaufrankisch', 'Bobal',\n",
       "       'Bordeaux Red Blends', 'Bordeaux White Blends', 'Cabernet Franc',\n",
       "       'Cabernet Sauvignon', 'Carignan', 'Carmenere', 'Chardonnay',\n",
       "       'Chenin Blanc', 'Cinsault', 'Corvina', 'Dolcetto', 'Fiano',\n",
       "       'Friulano', 'Fruit Wine', 'Furmint', 'Gamay', 'Garganega',\n",
       "       'Gewurztraminer', 'Godello', 'Greco', 'Grenache', 'Grenache Blanc',\n",
       "       'Gruner Veltliner', 'Lagrein', 'Madeira', 'Malbec', 'Malvasia',\n",
       "       'Marsanne', 'Melon de Bourgogne', 'Mencia', 'Merlot',\n",
       "       'Montepulciano', 'Mourvedre', 'Muscat', 'Nebbiolo',\n",
       "       'Nerello Mascalese', \"Nero d'Avola\", 'Non-Vintage Sparkling Wine',\n",
       "       'Other Dessert', 'Other Red Blends', 'Other Red Wine',\n",
       "       'Other White Blends', 'Other White Wine', 'Petit Verdot',\n",
       "       'Petite Sirah', 'Pinot Blanc', 'Pinot Gris/Grigio', 'Pinot Noir',\n",
       "       'Pinotage', 'Port', 'Red Sparkling Wine', 'Rhone Red Blends',\n",
       "       'Rhone White Blends', 'Riesling', 'Rosé', 'Rosé Sparkling Wine',\n",
       "       'Roussanne', 'Sagrantino', 'Sangiovese', 'Sauvignon Blanc',\n",
       "       'Semillon', 'Sherry', 'Syrah/Shiraz', 'Tannat', 'Tempranillo',\n",
       "       'Torrontes', 'Touriga Nacional', 'Tuscan Blends', 'Valdiguie',\n",
       "       'Verdejo', 'Verdicchio', 'Vermentino', 'Vermouth',\n",
       "       'Vintage Sparkling Wine', 'Viognier', 'Viura', 'Xinomavro',\n",
       "       'Zinfandel'], dtype=object)"
      ]
     },
     "execution_count": 466,
     "metadata": {},
     "output_type": "execute_result"
    }
   ],
   "source": [
    "df['varietal'].sort_values().unique()"
   ]
  },
  {
   "cell_type": "markdown",
   "metadata": {},
   "source": [
    "### Cleaning "
   ]
  },
  {
   "cell_type": "markdown",
   "metadata": {},
   "source": [
    "The following items have been indentified as tidiness/ quality issues:\n",
    "- 'origin' is missing three values\n",
    "- Seperate 'origin' into 'region' and 'country'\n",
    "- 'country' has a lot of regions. extrct country from region name\n",
    "- Remove non wines from varietals: 'Port' 'Non-Vintage Sparkling Wine' 'Vintage Sparkling Wine'\n",
    "- Seperate 'year' out of 'product_name' and drop the ones that don't have a year?\n",
    "- turn remove commas and turn price into int"
   ]
  },
  {
   "cell_type": "markdown",
   "metadata": {},
   "source": [
    "### 'origin' is missing three values "
   ]
  },
  {
   "cell_type": "code",
   "execution_count": 467,
   "metadata": {},
   "outputs": [],
   "source": [
    "df = df[df['origin'].notna()]"
   ]
  },
  {
   "cell_type": "code",
   "execution_count": 468,
   "metadata": {},
   "outputs": [
    {
     "name": "stdout",
     "output_type": "stream",
     "text": [
      "<class 'pandas.core.frame.DataFrame'>\n",
      "Int64Index: 23819 entries, 0 to 23821\n",
      "Data columns (total 6 columns):\n",
      " #   Column        Non-Null Count  Dtype  \n",
      "---  ------        --------------  -----  \n",
      " 0   product_name  23819 non-null  object \n",
      " 1   price         23819 non-null  object \n",
      " 2   varietal      23819 non-null  object \n",
      " 3   origin        23819 non-null  object \n",
      " 4   rating        23819 non-null  float64\n",
      " 5   rating_count  23819 non-null  int64  \n",
      "dtypes: float64(1), int64(1), object(4)\n",
      "memory usage: 1.3+ MB\n"
     ]
    }
   ],
   "source": [
    "df.info()"
   ]
  },
  {
   "cell_type": "markdown",
   "metadata": {},
   "source": [
    "###  separate 'origin' into 'region' and 'country'"
   ]
  },
  {
   "cell_type": "code",
   "execution_count": 670,
   "metadata": {},
   "outputs": [],
   "source": [
    "df_or = df.copy()"
   ]
  },
  {
   "cell_type": "code",
   "execution_count": 671,
   "metadata": {},
   "outputs": [],
   "source": [
    "df_or = df_or.origin.str.rsplit(',').str[-2:]"
   ]
  },
  {
   "cell_type": "code",
   "execution_count": 672,
   "metadata": {},
   "outputs": [],
   "source": [
    "df_or = df_or.to_frame()"
   ]
  },
  {
   "cell_type": "code",
   "execution_count": 673,
   "metadata": {},
   "outputs": [],
   "source": [
    "df_or = pd.DataFrame(df.origin.str.rsplit(',', 1).tolist(),\n",
    "                                 columns = ['origin','region'])"
   ]
  },
  {
   "cell_type": "code",
   "execution_count": 674,
   "metadata": {},
   "outputs": [],
   "source": [
    "df_or2 = df_or.origin.str.rsplit(',').str[-1:]"
   ]
  },
  {
   "cell_type": "code",
   "execution_count": 676,
   "metadata": {},
   "outputs": [],
   "source": [
    "df_or2 = df_or2.to_frame()"
   ]
  },
  {
   "cell_type": "code",
   "execution_count": 677,
   "metadata": {},
   "outputs": [],
   "source": [
    "df_or2['origin'] = df_or2['origin'].astype(str)"
   ]
  },
  {
   "cell_type": "code",
   "execution_count": 678,
   "metadata": {},
   "outputs": [
    {
     "data": {
      "text/plain": [
       "pandas.core.series.Series"
      ]
     },
     "execution_count": 678,
     "metadata": {},
     "output_type": "execute_result"
    }
   ],
   "source": [
    "type(df_or2['origin'])"
   ]
  },
  {
   "cell_type": "code",
   "execution_count": 679,
   "metadata": {},
   "outputs": [],
   "source": [
    "df_merged = df_or.assign(origin=df_or2['origin'])"
   ]
  },
  {
   "cell_type": "code",
   "execution_count": 683,
   "metadata": {},
   "outputs": [],
   "source": [
    "df.drop('origin', axis = 1, inplace = True)"
   ]
  },
  {
   "cell_type": "code",
   "execution_count": 684,
   "metadata": {},
   "outputs": [],
   "source": [
    "df = pd.concat([df, df_merged], axis=1)"
   ]
  },
  {
   "cell_type": "code",
   "execution_count": 685,
   "metadata": {},
   "outputs": [
    {
     "data": {
      "text/html": [
       "<div>\n",
       "<style scoped>\n",
       "    .dataframe tbody tr th:only-of-type {\n",
       "        vertical-align: middle;\n",
       "    }\n",
       "\n",
       "    .dataframe tbody tr th {\n",
       "        vertical-align: top;\n",
       "    }\n",
       "\n",
       "    .dataframe thead th {\n",
       "        text-align: right;\n",
       "    }\n",
       "</style>\n",
       "<table border=\"1\" class=\"dataframe\">\n",
       "  <thead>\n",
       "    <tr style=\"text-align: right;\">\n",
       "      <th></th>\n",
       "      <th>product_name</th>\n",
       "      <th>price</th>\n",
       "      <th>varietal</th>\n",
       "      <th>rating</th>\n",
       "      <th>rating_count</th>\n",
       "      <th>origin</th>\n",
       "      <th>region</th>\n",
       "    </tr>\n",
       "  </thead>\n",
       "  <tbody>\n",
       "    <tr>\n",
       "      <th>0</th>\n",
       "      <td>Dom Perignon Vintage with Gift Box 2010</td>\n",
       "      <td>199</td>\n",
       "      <td>Vintage Sparkling Wine</td>\n",
       "      <td>4.5</td>\n",
       "      <td>42.0</td>\n",
       "      <td>['Champagne']</td>\n",
       "      <td>France</td>\n",
       "    </tr>\n",
       "    <tr>\n",
       "      <th>1</th>\n",
       "      <td>Veuve Clicquot Yellow Label Brut</td>\n",
       "      <td>59</td>\n",
       "      <td>Non-Vintage Sparkling Wine</td>\n",
       "      <td>4.4</td>\n",
       "      <td>1138.0</td>\n",
       "      <td>['Champagne']</td>\n",
       "      <td>France</td>\n",
       "    </tr>\n",
       "  </tbody>\n",
       "</table>\n",
       "</div>"
      ],
      "text/plain": [
       "                              product_name price                    varietal  \\\n",
       "0  Dom Perignon Vintage with Gift Box 2010   199      Vintage Sparkling Wine   \n",
       "1         Veuve Clicquot Yellow Label Brut    59  Non-Vintage Sparkling Wine   \n",
       "\n",
       "   rating  rating_count         origin   region  \n",
       "0     4.5          42.0  ['Champagne']   France  \n",
       "1     4.4        1138.0  ['Champagne']   France  "
      ]
     },
     "execution_count": 685,
     "metadata": {},
     "output_type": "execute_result"
    }
   ],
   "source": [
    "df.head(2)"
   ]
  },
  {
   "cell_type": "code",
   "execution_count": 686,
   "metadata": {},
   "outputs": [],
   "source": [
    "df.dropna(inplace = True)"
   ]
  },
  {
   "cell_type": "code",
   "execution_count": 687,
   "metadata": {},
   "outputs": [
    {
     "name": "stdout",
     "output_type": "stream",
     "text": [
      "<class 'pandas.core.frame.DataFrame'>\n",
      "Int64Index: 22685 entries, 0 to 23818\n",
      "Data columns (total 7 columns):\n",
      " #   Column        Non-Null Count  Dtype  \n",
      "---  ------        --------------  -----  \n",
      " 0   product_name  22685 non-null  object \n",
      " 1   price         22685 non-null  object \n",
      " 2   varietal      22685 non-null  object \n",
      " 3   rating        22685 non-null  float64\n",
      " 4   rating_count  22685 non-null  float64\n",
      " 5   origin        22685 non-null  object \n",
      " 6   region        22685 non-null  object \n",
      "dtypes: float64(2), object(5)\n",
      "memory usage: 1.4+ MB\n"
     ]
    }
   ],
   "source": [
    "df.info()"
   ]
  },
  {
   "cell_type": "markdown",
   "metadata": {},
   "source": [
    "### 'country' has a lot of regions. extrct country from region name "
   ]
  },
  {
   "cell_type": "code",
   "execution_count": 277,
   "metadata": {},
   "outputs": [
    {
     "data": {
      "text/plain": [
       "array([' Argentina', ' Australia', ' Austria',\n",
       "       ' Barossa, South Australia, Australia', ' Bordeaux, France',\n",
       "       ' Burgundy, France', ' California', ' Central Coast, California',\n",
       "       ' Chianti, Tuscany, Italy', ' Chile',\n",
       "       ' Columbia Valley, Washington',\n",
       "       ' Cote Chalonnaise, Burgundy, France',\n",
       "       \" Cote d'Or, Burgundy, France\",\n",
       "       \" Cote de Beaune, Cote d'Or, Burgundy, France\",\n",
       "       \" Cote de Nuits, Cote d'Or, Burgundy, France\",\n",
       "       ' Côtes du Roussillon-Villages, Roussillon, South of France, France',\n",
       "       ' France', ' Friuli-Venezia Giulia, Italy', ' Germany', ' Greece',\n",
       "       ' Italy', ' Lake County, North Coast, California',\n",
       "       ' Languedoc, South of France, France', ' Loire, France',\n",
       "       ' Maconnais, Burgundy, France', ' Mendocino, California',\n",
       "       ' Mendoza, Argentina',\n",
       "       ' Minervois, Languedoc, South of France, France',\n",
       "       ' Monterey, Central Coast, California', ' Napa Valley, California',\n",
       "       ' New South Wales, Australia', ' New York, Other U.S.',\n",
       "       ' New Zealand', ' North Coast, California', ' Oregon',\n",
       "       ' Other U.S.', ' Paso Robles, Central Coast, California',\n",
       "       ' Piedmont, Italy', ' Portugal', ' Prosecco, Italy',\n",
       "       ' Provence, South of France, France', ' Rapel Valley, Chile',\n",
       "       ' Rhone, France', ' Roussillon, South of France, France',\n",
       "       ' Russian River, Sonoma County, California', ' Salta, Argentina',\n",
       "       ' San Antonio Valley (Chile), Chile',\n",
       "       ' Santa Barbara, Central Coast, California',\n",
       "       ' Sierra Foothills, California',\n",
       "       ' Sonoma Coast, Sonoma County, California',\n",
       "       ' Sonoma County, California',\n",
       "       ' Sonoma Valley, Sonoma County, California', ' South Africa',\n",
       "       ' South Australia, Australia', ' South of France, France',\n",
       "       ' Southwest, France', ' Spain', ' Touraine, Loire, France',\n",
       "       ' Trentino-Alto Adige, Italy', ' Tuscany, Italy', ' Veneto, Italy',\n",
       "       ' Victoria, Australia', ' Washington',\n",
       "       ' Western Australia, Australia', ' Willamette Valley, Oregon',\n",
       "       ' Yakima Valley, Columbia Valley, Washington'], dtype=object)"
      ]
     },
     "execution_count": 277,
     "metadata": {},
     "output_type": "execute_result"
    }
   ],
   "source": [
    "df['country'].sort_values().unique()"
   ]
  },
  {
   "cell_type": "markdown",
   "metadata": {},
   "source": [
    "### remove non wines from varietals: 'Port' 'Non-Vintage Sparkling Wine' 'Vintage Sparkling Wine' "
   ]
  },
  {
   "cell_type": "code",
   "execution_count": 147,
   "metadata": {},
   "outputs": [],
   "source": [
    "df_varietals = df.copy()"
   ]
  },
  {
   "cell_type": "code",
   "execution_count": 148,
   "metadata": {},
   "outputs": [],
   "source": [
    "non_varietals = ['Port', 'Non-Vintage Sparkling Wine', 'Vintage Sparkling Wine']\n",
    "# Delete these row indexes from dataFrame\n",
    "df_varietals = df_varietals[~df_varietals['varietal'].isin(non_varietals)]"
   ]
  },
  {
   "cell_type": "code",
   "execution_count": 149,
   "metadata": {},
   "outputs": [
    {
     "data": {
      "text/plain": [
       "array(['Agiorgitiko', 'Aglianico', 'Albarino', 'Alicante Bouschet',\n",
       "       'Arneis', 'Assyrtiko', 'Baga', 'Barbera', 'Blaufrankisch', 'Bobal',\n",
       "       'Bordeaux Red Blends', 'Bordeaux White Blends', 'Cabernet Franc',\n",
       "       'Cabernet Sauvignon', 'Carignan', 'Carmenere', 'Chardonnay',\n",
       "       'Chenin Blanc', 'Corvina', 'Dolcetto', 'Fiano', 'Friulano',\n",
       "       'Fruit Wine', 'Furmint', 'Gamay', 'Garganega', 'Gewurztraminer',\n",
       "       'Godello', 'Greco', 'Grenache', 'Grenache Blanc',\n",
       "       'Gruner Veltliner', 'Lagrein', 'Madeira', 'Malbec', 'Marsanne',\n",
       "       'Melon de Bourgogne', 'Mencia', 'Merlot', 'Montepulciano',\n",
       "       'Mourvedre', 'Muscat', 'Nebbiolo', 'Nerello Mascalese',\n",
       "       \"Nero d'Avola\", 'Other Dessert', 'Other Red Blends',\n",
       "       'Other Red Wine', 'Other White Blends', 'Other White Wine',\n",
       "       'Petit Verdot', 'Petite Sirah', 'Pinot Blanc', 'Pinot Gris/Grigio',\n",
       "       'Pinot Noir', 'Pinotage', 'Red Sparkling Wine', 'Rhone Red Blends',\n",
       "       'Rhone White Blends', 'Riesling', 'Rosé', 'Rosé Sparkling Wine',\n",
       "       'Roussanne', 'Sagrantino', 'Sangiovese', 'Sauvignon Blanc',\n",
       "       'Semillon', 'Sherry', 'Syrah/Shiraz', 'Tannat', 'Tempranillo',\n",
       "       'Torrontes', 'Touriga Nacional', 'Tuscan Blends', 'Valdiguie',\n",
       "       'Verdejo', 'Verdicchio', 'Vermentino', 'Vermouth', 'Viognier',\n",
       "       'Viura', 'Xinomavro', 'Zinfandel'], dtype=object)"
      ]
     },
     "execution_count": 149,
     "metadata": {},
     "output_type": "execute_result"
    }
   ],
   "source": [
    "# this is the df with the non-wine varietals\n",
    "df_varietals['varietal'].sort_values().unique()"
   ]
  },
  {
   "cell_type": "code",
   "execution_count": 253,
   "metadata": {},
   "outputs": [
    {
     "data": {
      "text/plain": [
       "(21928, 7)"
      ]
     },
     "execution_count": 253,
     "metadata": {},
     "output_type": "execute_result"
    }
   ],
   "source": [
    "df_varietals.shape"
   ]
  },
  {
   "cell_type": "markdown",
   "metadata": {},
   "source": [
    "### seperate 'year' out of 'product_name' and drop the ones that don't have a year? "
   ]
  },
  {
   "cell_type": "code",
   "execution_count": 246,
   "metadata": {},
   "outputs": [],
   "source": [
    "df['year']= df.product_name.str.extract('(\\d+)')"
   ]
  },
  {
   "cell_type": "code",
   "execution_count": 258,
   "metadata": {},
   "outputs": [
    {
     "data": {
      "text/html": [
       "<div>\n",
       "<style scoped>\n",
       "    .dataframe tbody tr th:only-of-type {\n",
       "        vertical-align: middle;\n",
       "    }\n",
       "\n",
       "    .dataframe tbody tr th {\n",
       "        vertical-align: top;\n",
       "    }\n",
       "\n",
       "    .dataframe thead th {\n",
       "        text-align: right;\n",
       "    }\n",
       "</style>\n",
       "<table border=\"1\" class=\"dataframe\">\n",
       "  <thead>\n",
       "    <tr style=\"text-align: right;\">\n",
       "      <th></th>\n",
       "      <th>product_name</th>\n",
       "      <th>price</th>\n",
       "      <th>varietal</th>\n",
       "      <th>rating</th>\n",
       "      <th>rating_count</th>\n",
       "      <th>region</th>\n",
       "      <th>country</th>\n",
       "      <th>year</th>\n",
       "    </tr>\n",
       "  </thead>\n",
       "  <tbody>\n",
       "    <tr>\n",
       "      <th>23726</th>\n",
       "      <td>Greenock Creek Roennfeldt Road Shiraz 2001</td>\n",
       "      <td>399</td>\n",
       "      <td>Syrah/Shiraz</td>\n",
       "      <td>0.0</td>\n",
       "      <td>0.0</td>\n",
       "      <td>Pauillac</td>\n",
       "      <td>Bordeaux, France</td>\n",
       "      <td>2001</td>\n",
       "    </tr>\n",
       "    <tr>\n",
       "      <th>23727</th>\n",
       "      <td>Domaine Francois Raveneau Chablis Valmur Grand...</td>\n",
       "      <td>319</td>\n",
       "      <td>Chardonnay</td>\n",
       "      <td>0.0</td>\n",
       "      <td>0.0</td>\n",
       "      <td>Santa Cruz Mountains</td>\n",
       "      <td>California</td>\n",
       "      <td>1997</td>\n",
       "    </tr>\n",
       "    <tr>\n",
       "      <th>23728</th>\n",
       "      <td>Weingut Willi Schaefer Graacher Domprobst Ries...</td>\n",
       "      <td>169</td>\n",
       "      <td>Riesling</td>\n",
       "      <td>0.0</td>\n",
       "      <td>0.0</td>\n",
       "      <td>Sonoma County</td>\n",
       "      <td>California</td>\n",
       "      <td>1403</td>\n",
       "    </tr>\n",
       "    <tr>\n",
       "      <th>23729</th>\n",
       "      <td>Chateau Mouton Rothschild 1959</td>\n",
       "      <td>2,499</td>\n",
       "      <td>Bordeaux Red Blends</td>\n",
       "      <td>0.0</td>\n",
       "      <td>0.0</td>\n",
       "      <td>Burgundy</td>\n",
       "      <td>France</td>\n",
       "      <td>1959</td>\n",
       "    </tr>\n",
       "    <tr>\n",
       "      <th>23730</th>\n",
       "      <td>Rhys Vineyards Alpine Vineyard Pinot Noir (1.5...</td>\n",
       "      <td>249</td>\n",
       "      <td>Pinot Noir</td>\n",
       "      <td>0.0</td>\n",
       "      <td>0.0</td>\n",
       "      <td>St-Julien</td>\n",
       "      <td>Bordeaux, France</td>\n",
       "      <td>1</td>\n",
       "    </tr>\n",
       "    <tr>\n",
       "      <th>...</th>\n",
       "      <td>...</td>\n",
       "      <td>...</td>\n",
       "      <td>...</td>\n",
       "      <td>...</td>\n",
       "      <td>...</td>\n",
       "      <td>...</td>\n",
       "      <td>...</td>\n",
       "      <td>...</td>\n",
       "    </tr>\n",
       "    <tr>\n",
       "      <th>23813</th>\n",
       "      <td>Chateau Leoville Barton (375ML half-bottle) 2016</td>\n",
       "      <td>109</td>\n",
       "      <td>Bordeaux Red Blends</td>\n",
       "      <td>0.0</td>\n",
       "      <td>0.0</td>\n",
       "      <td>Pauillac</td>\n",
       "      <td>Bordeaux, France</td>\n",
       "      <td>375</td>\n",
       "    </tr>\n",
       "    <tr>\n",
       "      <th>23814</th>\n",
       "      <td>Domaine Leroy Vosne Romanee les Beaux Monts 2005</td>\n",
       "      <td>599</td>\n",
       "      <td>Pinot Noir</td>\n",
       "      <td>0.0</td>\n",
       "      <td>0.0</td>\n",
       "      <td>Mendocino</td>\n",
       "      <td>California</td>\n",
       "      <td>2005</td>\n",
       "    </tr>\n",
       "    <tr>\n",
       "      <th>23815</th>\n",
       "      <td>Chateau Doisy Daene (375ML half-bottle) 2005</td>\n",
       "      <td>29</td>\n",
       "      <td>Other Dessert</td>\n",
       "      <td>0.0</td>\n",
       "      <td>0.0</td>\n",
       "      <td>Sonoma County</td>\n",
       "      <td>California</td>\n",
       "      <td>375</td>\n",
       "    </tr>\n",
       "    <tr>\n",
       "      <th>23816</th>\n",
       "      <td>Chateau Latour (1.5 Liter Magnum) 2000</td>\n",
       "      <td>2,999</td>\n",
       "      <td>Bordeaux Red Blends</td>\n",
       "      <td>0.0</td>\n",
       "      <td>0.0</td>\n",
       "      <td>Russian River</td>\n",
       "      <td>Sonoma County, California</td>\n",
       "      <td>1</td>\n",
       "    </tr>\n",
       "    <tr>\n",
       "      <th>23818</th>\n",
       "      <td>Williams Selyem Peay Vineyard Pinot Noir 2007</td>\n",
       "      <td>100</td>\n",
       "      <td>Pinot Noir</td>\n",
       "      <td>0.0</td>\n",
       "      <td>0.0</td>\n",
       "      <td>St. Helena</td>\n",
       "      <td>Napa Valley, California</td>\n",
       "      <td>2007</td>\n",
       "    </tr>\n",
       "  </tbody>\n",
       "</table>\n",
       "<p>90 rows × 8 columns</p>\n",
       "</div>"
      ],
      "text/plain": [
       "                                            product_name  price  \\\n",
       "23726         Greenock Creek Roennfeldt Road Shiraz 2001    399   \n",
       "23727  Domaine Francois Raveneau Chablis Valmur Grand...    319   \n",
       "23728  Weingut Willi Schaefer Graacher Domprobst Ries...    169   \n",
       "23729                     Chateau Mouton Rothschild 1959  2,499   \n",
       "23730  Rhys Vineyards Alpine Vineyard Pinot Noir (1.5...    249   \n",
       "...                                                  ...    ...   \n",
       "23813   Chateau Leoville Barton (375ML half-bottle) 2016    109   \n",
       "23814   Domaine Leroy Vosne Romanee les Beaux Monts 2005    599   \n",
       "23815       Chateau Doisy Daene (375ML half-bottle) 2005     29   \n",
       "23816             Chateau Latour (1.5 Liter Magnum) 2000  2,999   \n",
       "23818      Williams Selyem Peay Vineyard Pinot Noir 2007    100   \n",
       "\n",
       "                  varietal  rating  rating_count                region  \\\n",
       "23726         Syrah/Shiraz     0.0           0.0              Pauillac   \n",
       "23727           Chardonnay     0.0           0.0  Santa Cruz Mountains   \n",
       "23728             Riesling     0.0           0.0         Sonoma County   \n",
       "23729  Bordeaux Red Blends     0.0           0.0              Burgundy   \n",
       "23730           Pinot Noir     0.0           0.0             St-Julien   \n",
       "...                    ...     ...           ...                   ...   \n",
       "23813  Bordeaux Red Blends     0.0           0.0              Pauillac   \n",
       "23814           Pinot Noir     0.0           0.0             Mendocino   \n",
       "23815        Other Dessert     0.0           0.0         Sonoma County   \n",
       "23816  Bordeaux Red Blends     0.0           0.0         Russian River   \n",
       "23818           Pinot Noir     0.0           0.0            St. Helena   \n",
       "\n",
       "                          country  year  \n",
       "23726            Bordeaux, France  2001  \n",
       "23727                  California  1997  \n",
       "23728                  California  1403  \n",
       "23729                      France  1959  \n",
       "23730            Bordeaux, France     1  \n",
       "...                           ...   ...  \n",
       "23813            Bordeaux, France   375  \n",
       "23814                  California  2005  \n",
       "23815                  California   375  \n",
       "23816   Sonoma County, California     1  \n",
       "23818     Napa Valley, California  2007  \n",
       "\n",
       "[90 rows x 8 columns]"
      ]
     },
     "execution_count": 258,
     "metadata": {},
     "output_type": "execute_result"
    }
   ],
   "source": [
    "df.tail(90)"
   ]
  },
  {
   "cell_type": "code",
   "execution_count": 250,
   "metadata": {},
   "outputs": [
    {
     "name": "stdout",
     "output_type": "stream",
     "text": [
      "<class 'pandas.core.frame.DataFrame'>\n",
      "Int64Index: 22579 entries, 0 to 23818\n",
      "Data columns (total 8 columns):\n",
      " #   Column        Non-Null Count  Dtype  \n",
      "---  ------        --------------  -----  \n",
      " 0   product_name  22579 non-null  object \n",
      " 1   price         22579 non-null  object \n",
      " 2   varietal      22579 non-null  object \n",
      " 3   rating        22579 non-null  float64\n",
      " 4   rating_count  22579 non-null  float64\n",
      " 5   region        22579 non-null  object \n",
      " 6   country       22579 non-null  object \n",
      " 7   year          22579 non-null  object \n",
      "dtypes: float64(2), object(6)\n",
      "memory usage: 1.6+ MB\n"
     ]
    }
   ],
   "source": [
    "df.info()"
   ]
  },
  {
   "cell_type": "code",
   "execution_count": 249,
   "metadata": {},
   "outputs": [],
   "source": [
    "df.dropna(inplace = True)"
   ]
  },
  {
   "cell_type": "markdown",
   "metadata": {},
   "source": [
    "### remove commas and turn price into int "
   ]
  },
  {
   "cell_type": "code",
   "execution_count": 267,
   "metadata": {},
   "outputs": [],
   "source": [
    "df['price'] = df['price'].str.replace(',', '')"
   ]
  },
  {
   "cell_type": "code",
   "execution_count": 269,
   "metadata": {},
   "outputs": [
    {
     "data": {
      "text/plain": [
       "('10', '9999')"
      ]
     },
     "execution_count": 269,
     "metadata": {},
     "output_type": "execute_result"
    }
   ],
   "source": [
    "df['price'].min(), df['price'].max()"
   ]
  },
  {
   "cell_type": "code",
   "execution_count": 270,
   "metadata": {},
   "outputs": [],
   "source": [
    "df['price'] = df['price'].astype(int)"
   ]
  },
  {
   "cell_type": "code",
   "execution_count": 272,
   "metadata": {},
   "outputs": [
    {
     "data": {
      "text/plain": [
       "product_name     object\n",
       "price             int64\n",
       "varietal         object\n",
       "rating          float64\n",
       "rating_count    float64\n",
       "region           object\n",
       "country          object\n",
       "year             object\n",
       "dtype: object"
      ]
     },
     "execution_count": 272,
     "metadata": {},
     "output_type": "execute_result"
    }
   ],
   "source": [
    "df.dtypes"
   ]
  },
  {
   "cell_type": "markdown",
   "metadata": {},
   "source": [
    "## Master Dataframe Below "
   ]
  },
  {
   "cell_type": "code",
   "execution_count": 273,
   "metadata": {},
   "outputs": [
    {
     "data": {
      "text/plain": [
       "(22579, 8)"
      ]
     },
     "execution_count": 273,
     "metadata": {},
     "output_type": "execute_result"
    }
   ],
   "source": [
    "df.shape"
   ]
  },
  {
   "cell_type": "code",
   "execution_count": 274,
   "metadata": {},
   "outputs": [
    {
     "name": "stdout",
     "output_type": "stream",
     "text": [
      "<class 'pandas.core.frame.DataFrame'>\n",
      "Int64Index: 22579 entries, 0 to 23818\n",
      "Data columns (total 8 columns):\n",
      " #   Column        Non-Null Count  Dtype  \n",
      "---  ------        --------------  -----  \n",
      " 0   product_name  22579 non-null  object \n",
      " 1   price         22579 non-null  int64  \n",
      " 2   varietal      22579 non-null  object \n",
      " 3   rating        22579 non-null  float64\n",
      " 4   rating_count  22579 non-null  float64\n",
      " 5   region        22579 non-null  object \n",
      " 6   country       22579 non-null  object \n",
      " 7   year          22579 non-null  object \n",
      "dtypes: float64(2), int64(1), object(5)\n",
      "memory usage: 1.6+ MB\n"
     ]
    }
   ],
   "source": [
    "df.info()"
   ]
  },
  {
   "cell_type": "code",
   "execution_count": 275,
   "metadata": {},
   "outputs": [
    {
     "data": {
      "text/html": [
       "<div>\n",
       "<style scoped>\n",
       "    .dataframe tbody tr th:only-of-type {\n",
       "        vertical-align: middle;\n",
       "    }\n",
       "\n",
       "    .dataframe tbody tr th {\n",
       "        vertical-align: top;\n",
       "    }\n",
       "\n",
       "    .dataframe thead th {\n",
       "        text-align: right;\n",
       "    }\n",
       "</style>\n",
       "<table border=\"1\" class=\"dataframe\">\n",
       "  <thead>\n",
       "    <tr style=\"text-align: right;\">\n",
       "      <th></th>\n",
       "      <th>product_name</th>\n",
       "      <th>price</th>\n",
       "      <th>varietal</th>\n",
       "      <th>rating</th>\n",
       "      <th>rating_count</th>\n",
       "      <th>region</th>\n",
       "      <th>country</th>\n",
       "      <th>year</th>\n",
       "    </tr>\n",
       "  </thead>\n",
       "  <tbody>\n",
       "    <tr>\n",
       "      <th>0</th>\n",
       "      <td>Dom Perignon Vintage with Gift Box 2010</td>\n",
       "      <td>199</td>\n",
       "      <td>Vintage Sparkling Wine</td>\n",
       "      <td>4.5</td>\n",
       "      <td>42.0</td>\n",
       "      <td>Champagne</td>\n",
       "      <td>France</td>\n",
       "      <td>2010</td>\n",
       "    </tr>\n",
       "    <tr>\n",
       "      <th>2</th>\n",
       "      <td>Duckhorn Napa Valley Cabernet Sauvignon 2017</td>\n",
       "      <td>78</td>\n",
       "      <td>Cabernet Sauvignon</td>\n",
       "      <td>4.3</td>\n",
       "      <td>62.0</td>\n",
       "      <td>Napa Valley</td>\n",
       "      <td>California</td>\n",
       "      <td>2017</td>\n",
       "    </tr>\n",
       "    <tr>\n",
       "      <th>3</th>\n",
       "      <td>Caymus Special Selection Cabernet Sauvignon 2016</td>\n",
       "      <td>180</td>\n",
       "      <td>Cabernet Sauvignon</td>\n",
       "      <td>4.6</td>\n",
       "      <td>108.0</td>\n",
       "      <td>Napa Valley</td>\n",
       "      <td>California</td>\n",
       "      <td>2016</td>\n",
       "    </tr>\n",
       "    <tr>\n",
       "      <th>4</th>\n",
       "      <td>Quintessa 2016</td>\n",
       "      <td>199</td>\n",
       "      <td>Cabernet Sauvignon</td>\n",
       "      <td>4.7</td>\n",
       "      <td>73.0</td>\n",
       "      <td>Rutherford</td>\n",
       "      <td>Napa Valley, California</td>\n",
       "      <td>2016</td>\n",
       "    </tr>\n",
       "    <tr>\n",
       "      <th>5</th>\n",
       "      <td>Joseph Phelps Insignia 2016</td>\n",
       "      <td>300</td>\n",
       "      <td>Bordeaux Red Blends</td>\n",
       "      <td>4.6</td>\n",
       "      <td>81.0</td>\n",
       "      <td>Napa Valley</td>\n",
       "      <td>California</td>\n",
       "      <td>2016</td>\n",
       "    </tr>\n",
       "  </tbody>\n",
       "</table>\n",
       "</div>"
      ],
      "text/plain": [
       "                                       product_name  price  \\\n",
       "0           Dom Perignon Vintage with Gift Box 2010    199   \n",
       "2      Duckhorn Napa Valley Cabernet Sauvignon 2017     78   \n",
       "3  Caymus Special Selection Cabernet Sauvignon 2016    180   \n",
       "4                                    Quintessa 2016    199   \n",
       "5                       Joseph Phelps Insignia 2016    300   \n",
       "\n",
       "                 varietal  rating  rating_count       region  \\\n",
       "0  Vintage Sparkling Wine     4.5          42.0    Champagne   \n",
       "2      Cabernet Sauvignon     4.3          62.0  Napa Valley   \n",
       "3      Cabernet Sauvignon     4.6         108.0  Napa Valley   \n",
       "4      Cabernet Sauvignon     4.7          73.0   Rutherford   \n",
       "5     Bordeaux Red Blends     4.6          81.0  Napa Valley   \n",
       "\n",
       "                    country  year  \n",
       "0                    France  2010  \n",
       "2                California  2017  \n",
       "3                California  2016  \n",
       "4   Napa Valley, California  2016  \n",
       "5                California  2016  "
      ]
     },
     "execution_count": 275,
     "metadata": {},
     "output_type": "execute_result"
    }
   ],
   "source": [
    "df.head()"
   ]
  },
  {
   "cell_type": "code",
   "execution_count": 276,
   "metadata": {},
   "outputs": [],
   "source": [
    "df.to_csv('wine_master_dataset.csv')"
   ]
  },
  {
   "cell_type": "code",
   "execution_count": null,
   "metadata": {},
   "outputs": [],
   "source": []
  }
 ],
 "metadata": {
  "kernelspec": {
   "display_name": "Python 3",
   "language": "python",
   "name": "python3"
  },
  "language_info": {
   "codemirror_mode": {
    "name": "ipython",
    "version": 3
   },
   "file_extension": ".py",
   "mimetype": "text/x-python",
   "name": "python",
   "nbconvert_exporter": "python",
   "pygments_lexer": "ipython3",
   "version": "3.8.3"
  }
 },
 "nbformat": 4,
 "nbformat_minor": 2
}
