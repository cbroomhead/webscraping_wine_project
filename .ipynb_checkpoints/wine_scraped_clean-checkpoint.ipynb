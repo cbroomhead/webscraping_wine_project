{
 "cells": [
  {
   "cell_type": "code",
   "execution_count": 161,
   "metadata": {},
   "outputs": [],
   "source": [
    "import pandas as pd"
   ]
  },
  {
   "cell_type": "code",
   "execution_count": 174,
   "metadata": {},
   "outputs": [],
   "source": [
    "df = pd.read_csv('wine_scraped_dataset.csv', index_col=0)"
   ]
  },
  {
   "cell_type": "markdown",
   "metadata": {},
   "source": [
    "## Assess "
   ]
  },
  {
   "cell_type": "code",
   "execution_count": 175,
   "metadata": {},
   "outputs": [
    {
     "name": "stdout",
     "output_type": "stream",
     "text": [
      "<class 'pandas.core.frame.DataFrame'>\n",
      "Int64Index: 23822 entries, 0 to 23821\n",
      "Data columns (total 6 columns):\n",
      " #   Column        Non-Null Count  Dtype  \n",
      "---  ------        --------------  -----  \n",
      " 0   product_name  23822 non-null  object \n",
      " 1   price         23822 non-null  object \n",
      " 2   varietal      23822 non-null  object \n",
      " 3   origin        23819 non-null  object \n",
      " 4   rating        23822 non-null  float64\n",
      " 5   rating_count  23822 non-null  int64  \n",
      "dtypes: float64(1), int64(1), object(4)\n",
      "memory usage: 1.3+ MB\n"
     ]
    }
   ],
   "source": [
    "df.info()"
   ]
  },
  {
   "cell_type": "code",
   "execution_count": 176,
   "metadata": {},
   "outputs": [
    {
     "data": {
      "text/html": [
       "<div>\n",
       "<style scoped>\n",
       "    .dataframe tbody tr th:only-of-type {\n",
       "        vertical-align: middle;\n",
       "    }\n",
       "\n",
       "    .dataframe tbody tr th {\n",
       "        vertical-align: top;\n",
       "    }\n",
       "\n",
       "    .dataframe thead th {\n",
       "        text-align: right;\n",
       "    }\n",
       "</style>\n",
       "<table border=\"1\" class=\"dataframe\">\n",
       "  <thead>\n",
       "    <tr style=\"text-align: right;\">\n",
       "      <th></th>\n",
       "      <th>product_name</th>\n",
       "      <th>price</th>\n",
       "      <th>varietal</th>\n",
       "      <th>origin</th>\n",
       "      <th>rating</th>\n",
       "      <th>rating_count</th>\n",
       "    </tr>\n",
       "  </thead>\n",
       "  <tbody>\n",
       "    <tr>\n",
       "      <th>0</th>\n",
       "      <td>Dom Perignon Vintage with Gift Box 2010</td>\n",
       "      <td>199</td>\n",
       "      <td>Vintage Sparkling Wine</td>\n",
       "      <td>Champagne, France</td>\n",
       "      <td>4.5</td>\n",
       "      <td>42</td>\n",
       "    </tr>\n",
       "    <tr>\n",
       "      <th>1</th>\n",
       "      <td>Veuve Clicquot Yellow Label Brut</td>\n",
       "      <td>59</td>\n",
       "      <td>Non-Vintage Sparkling Wine</td>\n",
       "      <td>Champagne, France</td>\n",
       "      <td>4.4</td>\n",
       "      <td>1138</td>\n",
       "    </tr>\n",
       "    <tr>\n",
       "      <th>2</th>\n",
       "      <td>Duckhorn Napa Valley Cabernet Sauvignon 2017</td>\n",
       "      <td>78</td>\n",
       "      <td>Cabernet Sauvignon</td>\n",
       "      <td>Napa Valley, California</td>\n",
       "      <td>4.3</td>\n",
       "      <td>62</td>\n",
       "    </tr>\n",
       "    <tr>\n",
       "      <th>3</th>\n",
       "      <td>Caymus Special Selection Cabernet Sauvignon 2016</td>\n",
       "      <td>180</td>\n",
       "      <td>Cabernet Sauvignon</td>\n",
       "      <td>Napa Valley, California</td>\n",
       "      <td>4.6</td>\n",
       "      <td>108</td>\n",
       "    </tr>\n",
       "    <tr>\n",
       "      <th>4</th>\n",
       "      <td>Quintessa 2016</td>\n",
       "      <td>199</td>\n",
       "      <td>Cabernet Sauvignon</td>\n",
       "      <td>Rutherford, Napa Valley, California</td>\n",
       "      <td>4.7</td>\n",
       "      <td>73</td>\n",
       "    </tr>\n",
       "  </tbody>\n",
       "</table>\n",
       "</div>"
      ],
      "text/plain": [
       "                                       product_name price  \\\n",
       "0           Dom Perignon Vintage with Gift Box 2010   199   \n",
       "1                  Veuve Clicquot Yellow Label Brut    59   \n",
       "2      Duckhorn Napa Valley Cabernet Sauvignon 2017    78   \n",
       "3  Caymus Special Selection Cabernet Sauvignon 2016   180   \n",
       "4                                    Quintessa 2016   199   \n",
       "\n",
       "                     varietal                               origin  rating  \\\n",
       "0      Vintage Sparkling Wine                    Champagne, France     4.5   \n",
       "1  Non-Vintage Sparkling Wine                    Champagne, France     4.4   \n",
       "2          Cabernet Sauvignon              Napa Valley, California     4.3   \n",
       "3          Cabernet Sauvignon              Napa Valley, California     4.6   \n",
       "4          Cabernet Sauvignon  Rutherford, Napa Valley, California     4.7   \n",
       "\n",
       "   rating_count  \n",
       "0            42  \n",
       "1          1138  \n",
       "2            62  \n",
       "3           108  \n",
       "4            73  "
      ]
     },
     "execution_count": 176,
     "metadata": {},
     "output_type": "execute_result"
    }
   ],
   "source": [
    "df.head()"
   ]
  },
  {
   "cell_type": "code",
   "execution_count": 177,
   "metadata": {},
   "outputs": [
    {
     "data": {
      "text/plain": [
       "array(['Agiorgitiko', 'Aglianico', 'Albarino', 'Alicante Bouschet',\n",
       "       'Arneis', 'Assyrtiko', 'Baga', 'Barbera', 'Blaufrankisch', 'Bobal',\n",
       "       'Bordeaux Red Blends', 'Bordeaux White Blends', 'Cabernet Franc',\n",
       "       'Cabernet Sauvignon', 'Carignan', 'Carmenere', 'Chardonnay',\n",
       "       'Chenin Blanc', 'Cinsault', 'Corvina', 'Dolcetto', 'Fiano',\n",
       "       'Friulano', 'Fruit Wine', 'Furmint', 'Gamay', 'Garganega',\n",
       "       'Gewurztraminer', 'Godello', 'Greco', 'Grenache', 'Grenache Blanc',\n",
       "       'Gruner Veltliner', 'Lagrein', 'Madeira', 'Malbec', 'Malvasia',\n",
       "       'Marsanne', 'Melon de Bourgogne', 'Mencia', 'Merlot',\n",
       "       'Montepulciano', 'Mourvedre', 'Muscat', 'Nebbiolo',\n",
       "       'Nerello Mascalese', \"Nero d'Avola\", 'Non-Vintage Sparkling Wine',\n",
       "       'Other Dessert', 'Other Red Blends', 'Other Red Wine',\n",
       "       'Other White Blends', 'Other White Wine', 'Petit Verdot',\n",
       "       'Petite Sirah', 'Pinot Blanc', 'Pinot Gris/Grigio', 'Pinot Noir',\n",
       "       'Pinotage', 'Port', 'Red Sparkling Wine', 'Rhone Red Blends',\n",
       "       'Rhone White Blends', 'Riesling', 'Rosé', 'Rosé Sparkling Wine',\n",
       "       'Roussanne', 'Sagrantino', 'Sangiovese', 'Sauvignon Blanc',\n",
       "       'Semillon', 'Sherry', 'Syrah/Shiraz', 'Tannat', 'Tempranillo',\n",
       "       'Torrontes', 'Touriga Nacional', 'Tuscan Blends', 'Valdiguie',\n",
       "       'Verdejo', 'Verdicchio', 'Vermentino', 'Vermouth',\n",
       "       'Vintage Sparkling Wine', 'Viognier', 'Viura', 'Xinomavro',\n",
       "       'Zinfandel'], dtype=object)"
      ]
     },
     "execution_count": 177,
     "metadata": {},
     "output_type": "execute_result"
    }
   ],
   "source": [
    "df['varietal'].sort_values().unique()"
   ]
  },
  {
   "cell_type": "markdown",
   "metadata": {},
   "source": [
    "### Cleaning "
   ]
  },
  {
   "cell_type": "markdown",
   "metadata": {},
   "source": [
    "The following items have been indentified as tidiness/ quality issues:\n",
    "- 'origin' is missing three values\n",
    "- Seperate 'origin' into 'region' and 'country'\n",
    "- Remove non wines from varietals: 'Port' 'Non-Vintage Sparkling Wine' 'Vintage Sparkling Wine'\n",
    "\n",
    "- Seperate 'year' out of 'product_name' and drop the ones that don't have a year?"
   ]
  },
  {
   "cell_type": "markdown",
   "metadata": {},
   "source": [
    "### 'origin' is missing three values "
   ]
  },
  {
   "cell_type": "code",
   "execution_count": 178,
   "metadata": {},
   "outputs": [],
   "source": [
    "df = df[df['origin'].notna()]"
   ]
  },
  {
   "cell_type": "code",
   "execution_count": 179,
   "metadata": {},
   "outputs": [
    {
     "name": "stdout",
     "output_type": "stream",
     "text": [
      "<class 'pandas.core.frame.DataFrame'>\n",
      "Int64Index: 23819 entries, 0 to 23821\n",
      "Data columns (total 6 columns):\n",
      " #   Column        Non-Null Count  Dtype  \n",
      "---  ------        --------------  -----  \n",
      " 0   product_name  23819 non-null  object \n",
      " 1   price         23819 non-null  object \n",
      " 2   varietal      23819 non-null  object \n",
      " 3   origin        23819 non-null  object \n",
      " 4   rating        23819 non-null  float64\n",
      " 5   rating_count  23819 non-null  int64  \n",
      "dtypes: float64(1), int64(1), object(4)\n",
      "memory usage: 1.3+ MB\n"
     ]
    }
   ],
   "source": [
    "df.info()"
   ]
  },
  {
   "cell_type": "markdown",
   "metadata": {},
   "source": [
    "###  separate 'origin' into 'region' and 'country'"
   ]
  },
  {
   "cell_type": "code",
   "execution_count": 180,
   "metadata": {},
   "outputs": [
    {
     "data": {
      "text/html": [
       "<div>\n",
       "<style scoped>\n",
       "    .dataframe tbody tr th:only-of-type {\n",
       "        vertical-align: middle;\n",
       "    }\n",
       "\n",
       "    .dataframe tbody tr th {\n",
       "        vertical-align: top;\n",
       "    }\n",
       "\n",
       "    .dataframe thead th {\n",
       "        text-align: right;\n",
       "    }\n",
       "</style>\n",
       "<table border=\"1\" class=\"dataframe\">\n",
       "  <thead>\n",
       "    <tr style=\"text-align: right;\">\n",
       "      <th></th>\n",
       "      <th>product_name</th>\n",
       "      <th>price</th>\n",
       "      <th>varietal</th>\n",
       "      <th>origin</th>\n",
       "      <th>rating</th>\n",
       "      <th>rating_count</th>\n",
       "    </tr>\n",
       "  </thead>\n",
       "  <tbody>\n",
       "    <tr>\n",
       "      <th>0</th>\n",
       "      <td>Dom Perignon Vintage with Gift Box 2010</td>\n",
       "      <td>199</td>\n",
       "      <td>Vintage Sparkling Wine</td>\n",
       "      <td>Champagne, France</td>\n",
       "      <td>4.5</td>\n",
       "      <td>42</td>\n",
       "    </tr>\n",
       "    <tr>\n",
       "      <th>1</th>\n",
       "      <td>Veuve Clicquot Yellow Label Brut</td>\n",
       "      <td>59</td>\n",
       "      <td>Non-Vintage Sparkling Wine</td>\n",
       "      <td>Champagne, France</td>\n",
       "      <td>4.4</td>\n",
       "      <td>1138</td>\n",
       "    </tr>\n",
       "    <tr>\n",
       "      <th>2</th>\n",
       "      <td>Duckhorn Napa Valley Cabernet Sauvignon 2017</td>\n",
       "      <td>78</td>\n",
       "      <td>Cabernet Sauvignon</td>\n",
       "      <td>Napa Valley, California</td>\n",
       "      <td>4.3</td>\n",
       "      <td>62</td>\n",
       "    </tr>\n",
       "    <tr>\n",
       "      <th>3</th>\n",
       "      <td>Caymus Special Selection Cabernet Sauvignon 2016</td>\n",
       "      <td>180</td>\n",
       "      <td>Cabernet Sauvignon</td>\n",
       "      <td>Napa Valley, California</td>\n",
       "      <td>4.6</td>\n",
       "      <td>108</td>\n",
       "    </tr>\n",
       "    <tr>\n",
       "      <th>4</th>\n",
       "      <td>Quintessa 2016</td>\n",
       "      <td>199</td>\n",
       "      <td>Cabernet Sauvignon</td>\n",
       "      <td>Rutherford, Napa Valley, California</td>\n",
       "      <td>4.7</td>\n",
       "      <td>73</td>\n",
       "    </tr>\n",
       "  </tbody>\n",
       "</table>\n",
       "</div>"
      ],
      "text/plain": [
       "                                       product_name price  \\\n",
       "0           Dom Perignon Vintage with Gift Box 2010   199   \n",
       "1                  Veuve Clicquot Yellow Label Brut    59   \n",
       "2      Duckhorn Napa Valley Cabernet Sauvignon 2017    78   \n",
       "3  Caymus Special Selection Cabernet Sauvignon 2016   180   \n",
       "4                                    Quintessa 2016   199   \n",
       "\n",
       "                     varietal                               origin  rating  \\\n",
       "0      Vintage Sparkling Wine                    Champagne, France     4.5   \n",
       "1  Non-Vintage Sparkling Wine                    Champagne, France     4.4   \n",
       "2          Cabernet Sauvignon              Napa Valley, California     4.3   \n",
       "3          Cabernet Sauvignon              Napa Valley, California     4.6   \n",
       "4          Cabernet Sauvignon  Rutherford, Napa Valley, California     4.7   \n",
       "\n",
       "   rating_count  \n",
       "0            42  \n",
       "1          1138  \n",
       "2            62  \n",
       "3           108  \n",
       "4            73  "
      ]
     },
     "execution_count": 180,
     "metadata": {},
     "output_type": "execute_result"
    }
   ],
   "source": [
    "df.head()"
   ]
  },
  {
   "cell_type": "code",
   "execution_count": 231,
   "metadata": {},
   "outputs": [],
   "source": [
    "df_or = df.copy()"
   ]
  },
  {
   "cell_type": "code",
   "execution_count": 232,
   "metadata": {},
   "outputs": [],
   "source": [
    "df_or = df.origin.str.rsplit(',').str[-2:]"
   ]
  },
  {
   "cell_type": "code",
   "execution_count": 234,
   "metadata": {},
   "outputs": [],
   "source": [
    "df_or = df_or.to_frame()"
   ]
  },
  {
   "cell_type": "code",
   "execution_count": 236,
   "metadata": {},
   "outputs": [],
   "source": [
    "df_or = pd.DataFrame(df.origin.str.split(',', 1).tolist(),\n",
    "                                 columns = ['region','country'])"
   ]
  },
  {
   "cell_type": "code",
   "execution_count": 237,
   "metadata": {},
   "outputs": [
    {
     "data": {
      "text/html": [
       "<div>\n",
       "<style scoped>\n",
       "    .dataframe tbody tr th:only-of-type {\n",
       "        vertical-align: middle;\n",
       "    }\n",
       "\n",
       "    .dataframe tbody tr th {\n",
       "        vertical-align: top;\n",
       "    }\n",
       "\n",
       "    .dataframe thead th {\n",
       "        text-align: right;\n",
       "    }\n",
       "</style>\n",
       "<table border=\"1\" class=\"dataframe\">\n",
       "  <thead>\n",
       "    <tr style=\"text-align: right;\">\n",
       "      <th></th>\n",
       "      <th>region</th>\n",
       "      <th>country</th>\n",
       "    </tr>\n",
       "  </thead>\n",
       "  <tbody>\n",
       "    <tr>\n",
       "      <th>0</th>\n",
       "      <td>Champagne</td>\n",
       "      <td>France</td>\n",
       "    </tr>\n",
       "    <tr>\n",
       "      <th>1</th>\n",
       "      <td>Champagne</td>\n",
       "      <td>France</td>\n",
       "    </tr>\n",
       "    <tr>\n",
       "      <th>2</th>\n",
       "      <td>Napa Valley</td>\n",
       "      <td>California</td>\n",
       "    </tr>\n",
       "    <tr>\n",
       "      <th>3</th>\n",
       "      <td>Napa Valley</td>\n",
       "      <td>California</td>\n",
       "    </tr>\n",
       "    <tr>\n",
       "      <th>4</th>\n",
       "      <td>Rutherford</td>\n",
       "      <td>Napa Valley, California</td>\n",
       "    </tr>\n",
       "    <tr>\n",
       "      <th>...</th>\n",
       "      <td>...</td>\n",
       "      <td>...</td>\n",
       "    </tr>\n",
       "    <tr>\n",
       "      <th>23814</th>\n",
       "      <td>Mendocino</td>\n",
       "      <td>California</td>\n",
       "    </tr>\n",
       "    <tr>\n",
       "      <th>23815</th>\n",
       "      <td>Sonoma County</td>\n",
       "      <td>California</td>\n",
       "    </tr>\n",
       "    <tr>\n",
       "      <th>23816</th>\n",
       "      <td>Russian River</td>\n",
       "      <td>Sonoma County, California</td>\n",
       "    </tr>\n",
       "    <tr>\n",
       "      <th>23817</th>\n",
       "      <td>California</td>\n",
       "      <td>None</td>\n",
       "    </tr>\n",
       "    <tr>\n",
       "      <th>23818</th>\n",
       "      <td>St. Helena</td>\n",
       "      <td>Napa Valley, California</td>\n",
       "    </tr>\n",
       "  </tbody>\n",
       "</table>\n",
       "<p>23819 rows × 2 columns</p>\n",
       "</div>"
      ],
      "text/plain": [
       "              region                     country\n",
       "0          Champagne                      France\n",
       "1          Champagne                      France\n",
       "2        Napa Valley                  California\n",
       "3        Napa Valley                  California\n",
       "4         Rutherford     Napa Valley, California\n",
       "...              ...                         ...\n",
       "23814      Mendocino                  California\n",
       "23815  Sonoma County                  California\n",
       "23816  Russian River   Sonoma County, California\n",
       "23817     California                        None\n",
       "23818     St. Helena     Napa Valley, California\n",
       "\n",
       "[23819 rows x 2 columns]"
      ]
     },
     "execution_count": 237,
     "metadata": {},
     "output_type": "execute_result"
    }
   ],
   "source": [
    "df_or"
   ]
  },
  {
   "cell_type": "code",
   "execution_count": 238,
   "metadata": {},
   "outputs": [
    {
     "name": "stdout",
     "output_type": "stream",
     "text": [
      "<class 'pandas.core.frame.DataFrame'>\n",
      "RangeIndex: 23819 entries, 0 to 23818\n",
      "Data columns (total 2 columns):\n",
      " #   Column   Non-Null Count  Dtype \n",
      "---  ------   --------------  ----- \n",
      " 0   region   23819 non-null  object\n",
      " 1   country  22688 non-null  object\n",
      "dtypes: object(2)\n",
      "memory usage: 372.3+ KB\n"
     ]
    }
   ],
   "source": [
    "df_or.info()"
   ]
  },
  {
   "cell_type": "code",
   "execution_count": 239,
   "metadata": {},
   "outputs": [],
   "source": [
    "df.drop('origin', axis = 1, inplace = True)"
   ]
  },
  {
   "cell_type": "code",
   "execution_count": 240,
   "metadata": {},
   "outputs": [],
   "source": [
    "df = pd.concat([df, df_or], axis=1)"
   ]
  },
  {
   "cell_type": "code",
   "execution_count": 241,
   "metadata": {},
   "outputs": [],
   "source": [
    "df.dropna(inplace = True)"
   ]
  },
  {
   "cell_type": "code",
   "execution_count": 242,
   "metadata": {},
   "outputs": [
    {
     "name": "stdout",
     "output_type": "stream",
     "text": [
      "<class 'pandas.core.frame.DataFrame'>\n",
      "Int64Index: 22685 entries, 0 to 23818\n",
      "Data columns (total 7 columns):\n",
      " #   Column        Non-Null Count  Dtype  \n",
      "---  ------        --------------  -----  \n",
      " 0   product_name  22685 non-null  object \n",
      " 1   price         22685 non-null  object \n",
      " 2   varietal      22685 non-null  object \n",
      " 3   rating        22685 non-null  float64\n",
      " 4   rating_count  22685 non-null  float64\n",
      " 5   region        22685 non-null  object \n",
      " 6   country       22685 non-null  object \n",
      "dtypes: float64(2), object(5)\n",
      "memory usage: 1.4+ MB\n"
     ]
    }
   ],
   "source": [
    "df.info()"
   ]
  },
  {
   "cell_type": "markdown",
   "metadata": {},
   "source": [
    "### remove non wines from varietals: 'Port' 'Non-Vintage Sparkling Wine' 'Vintage Sparkling Wine' "
   ]
  },
  {
   "cell_type": "code",
   "execution_count": 147,
   "metadata": {},
   "outputs": [],
   "source": [
    "df_varietals = df.copy()"
   ]
  },
  {
   "cell_type": "code",
   "execution_count": 148,
   "metadata": {},
   "outputs": [],
   "source": [
    "non_varietals = ['Port', 'Non-Vintage Sparkling Wine', 'Vintage Sparkling Wine']\n",
    "# Delete these row indexes from dataFrame\n",
    "df_varietals = df_varietals[~df_varietals['varietal'].isin(non_varietals)]"
   ]
  },
  {
   "cell_type": "code",
   "execution_count": 149,
   "metadata": {},
   "outputs": [
    {
     "data": {
      "text/plain": [
       "array(['Agiorgitiko', 'Aglianico', 'Albarino', 'Alicante Bouschet',\n",
       "       'Arneis', 'Assyrtiko', 'Baga', 'Barbera', 'Blaufrankisch', 'Bobal',\n",
       "       'Bordeaux Red Blends', 'Bordeaux White Blends', 'Cabernet Franc',\n",
       "       'Cabernet Sauvignon', 'Carignan', 'Carmenere', 'Chardonnay',\n",
       "       'Chenin Blanc', 'Corvina', 'Dolcetto', 'Fiano', 'Friulano',\n",
       "       'Fruit Wine', 'Furmint', 'Gamay', 'Garganega', 'Gewurztraminer',\n",
       "       'Godello', 'Greco', 'Grenache', 'Grenache Blanc',\n",
       "       'Gruner Veltliner', 'Lagrein', 'Madeira', 'Malbec', 'Marsanne',\n",
       "       'Melon de Bourgogne', 'Mencia', 'Merlot', 'Montepulciano',\n",
       "       'Mourvedre', 'Muscat', 'Nebbiolo', 'Nerello Mascalese',\n",
       "       \"Nero d'Avola\", 'Other Dessert', 'Other Red Blends',\n",
       "       'Other Red Wine', 'Other White Blends', 'Other White Wine',\n",
       "       'Petit Verdot', 'Petite Sirah', 'Pinot Blanc', 'Pinot Gris/Grigio',\n",
       "       'Pinot Noir', 'Pinotage', 'Red Sparkling Wine', 'Rhone Red Blends',\n",
       "       'Rhone White Blends', 'Riesling', 'Rosé', 'Rosé Sparkling Wine',\n",
       "       'Roussanne', 'Sagrantino', 'Sangiovese', 'Sauvignon Blanc',\n",
       "       'Semillon', 'Sherry', 'Syrah/Shiraz', 'Tannat', 'Tempranillo',\n",
       "       'Torrontes', 'Touriga Nacional', 'Tuscan Blends', 'Valdiguie',\n",
       "       'Verdejo', 'Verdicchio', 'Vermentino', 'Vermouth', 'Viognier',\n",
       "       'Viura', 'Xinomavro', 'Zinfandel'], dtype=object)"
      ]
     },
     "execution_count": 149,
     "metadata": {},
     "output_type": "execute_result"
    }
   ],
   "source": [
    "# this is the df with the non-wine varietals\n",
    "df_varietals['varietal'].sort_values().unique()"
   ]
  },
  {
   "cell_type": "markdown",
   "metadata": {},
   "source": [
    "### seperate 'year' out of 'product_name' and drop the ones that don't have a year? "
   ]
  },
  {
   "cell_type": "code",
   "execution_count": 150,
   "metadata": {},
   "outputs": [
    {
     "name": "stdout",
     "output_type": "stream",
     "text": [
      "<class 'pandas.core.frame.DataFrame'>\n",
      "Int64Index: 22685 entries, 0 to 23818\n",
      "Data columns (total 7 columns):\n",
      " #   Column        Non-Null Count  Dtype  \n",
      "---  ------        --------------  -----  \n",
      " 0   product_name  22685 non-null  object \n",
      " 1   price         22685 non-null  object \n",
      " 2   varietal      22685 non-null  object \n",
      " 3   rating        22685 non-null  float64\n",
      " 4   rating_count  22685 non-null  float64\n",
      " 5   city          22685 non-null  object \n",
      " 6   region        22685 non-null  object \n",
      "dtypes: float64(2), object(5)\n",
      "memory usage: 1.4+ MB\n"
     ]
    }
   ],
   "source": [
    "df.info()"
   ]
  },
  {
   "cell_type": "code",
   "execution_count": 153,
   "metadata": {},
   "outputs": [],
   "source": [
    "df_2 = pd.DataFrame(df.product_name.str.rsplit(' ',1).tolist(),\n",
    "                                 columns = ['product','year'])"
   ]
  },
  {
   "cell_type": "code",
   "execution_count": 154,
   "metadata": {},
   "outputs": [],
   "source": [
    "df = pd.concat([df, df_2], axis=1)"
   ]
  },
  {
   "cell_type": "code",
   "execution_count": 157,
   "metadata": {},
   "outputs": [
    {
     "data": {
      "text/html": [
       "<div>\n",
       "<style scoped>\n",
       "    .dataframe tbody tr th:only-of-type {\n",
       "        vertical-align: middle;\n",
       "    }\n",
       "\n",
       "    .dataframe tbody tr th {\n",
       "        vertical-align: top;\n",
       "    }\n",
       "\n",
       "    .dataframe thead th {\n",
       "        text-align: right;\n",
       "    }\n",
       "</style>\n",
       "<table border=\"1\" class=\"dataframe\">\n",
       "  <thead>\n",
       "    <tr style=\"text-align: right;\">\n",
       "      <th></th>\n",
       "      <th>price</th>\n",
       "      <th>varietal</th>\n",
       "      <th>rating</th>\n",
       "      <th>rating_count</th>\n",
       "      <th>city</th>\n",
       "      <th>region</th>\n",
       "      <th>product</th>\n",
       "      <th>year</th>\n",
       "    </tr>\n",
       "  </thead>\n",
       "  <tbody>\n",
       "    <tr>\n",
       "      <th>0</th>\n",
       "      <td>199</td>\n",
       "      <td>Vintage Sparkling Wine</td>\n",
       "      <td>4.5</td>\n",
       "      <td>42.0</td>\n",
       "      <td>Champagne</td>\n",
       "      <td>France</td>\n",
       "      <td>Dom Perignon Vintage with Gift Box</td>\n",
       "      <td>2010</td>\n",
       "    </tr>\n",
       "    <tr>\n",
       "      <th>1</th>\n",
       "      <td>59</td>\n",
       "      <td>Non-Vintage Sparkling Wine</td>\n",
       "      <td>4.4</td>\n",
       "      <td>1138.0</td>\n",
       "      <td>Champagne</td>\n",
       "      <td>France</td>\n",
       "      <td>Veuve Clicquot Yellow Label</td>\n",
       "      <td>Brut</td>\n",
       "    </tr>\n",
       "    <tr>\n",
       "      <th>2</th>\n",
       "      <td>78</td>\n",
       "      <td>Cabernet Sauvignon</td>\n",
       "      <td>4.3</td>\n",
       "      <td>62.0</td>\n",
       "      <td>Napa Valley</td>\n",
       "      <td>California</td>\n",
       "      <td>Duckhorn Napa Valley Cabernet Sauvignon</td>\n",
       "      <td>2017</td>\n",
       "    </tr>\n",
       "    <tr>\n",
       "      <th>3</th>\n",
       "      <td>180</td>\n",
       "      <td>Cabernet Sauvignon</td>\n",
       "      <td>4.6</td>\n",
       "      <td>108.0</td>\n",
       "      <td>Napa Valley</td>\n",
       "      <td>California</td>\n",
       "      <td>Caymus Special Selection Cabernet Sauvignon</td>\n",
       "      <td>2016</td>\n",
       "    </tr>\n",
       "    <tr>\n",
       "      <th>4</th>\n",
       "      <td>199</td>\n",
       "      <td>Cabernet Sauvignon</td>\n",
       "      <td>4.7</td>\n",
       "      <td>73.0</td>\n",
       "      <td>Rutherford</td>\n",
       "      <td>Napa Valley, California</td>\n",
       "      <td>Quintessa</td>\n",
       "      <td>2016</td>\n",
       "    </tr>\n",
       "    <tr>\n",
       "      <th>...</th>\n",
       "      <td>...</td>\n",
       "      <td>...</td>\n",
       "      <td>...</td>\n",
       "      <td>...</td>\n",
       "      <td>...</td>\n",
       "      <td>...</td>\n",
       "      <td>...</td>\n",
       "      <td>...</td>\n",
       "    </tr>\n",
       "    <tr>\n",
       "      <th>23813</th>\n",
       "      <td>109</td>\n",
       "      <td>Bordeaux Red Blends</td>\n",
       "      <td>0.0</td>\n",
       "      <td>0.0</td>\n",
       "      <td>Pauillac</td>\n",
       "      <td>Bordeaux, France</td>\n",
       "      <td>NaN</td>\n",
       "      <td>NaN</td>\n",
       "    </tr>\n",
       "    <tr>\n",
       "      <th>23814</th>\n",
       "      <td>599</td>\n",
       "      <td>Pinot Noir</td>\n",
       "      <td>0.0</td>\n",
       "      <td>0.0</td>\n",
       "      <td>Mendocino</td>\n",
       "      <td>California</td>\n",
       "      <td>NaN</td>\n",
       "      <td>NaN</td>\n",
       "    </tr>\n",
       "    <tr>\n",
       "      <th>23815</th>\n",
       "      <td>29</td>\n",
       "      <td>Other Dessert</td>\n",
       "      <td>0.0</td>\n",
       "      <td>0.0</td>\n",
       "      <td>Sonoma County</td>\n",
       "      <td>California</td>\n",
       "      <td>NaN</td>\n",
       "      <td>NaN</td>\n",
       "    </tr>\n",
       "    <tr>\n",
       "      <th>23816</th>\n",
       "      <td>2,999</td>\n",
       "      <td>Bordeaux Red Blends</td>\n",
       "      <td>0.0</td>\n",
       "      <td>0.0</td>\n",
       "      <td>Russian River</td>\n",
       "      <td>Sonoma County, California</td>\n",
       "      <td>NaN</td>\n",
       "      <td>NaN</td>\n",
       "    </tr>\n",
       "    <tr>\n",
       "      <th>23818</th>\n",
       "      <td>100</td>\n",
       "      <td>Pinot Noir</td>\n",
       "      <td>0.0</td>\n",
       "      <td>0.0</td>\n",
       "      <td>St. Helena</td>\n",
       "      <td>Napa Valley, California</td>\n",
       "      <td>NaN</td>\n",
       "      <td>NaN</td>\n",
       "    </tr>\n",
       "  </tbody>\n",
       "</table>\n",
       "<p>23785 rows × 8 columns</p>\n",
       "</div>"
      ],
      "text/plain": [
       "       price                    varietal  rating  rating_count           city  \\\n",
       "0        199      Vintage Sparkling Wine     4.5          42.0      Champagne   \n",
       "1         59  Non-Vintage Sparkling Wine     4.4        1138.0      Champagne   \n",
       "2         78          Cabernet Sauvignon     4.3          62.0    Napa Valley   \n",
       "3        180          Cabernet Sauvignon     4.6         108.0    Napa Valley   \n",
       "4        199          Cabernet Sauvignon     4.7          73.0     Rutherford   \n",
       "...      ...                         ...     ...           ...            ...   \n",
       "23813    109         Bordeaux Red Blends     0.0           0.0       Pauillac   \n",
       "23814    599                  Pinot Noir     0.0           0.0      Mendocino   \n",
       "23815     29               Other Dessert     0.0           0.0  Sonoma County   \n",
       "23816  2,999         Bordeaux Red Blends     0.0           0.0  Russian River   \n",
       "23818    100                  Pinot Noir     0.0           0.0     St. Helena   \n",
       "\n",
       "                           region  \\\n",
       "0                          France   \n",
       "1                          France   \n",
       "2                      California   \n",
       "3                      California   \n",
       "4         Napa Valley, California   \n",
       "...                           ...   \n",
       "23813            Bordeaux, France   \n",
       "23814                  California   \n",
       "23815                  California   \n",
       "23816   Sonoma County, California   \n",
       "23818     Napa Valley, California   \n",
       "\n",
       "                                           product  year  \n",
       "0               Dom Perignon Vintage with Gift Box  2010  \n",
       "1                      Veuve Clicquot Yellow Label  Brut  \n",
       "2          Duckhorn Napa Valley Cabernet Sauvignon  2017  \n",
       "3      Caymus Special Selection Cabernet Sauvignon  2016  \n",
       "4                                        Quintessa  2016  \n",
       "...                                            ...   ...  \n",
       "23813                                          NaN   NaN  \n",
       "23814                                          NaN   NaN  \n",
       "23815                                          NaN   NaN  \n",
       "23816                                          NaN   NaN  \n",
       "23818                                          NaN   NaN  \n",
       "\n",
       "[23785 rows x 8 columns]"
      ]
     },
     "execution_count": 157,
     "metadata": {},
     "output_type": "execute_result"
    }
   ],
   "source": [
    "df.drop('product_name', axis = 1)"
   ]
  },
  {
   "cell_type": "code",
   "execution_count": 160,
   "metadata": {},
   "outputs": [
    {
     "data": {
      "text/plain": [
       "array(['(375ML)', '(500ML)', '(half-bottle)', '1908', '1920', '1951',\n",
       "       '1955', '1959', '1963', '1964', '1965', '1966', '1967', '1968',\n",
       "       '1970', '1971', '1975', '1976', '1977', '1978', '1979', '1980',\n",
       "       '1981', '1982', '1983', '1984', '1985', '1986', '1987', '1988',\n",
       "       '1989', '1990', '1991', '1992', '1993', '1994', '1995', '1996',\n",
       "       '1997', '1998', '1999', '2000', '2001', '2002', '2003', '2004',\n",
       "       '2005', '2006', '2006-2009', '2007', '2008', '2009', '2009)',\n",
       "       '2010', '2011', '2012', '2013', '2014', '2015', '2016', '2017',\n",
       "       '2018', '2019', '2020', '24', '3-Pack', 'Alto', 'Bianco', 'Blanco',\n",
       "       'Bois', 'Bottle)', 'Box', 'Brut', 'Cage)', 'Champagne', 'Chinato',\n",
       "       'Cornet', 'Corregidor', 'Cramant', 'Crayeres', 'Cru', 'Cuvee',\n",
       "       'Dief', 'Edition', 'Edition)', 'Especial', 'Flutes',\n",
       "       'Half-bottle)', 'Inocente', 'Jacket', 'Jeroboam)', 'ML)',\n",
       "       'Madeira', 'Magnum)', 'Malvasia', 'Methusaleh)', 'Methuselah)',\n",
       "       'Minima', 'Mosaique', 'Nature', 'Oloroso', 'Origine', 'Port',\n",
       "       'Premier', 'Prolonge', 'Prosecco', 'Purse', 'Reserve', 'Rojo',\n",
       "       'Rose', 'Rosso', 'Rubis', 'Seco', 'Secret', 'Selezione', 'Set',\n",
       "       'Setubal', 'Sherry', 'Siecle', 'Solera', 'Split)', 'Starboard',\n",
       "       'Superiore', 'Tawny', 'VI', 'VORS', 'VOS', 'Vermouth', 'X',\n",
       "       'XII/XIII', 'XII/XIII/XIV', 'Ximenez', 'Years', 'Zero', 'bottle)',\n",
       "       'flutes', 'half-bottle)', 'label)', nan], dtype=object)"
      ]
     },
     "execution_count": 160,
     "metadata": {},
     "output_type": "execute_result"
    }
   ],
   "source": [
    "df['year'].sort_values().unique()"
   ]
  },
  {
   "cell_type": "code",
   "execution_count": null,
   "metadata": {},
   "outputs": [],
   "source": []
  }
 ],
 "metadata": {
  "kernelspec": {
   "display_name": "Python 3",
   "language": "python",
   "name": "python3"
  },
  "language_info": {
   "codemirror_mode": {
    "name": "ipython",
    "version": 3
   },
   "file_extension": ".py",
   "mimetype": "text/x-python",
   "name": "python",
   "nbconvert_exporter": "python",
   "pygments_lexer": "ipython3",
   "version": "3.8.3"
  }
 },
 "nbformat": 4,
 "nbformat_minor": 2
}
