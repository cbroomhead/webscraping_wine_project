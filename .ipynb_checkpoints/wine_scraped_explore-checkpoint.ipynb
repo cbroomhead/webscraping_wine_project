{
 "cells": [
  {
   "cell_type": "code",
   "execution_count": 2,
   "metadata": {},
   "outputs": [],
   "source": [
    "import pandas as pd"
   ]
  },
  {
   "cell_type": "code",
   "execution_count": 3,
   "metadata": {},
   "outputs": [],
   "source": [
    "df = pd.read_csv('wine_scraped_dataset.csv')"
   ]
  },
  {
   "cell_type": "code",
   "execution_count": 4,
   "metadata": {},
   "outputs": [
    {
     "data": {
      "text/html": [
       "<div>\n",
       "<style scoped>\n",
       "    .dataframe tbody tr th:only-of-type {\n",
       "        vertical-align: middle;\n",
       "    }\n",
       "\n",
       "    .dataframe tbody tr th {\n",
       "        vertical-align: top;\n",
       "    }\n",
       "\n",
       "    .dataframe thead th {\n",
       "        text-align: right;\n",
       "    }\n",
       "</style>\n",
       "<table border=\"1\" class=\"dataframe\">\n",
       "  <thead>\n",
       "    <tr style=\"text-align: right;\">\n",
       "      <th></th>\n",
       "      <th>Unnamed: 0</th>\n",
       "      <th>product_name</th>\n",
       "      <th>price</th>\n",
       "      <th>varietal</th>\n",
       "      <th>origin</th>\n",
       "      <th>rating</th>\n",
       "      <th>rating_count</th>\n",
       "    </tr>\n",
       "  </thead>\n",
       "  <tbody>\n",
       "    <tr>\n",
       "      <th>0</th>\n",
       "      <td>0</td>\n",
       "      <td>Dom Perignon Vintage with Gift Box 2010</td>\n",
       "      <td>199</td>\n",
       "      <td>Vintage Sparkling Wine</td>\n",
       "      <td>Champagne, France</td>\n",
       "      <td>4.5</td>\n",
       "      <td>42</td>\n",
       "    </tr>\n",
       "    <tr>\n",
       "      <th>1</th>\n",
       "      <td>1</td>\n",
       "      <td>Veuve Clicquot Yellow Label Brut</td>\n",
       "      <td>59</td>\n",
       "      <td>Non-Vintage Sparkling Wine</td>\n",
       "      <td>Champagne, France</td>\n",
       "      <td>4.4</td>\n",
       "      <td>1138</td>\n",
       "    </tr>\n",
       "    <tr>\n",
       "      <th>2</th>\n",
       "      <td>2</td>\n",
       "      <td>Duckhorn Napa Valley Cabernet Sauvignon 2017</td>\n",
       "      <td>78</td>\n",
       "      <td>Cabernet Sauvignon</td>\n",
       "      <td>Napa Valley, California</td>\n",
       "      <td>4.3</td>\n",
       "      <td>62</td>\n",
       "    </tr>\n",
       "    <tr>\n",
       "      <th>3</th>\n",
       "      <td>3</td>\n",
       "      <td>Caymus Special Selection Cabernet Sauvignon 2016</td>\n",
       "      <td>180</td>\n",
       "      <td>Cabernet Sauvignon</td>\n",
       "      <td>Napa Valley, California</td>\n",
       "      <td>4.6</td>\n",
       "      <td>108</td>\n",
       "    </tr>\n",
       "    <tr>\n",
       "      <th>4</th>\n",
       "      <td>4</td>\n",
       "      <td>Quintessa 2016</td>\n",
       "      <td>199</td>\n",
       "      <td>Cabernet Sauvignon</td>\n",
       "      <td>Rutherford, Napa Valley, California</td>\n",
       "      <td>4.7</td>\n",
       "      <td>73</td>\n",
       "    </tr>\n",
       "  </tbody>\n",
       "</table>\n",
       "</div>"
      ],
      "text/plain": [
       "   Unnamed: 0                                      product_name price  \\\n",
       "0           0           Dom Perignon Vintage with Gift Box 2010   199   \n",
       "1           1                  Veuve Clicquot Yellow Label Brut    59   \n",
       "2           2      Duckhorn Napa Valley Cabernet Sauvignon 2017    78   \n",
       "3           3  Caymus Special Selection Cabernet Sauvignon 2016   180   \n",
       "4           4                                    Quintessa 2016   199   \n",
       "\n",
       "                     varietal                               origin  rating  \\\n",
       "0      Vintage Sparkling Wine                    Champagne, France     4.5   \n",
       "1  Non-Vintage Sparkling Wine                    Champagne, France     4.4   \n",
       "2          Cabernet Sauvignon              Napa Valley, California     4.3   \n",
       "3          Cabernet Sauvignon              Napa Valley, California     4.6   \n",
       "4          Cabernet Sauvignon  Rutherford, Napa Valley, California     4.7   \n",
       "\n",
       "   rating_count  \n",
       "0            42  \n",
       "1          1138  \n",
       "2            62  \n",
       "3           108  \n",
       "4            73  "
      ]
     },
     "execution_count": 4,
     "metadata": {},
     "output_type": "execute_result"
    }
   ],
   "source": [
    "df.head()"
   ]
  },
  {
   "cell_type": "code",
   "execution_count": null,
   "metadata": {},
   "outputs": [],
   "source": []
  }
 ],
 "metadata": {
  "kernelspec": {
   "display_name": "Python 3",
   "language": "python",
   "name": "python3"
  },
  "language_info": {
   "codemirror_mode": {
    "name": "ipython",
    "version": 3
   },
   "file_extension": ".py",
   "mimetype": "text/x-python",
   "name": "python",
   "nbconvert_exporter": "python",
   "pygments_lexer": "ipython3",
   "version": "3.8.3"
  }
 },
 "nbformat": 4,
 "nbformat_minor": 2
}
