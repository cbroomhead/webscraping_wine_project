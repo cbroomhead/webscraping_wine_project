{
 "cells": [
  {
   "cell_type": "markdown",
   "metadata": {},
   "source": [
    "https://www.winemag.com/?s=&drink_type=wine&page=1&search_type=reviews"
   ]
  },
  {
   "cell_type": "code",
   "execution_count": 1,
   "metadata": {},
   "outputs": [],
   "source": [
    "from bs4 import NavigableString, Comment\n",
    "from bs4 import BeautifulSoup\n",
    "import os\n",
    "import pandas as pd\n",
    "import requests"
   ]
  },
  {
   "cell_type": "markdown",
   "metadata": {},
   "source": [
    "## Gather "
   ]
  },
  {
   "cell_type": "code",
   "execution_count": 2,
   "metadata": {},
   "outputs": [],
   "source": [
    "URL = 'https://www.wine.com/list/wine/7155?ratingmin=94#'"
   ]
  },
  {
   "cell_type": "code",
   "execution_count": 3,
   "metadata": {},
   "outputs": [],
   "source": [
    "# this will be the list containing all the scraped information, \n",
    "# which will turn into a dataframe\n",
    "web_data = []\n",
    "\n",
    "def get_info(all_li):\n",
    "    for li in all_li:\n",
    "        product_name = li.find('span', class_= 'prodItemInfo_name').string\n",
    "        price = li.find('span', class_='productPrice_price-regWhole').string\n",
    "        varietal = li.find('span', class_='prodItemInfo_varietal').string\n",
    "        origin = li.find('span', class_='prodItemInfo_originText').string\n",
    "        rating = li.find('span', class_='averageRating_average').string\n",
    "        rating_count = li.find('span', class_='averageRating_number').string\n",
    "        web_data.append({'product_name' : product_name,\n",
    "                    'price': price,\n",
    "                    'varietal': varietal,\n",
    "                    'origin': origin,\n",
    "                    'rating': rating,\n",
    "                    'rating_count': rating_count})"
   ]
  },
  {
   "cell_type": "markdown",
   "metadata": {},
   "source": [
    "## Pagination Stuff "
   ]
  },
  {
   "cell_type": "code",
   "execution_count": 4,
   "metadata": {},
   "outputs": [],
   "source": [
    "url_df = []\n",
    "\n",
    "def url_contructor(page_number, url):\n",
    "    first = URL.split('7155', 1)[0]\n",
    "    second = URL.split('7155',1)[1]\n",
    "    url = first + '7155/' + str(page_number) + second\n",
    "    url_df.append(url)"
   ]
  },
  {
   "cell_type": "code",
   "execution_count": 15,
   "metadata": {},
   "outputs": [],
   "source": [
    "def pagination():\n",
    "    page = 0\n",
    "    URL = 'https://www.wine.com/list/wine/7155?ratingmin=94#'\n",
    "    for x in range(1, 950):\n",
    "        try:\n",
    "            page += 1\n",
    "            url_contructor(page, URL)\n",
    "        except Exception:\n",
    "            print(Exception)"
   ]
  },
  {
   "cell_type": "markdown",
   "metadata": {},
   "source": [
    "## Link it all together "
   ]
  },
  {
   "cell_type": "code",
   "execution_count": 16,
   "metadata": {},
   "outputs": [],
   "source": [
    "# this is my main function that will execute the request and the url_contructor for pagination\n",
    "def main_execute():\n",
    "    pagination()\n",
    "    for link in url_df:\n",
    "        page = requests.get(link)\n",
    "        soup = BeautifulSoup(page.content, 'html.parser')\n",
    "        all_li = soup.find_all('li', {'class': 'prodItem'})\n",
    "        get_info(all_li)"
   ]
  },
  {
   "cell_type": "code",
   "execution_count": 17,
   "metadata": {},
   "outputs": [],
   "source": [
    "main_execute()"
   ]
  },
  {
   "cell_type": "markdown",
   "metadata": {},
   "source": [
    "## Results"
   ]
  },
  {
   "cell_type": "code",
   "execution_count": 19,
   "metadata": {},
   "outputs": [
    {
     "data": {
      "text/plain": [
       "list"
      ]
     },
     "execution_count": 19,
     "metadata": {},
     "output_type": "execute_result"
    }
   ],
   "source": [
    "type(web_data)"
   ]
  },
  {
   "cell_type": "code",
   "execution_count": 20,
   "metadata": {},
   "outputs": [],
   "source": [
    "df = pd.DataFrame(web_data)"
   ]
  },
  {
   "cell_type": "code",
   "execution_count": 21,
   "metadata": {},
   "outputs": [
    {
     "data": {
      "text/plain": [
       "(23822, 6)"
      ]
     },
     "execution_count": 21,
     "metadata": {},
     "output_type": "execute_result"
    }
   ],
   "source": [
    "df.shape"
   ]
  },
  {
   "cell_type": "code",
   "execution_count": 22,
   "metadata": {},
   "outputs": [
    {
     "data": {
      "text/html": [
       "<div>\n",
       "<style scoped>\n",
       "    .dataframe tbody tr th:only-of-type {\n",
       "        vertical-align: middle;\n",
       "    }\n",
       "\n",
       "    .dataframe tbody tr th {\n",
       "        vertical-align: top;\n",
       "    }\n",
       "\n",
       "    .dataframe thead th {\n",
       "        text-align: right;\n",
       "    }\n",
       "</style>\n",
       "<table border=\"1\" class=\"dataframe\">\n",
       "  <thead>\n",
       "    <tr style=\"text-align: right;\">\n",
       "      <th></th>\n",
       "      <th>product_name</th>\n",
       "      <th>price</th>\n",
       "      <th>varietal</th>\n",
       "      <th>origin</th>\n",
       "      <th>rating</th>\n",
       "      <th>rating_count</th>\n",
       "    </tr>\n",
       "  </thead>\n",
       "  <tbody>\n",
       "    <tr>\n",
       "      <th>0</th>\n",
       "      <td>Dom Perignon Vintage with Gift Box 2010</td>\n",
       "      <td>199</td>\n",
       "      <td>Vintage Sparkling Wine</td>\n",
       "      <td>Champagne, France</td>\n",
       "      <td>4.5</td>\n",
       "      <td>42</td>\n",
       "    </tr>\n",
       "    <tr>\n",
       "      <th>1</th>\n",
       "      <td>Veuve Clicquot Yellow Label Brut</td>\n",
       "      <td>59</td>\n",
       "      <td>Non-Vintage Sparkling Wine</td>\n",
       "      <td>Champagne, France</td>\n",
       "      <td>4.4</td>\n",
       "      <td>1138</td>\n",
       "    </tr>\n",
       "    <tr>\n",
       "      <th>2</th>\n",
       "      <td>Duckhorn Napa Valley Cabernet Sauvignon 2017</td>\n",
       "      <td>78</td>\n",
       "      <td>Cabernet Sauvignon</td>\n",
       "      <td>Napa Valley, California</td>\n",
       "      <td>4.3</td>\n",
       "      <td>62</td>\n",
       "    </tr>\n",
       "    <tr>\n",
       "      <th>3</th>\n",
       "      <td>Caymus Special Selection Cabernet Sauvignon 2016</td>\n",
       "      <td>180</td>\n",
       "      <td>Cabernet Sauvignon</td>\n",
       "      <td>Napa Valley, California</td>\n",
       "      <td>4.6</td>\n",
       "      <td>108</td>\n",
       "    </tr>\n",
       "    <tr>\n",
       "      <th>4</th>\n",
       "      <td>Quintessa 2016</td>\n",
       "      <td>199</td>\n",
       "      <td>Cabernet Sauvignon</td>\n",
       "      <td>Rutherford, Napa Valley, California</td>\n",
       "      <td>4.7</td>\n",
       "      <td>73</td>\n",
       "    </tr>\n",
       "    <tr>\n",
       "      <th>...</th>\n",
       "      <td>...</td>\n",
       "      <td>...</td>\n",
       "      <td>...</td>\n",
       "      <td>...</td>\n",
       "      <td>...</td>\n",
       "      <td>...</td>\n",
       "    </tr>\n",
       "    <tr>\n",
       "      <th>23817</th>\n",
       "      <td>Pax Alder Springs Vineyard The Knob 2005</td>\n",
       "      <td>59</td>\n",
       "      <td>Syrah/Shiraz</td>\n",
       "      <td>Mendocino, California</td>\n",
       "      <td>0.0</td>\n",
       "      <td>0</td>\n",
       "    </tr>\n",
       "    <tr>\n",
       "      <th>23818</th>\n",
       "      <td>Williams Selyem Peay Vineyard Pinot Noir 2007</td>\n",
       "      <td>100</td>\n",
       "      <td>Pinot Noir</td>\n",
       "      <td>Sonoma County, California</td>\n",
       "      <td>0.0</td>\n",
       "      <td>0</td>\n",
       "    </tr>\n",
       "    <tr>\n",
       "      <th>23819</th>\n",
       "      <td>Williams Selyem Allen Vineyard Chardonnay 2007</td>\n",
       "      <td>99</td>\n",
       "      <td>Chardonnay</td>\n",
       "      <td>Russian River, Sonoma County, California</td>\n",
       "      <td>0.0</td>\n",
       "      <td>0</td>\n",
       "    </tr>\n",
       "    <tr>\n",
       "      <th>23820</th>\n",
       "      <td>Sine Qua Non Atlantis Fe203 3e Roussanne (375M...</td>\n",
       "      <td>299</td>\n",
       "      <td>Other Dessert</td>\n",
       "      <td>California</td>\n",
       "      <td>0.0</td>\n",
       "      <td>0</td>\n",
       "    </tr>\n",
       "    <tr>\n",
       "      <th>23821</th>\n",
       "      <td>Sean Thackrey Orion Red Blend 2007</td>\n",
       "      <td>199</td>\n",
       "      <td>Other Red Blends</td>\n",
       "      <td>St. Helena, Napa Valley, California</td>\n",
       "      <td>0.0</td>\n",
       "      <td>0</td>\n",
       "    </tr>\n",
       "  </tbody>\n",
       "</table>\n",
       "<p>23822 rows × 6 columns</p>\n",
       "</div>"
      ],
      "text/plain": [
       "                                            product_name price  \\\n",
       "0                Dom Perignon Vintage with Gift Box 2010   199   \n",
       "1                       Veuve Clicquot Yellow Label Brut    59   \n",
       "2           Duckhorn Napa Valley Cabernet Sauvignon 2017    78   \n",
       "3       Caymus Special Selection Cabernet Sauvignon 2016   180   \n",
       "4                                         Quintessa 2016   199   \n",
       "...                                                  ...   ...   \n",
       "23817           Pax Alder Springs Vineyard The Knob 2005    59   \n",
       "23818      Williams Selyem Peay Vineyard Pinot Noir 2007   100   \n",
       "23819     Williams Selyem Allen Vineyard Chardonnay 2007    99   \n",
       "23820  Sine Qua Non Atlantis Fe203 3e Roussanne (375M...   299   \n",
       "23821                 Sean Thackrey Orion Red Blend 2007   199   \n",
       "\n",
       "                         varietal                                    origin  \\\n",
       "0          Vintage Sparkling Wine                         Champagne, France   \n",
       "1      Non-Vintage Sparkling Wine                         Champagne, France   \n",
       "2              Cabernet Sauvignon                   Napa Valley, California   \n",
       "3              Cabernet Sauvignon                   Napa Valley, California   \n",
       "4              Cabernet Sauvignon       Rutherford, Napa Valley, California   \n",
       "...                           ...                                       ...   \n",
       "23817                Syrah/Shiraz                     Mendocino, California   \n",
       "23818                  Pinot Noir                 Sonoma County, California   \n",
       "23819                  Chardonnay  Russian River, Sonoma County, California   \n",
       "23820               Other Dessert                                California   \n",
       "23821            Other Red Blends       St. Helena, Napa Valley, California   \n",
       "\n",
       "      rating rating_count  \n",
       "0        4.5           42  \n",
       "1        4.4         1138  \n",
       "2        4.3           62  \n",
       "3        4.6          108  \n",
       "4        4.7           73  \n",
       "...      ...          ...  \n",
       "23817    0.0            0  \n",
       "23818    0.0            0  \n",
       "23819    0.0            0  \n",
       "23820    0.0            0  \n",
       "23821    0.0            0  \n",
       "\n",
       "[23822 rows x 6 columns]"
      ]
     },
     "execution_count": 22,
     "metadata": {},
     "output_type": "execute_result"
    }
   ],
   "source": [
    "df"
   ]
  },
  {
   "cell_type": "code",
   "execution_count": 23,
   "metadata": {},
   "outputs": [],
   "source": [
    "df.to_csv('wine_scraped_dataset.csv')"
   ]
  }
 ],
 "metadata": {
  "kernelspec": {
   "display_name": "Python 3",
   "language": "python",
   "name": "python3"
  },
  "language_info": {
   "codemirror_mode": {
    "name": "ipython",
    "version": 3
   },
   "file_extension": ".py",
   "mimetype": "text/x-python",
   "name": "python",
   "nbconvert_exporter": "python",
   "pygments_lexer": "ipython3",
   "version": "3.8.3"
  }
 },
 "nbformat": 4,
 "nbformat_minor": 4
}
