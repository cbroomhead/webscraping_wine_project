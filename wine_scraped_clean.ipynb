{
 "cells": [
  {
   "cell_type": "code",
   "execution_count": 1,
   "metadata": {},
   "outputs": [],
   "source": [
    "import pandas as pd\n",
    "import numpy as np\n",
    "import re\n",
    "from sqlalchemy import create_engine, insert"
   ]
  },
  {
   "cell_type": "code",
   "execution_count": 2,
   "metadata": {},
   "outputs": [],
   "source": [
    "df = pd.read_csv('wine_scraped_dataset.csv', index_col=0)"
   ]
  },
  {
   "cell_type": "markdown",
   "metadata": {},
   "source": [
    "## Assess "
   ]
  },
  {
   "cell_type": "code",
   "execution_count": 3,
   "metadata": {},
   "outputs": [
    {
     "name": "stdout",
     "output_type": "stream",
     "text": [
      "<class 'pandas.core.frame.DataFrame'>\n",
      "Int64Index: 23822 entries, 0 to 23821\n",
      "Data columns (total 6 columns):\n",
      " #   Column        Non-Null Count  Dtype  \n",
      "---  ------        --------------  -----  \n",
      " 0   product_name  23822 non-null  object \n",
      " 1   price         23822 non-null  object \n",
      " 2   varietal      23822 non-null  object \n",
      " 3   origin        23819 non-null  object \n",
      " 4   rating        23822 non-null  float64\n",
      " 5   rating_count  23822 non-null  int64  \n",
      "dtypes: float64(1), int64(1), object(4)\n",
      "memory usage: 1.3+ MB\n"
     ]
    }
   ],
   "source": [
    "df.info()"
   ]
  },
  {
   "cell_type": "code",
   "execution_count": 4,
   "metadata": {},
   "outputs": [
    {
     "data": {
      "text/html": [
       "<div>\n",
       "<style scoped>\n",
       "    .dataframe tbody tr th:only-of-type {\n",
       "        vertical-align: middle;\n",
       "    }\n",
       "\n",
       "    .dataframe tbody tr th {\n",
       "        vertical-align: top;\n",
       "    }\n",
       "\n",
       "    .dataframe thead th {\n",
       "        text-align: right;\n",
       "    }\n",
       "</style>\n",
       "<table border=\"1\" class=\"dataframe\">\n",
       "  <thead>\n",
       "    <tr style=\"text-align: right;\">\n",
       "      <th></th>\n",
       "      <th>product_name</th>\n",
       "      <th>price</th>\n",
       "      <th>varietal</th>\n",
       "      <th>origin</th>\n",
       "      <th>rating</th>\n",
       "      <th>rating_count</th>\n",
       "    </tr>\n",
       "  </thead>\n",
       "  <tbody>\n",
       "    <tr>\n",
       "      <th>0</th>\n",
       "      <td>Dom Perignon Vintage with Gift Box 2010</td>\n",
       "      <td>199</td>\n",
       "      <td>Vintage Sparkling Wine</td>\n",
       "      <td>Champagne, France</td>\n",
       "      <td>4.5</td>\n",
       "      <td>42</td>\n",
       "    </tr>\n",
       "    <tr>\n",
       "      <th>1</th>\n",
       "      <td>Veuve Clicquot Yellow Label Brut</td>\n",
       "      <td>59</td>\n",
       "      <td>Non-Vintage Sparkling Wine</td>\n",
       "      <td>Champagne, France</td>\n",
       "      <td>4.4</td>\n",
       "      <td>1138</td>\n",
       "    </tr>\n",
       "    <tr>\n",
       "      <th>2</th>\n",
       "      <td>Duckhorn Napa Valley Cabernet Sauvignon 2017</td>\n",
       "      <td>78</td>\n",
       "      <td>Cabernet Sauvignon</td>\n",
       "      <td>Napa Valley, California</td>\n",
       "      <td>4.3</td>\n",
       "      <td>62</td>\n",
       "    </tr>\n",
       "    <tr>\n",
       "      <th>3</th>\n",
       "      <td>Caymus Special Selection Cabernet Sauvignon 2016</td>\n",
       "      <td>180</td>\n",
       "      <td>Cabernet Sauvignon</td>\n",
       "      <td>Napa Valley, California</td>\n",
       "      <td>4.6</td>\n",
       "      <td>108</td>\n",
       "    </tr>\n",
       "    <tr>\n",
       "      <th>4</th>\n",
       "      <td>Quintessa 2016</td>\n",
       "      <td>199</td>\n",
       "      <td>Cabernet Sauvignon</td>\n",
       "      <td>Rutherford, Napa Valley, California</td>\n",
       "      <td>4.7</td>\n",
       "      <td>73</td>\n",
       "    </tr>\n",
       "  </tbody>\n",
       "</table>\n",
       "</div>"
      ],
      "text/plain": [
       "                                       product_name price  \\\n",
       "0           Dom Perignon Vintage with Gift Box 2010   199   \n",
       "1                  Veuve Clicquot Yellow Label Brut    59   \n",
       "2      Duckhorn Napa Valley Cabernet Sauvignon 2017    78   \n",
       "3  Caymus Special Selection Cabernet Sauvignon 2016   180   \n",
       "4                                    Quintessa 2016   199   \n",
       "\n",
       "                     varietal                               origin  rating  \\\n",
       "0      Vintage Sparkling Wine                    Champagne, France     4.5   \n",
       "1  Non-Vintage Sparkling Wine                    Champagne, France     4.4   \n",
       "2          Cabernet Sauvignon              Napa Valley, California     4.3   \n",
       "3          Cabernet Sauvignon              Napa Valley, California     4.6   \n",
       "4          Cabernet Sauvignon  Rutherford, Napa Valley, California     4.7   \n",
       "\n",
       "   rating_count  \n",
       "0            42  \n",
       "1          1138  \n",
       "2            62  \n",
       "3           108  \n",
       "4            73  "
      ]
     },
     "execution_count": 4,
     "metadata": {},
     "output_type": "execute_result"
    }
   ],
   "source": [
    "df.head()"
   ]
  },
  {
   "cell_type": "code",
   "execution_count": 5,
   "metadata": {},
   "outputs": [
    {
     "data": {
      "text/plain": [
       "array(['Agiorgitiko', 'Aglianico', 'Albarino', 'Alicante Bouschet',\n",
       "       'Arneis', 'Assyrtiko', 'Baga', 'Barbera', 'Blaufrankisch', 'Bobal',\n",
       "       'Bordeaux Red Blends', 'Bordeaux White Blends', 'Cabernet Franc',\n",
       "       'Cabernet Sauvignon', 'Carignan', 'Carmenere', 'Chardonnay',\n",
       "       'Chenin Blanc', 'Cinsault', 'Corvina', 'Dolcetto', 'Fiano',\n",
       "       'Friulano', 'Fruit Wine', 'Furmint', 'Gamay', 'Garganega',\n",
       "       'Gewurztraminer', 'Godello', 'Greco', 'Grenache', 'Grenache Blanc',\n",
       "       'Gruner Veltliner', 'Lagrein', 'Madeira', 'Malbec', 'Malvasia',\n",
       "       'Marsanne', 'Melon de Bourgogne', 'Mencia', 'Merlot',\n",
       "       'Montepulciano', 'Mourvedre', 'Muscat', 'Nebbiolo',\n",
       "       'Nerello Mascalese', \"Nero d'Avola\", 'Non-Vintage Sparkling Wine',\n",
       "       'Other Dessert', 'Other Red Blends', 'Other Red Wine',\n",
       "       'Other White Blends', 'Other White Wine', 'Petit Verdot',\n",
       "       'Petite Sirah', 'Pinot Blanc', 'Pinot Gris/Grigio', 'Pinot Noir',\n",
       "       'Pinotage', 'Port', 'Red Sparkling Wine', 'Rhone Red Blends',\n",
       "       'Rhone White Blends', 'Riesling', 'Rosé', 'Rosé Sparkling Wine',\n",
       "       'Roussanne', 'Sagrantino', 'Sangiovese', 'Sauvignon Blanc',\n",
       "       'Semillon', 'Sherry', 'Syrah/Shiraz', 'Tannat', 'Tempranillo',\n",
       "       'Torrontes', 'Touriga Nacional', 'Tuscan Blends', 'Valdiguie',\n",
       "       'Verdejo', 'Verdicchio', 'Vermentino', 'Vermouth',\n",
       "       'Vintage Sparkling Wine', 'Viognier', 'Viura', 'Xinomavro',\n",
       "       'Zinfandel'], dtype=object)"
      ]
     },
     "execution_count": 5,
     "metadata": {},
     "output_type": "execute_result"
    }
   ],
   "source": [
    "df['varietal'].sort_values().unique()"
   ]
  },
  {
   "cell_type": "markdown",
   "metadata": {},
   "source": [
    "### Cleaning "
   ]
  },
  {
   "cell_type": "markdown",
   "metadata": {},
   "source": [
    "The following items have been indentified as tidiness/ quality issues:\n",
    "- 'origin' is missing three values\n",
    "- separate 'origin' into 'region' and 'appelation'\n",
    "- Remove non wines from varietals: 'Port' 'Non-Vintage Sparkling Wine' 'Vintage Sparkling Wine'\n",
    "- Seperate 'year' out of 'product_name' and drop the ones that don't have a year?\n",
    "- turn remove commas and turn price into int"
   ]
  },
  {
   "cell_type": "markdown",
   "metadata": {},
   "source": [
    "### 'origin' is missing three values "
   ]
  },
  {
   "cell_type": "code",
   "execution_count": 6,
   "metadata": {},
   "outputs": [],
   "source": [
    "df = df[df['origin'].notna()]"
   ]
  },
  {
   "cell_type": "code",
   "execution_count": 7,
   "metadata": {},
   "outputs": [
    {
     "name": "stdout",
     "output_type": "stream",
     "text": [
      "<class 'pandas.core.frame.DataFrame'>\n",
      "Int64Index: 23819 entries, 0 to 23821\n",
      "Data columns (total 6 columns):\n",
      " #   Column        Non-Null Count  Dtype  \n",
      "---  ------        --------------  -----  \n",
      " 0   product_name  23819 non-null  object \n",
      " 1   price         23819 non-null  object \n",
      " 2   varietal      23819 non-null  object \n",
      " 3   origin        23819 non-null  object \n",
      " 4   rating        23819 non-null  float64\n",
      " 5   rating_count  23819 non-null  int64  \n",
      "dtypes: float64(1), int64(1), object(4)\n",
      "memory usage: 1.3+ MB\n"
     ]
    }
   ],
   "source": [
    "df.info()"
   ]
  },
  {
   "cell_type": "markdown",
   "metadata": {},
   "source": [
    "###  separate 'origin' into 'region' and 'appelation'"
   ]
  },
  {
   "cell_type": "code",
   "execution_count": 8,
   "metadata": {},
   "outputs": [],
   "source": [
    "df_or = df.copy()"
   ]
  },
  {
   "cell_type": "code",
   "execution_count": 9,
   "metadata": {},
   "outputs": [],
   "source": [
    "df_or = df_or.origin.str.rsplit(',').str[-2:]"
   ]
  },
  {
   "cell_type": "code",
   "execution_count": 10,
   "metadata": {},
   "outputs": [],
   "source": [
    "df_or = df_or.to_frame()"
   ]
  },
  {
   "cell_type": "code",
   "execution_count": 11,
   "metadata": {},
   "outputs": [],
   "source": [
    "df_or = pd.DataFrame(df.origin.str.rsplit(',', 1).tolist(),\n",
    "                                 columns = ['appellation','region'])"
   ]
  },
  {
   "cell_type": "code",
   "execution_count": 12,
   "metadata": {},
   "outputs": [],
   "source": [
    "df_or2 = df_or.appellation.str.rsplit(',').str[-1:]"
   ]
  },
  {
   "cell_type": "code",
   "execution_count": 13,
   "metadata": {},
   "outputs": [],
   "source": [
    "df_or2 = df_or2.to_frame()"
   ]
  },
  {
   "cell_type": "code",
   "execution_count": 14,
   "metadata": {},
   "outputs": [],
   "source": [
    "df_or2['appellation'] = df_or2['appellation'].astype(str)"
   ]
  },
  {
   "cell_type": "code",
   "execution_count": 15,
   "metadata": {},
   "outputs": [
    {
     "data": {
      "text/plain": [
       "pandas.core.series.Series"
      ]
     },
     "execution_count": 15,
     "metadata": {},
     "output_type": "execute_result"
    }
   ],
   "source": [
    "type(df_or2['appellation'])"
   ]
  },
  {
   "cell_type": "code",
   "execution_count": 16,
   "metadata": {},
   "outputs": [],
   "source": [
    "df_merged = df_or.assign(appellation=df_or2['appellation'])"
   ]
  },
  {
   "cell_type": "code",
   "execution_count": 17,
   "metadata": {},
   "outputs": [],
   "source": [
    "df.drop('origin', axis = 1, inplace = True)"
   ]
  },
  {
   "cell_type": "code",
   "execution_count": 18,
   "metadata": {},
   "outputs": [],
   "source": [
    "df = pd.concat([df, df_merged], axis=1)"
   ]
  },
  {
   "cell_type": "code",
   "execution_count": 19,
   "metadata": {},
   "outputs": [
    {
     "data": {
      "text/html": [
       "<div>\n",
       "<style scoped>\n",
       "    .dataframe tbody tr th:only-of-type {\n",
       "        vertical-align: middle;\n",
       "    }\n",
       "\n",
       "    .dataframe tbody tr th {\n",
       "        vertical-align: top;\n",
       "    }\n",
       "\n",
       "    .dataframe thead th {\n",
       "        text-align: right;\n",
       "    }\n",
       "</style>\n",
       "<table border=\"1\" class=\"dataframe\">\n",
       "  <thead>\n",
       "    <tr style=\"text-align: right;\">\n",
       "      <th></th>\n",
       "      <th>product_name</th>\n",
       "      <th>price</th>\n",
       "      <th>varietal</th>\n",
       "      <th>rating</th>\n",
       "      <th>rating_count</th>\n",
       "      <th>appellation</th>\n",
       "      <th>region</th>\n",
       "    </tr>\n",
       "  </thead>\n",
       "  <tbody>\n",
       "    <tr>\n",
       "      <th>0</th>\n",
       "      <td>Dom Perignon Vintage with Gift Box 2010</td>\n",
       "      <td>199</td>\n",
       "      <td>Vintage Sparkling Wine</td>\n",
       "      <td>4.5</td>\n",
       "      <td>42.0</td>\n",
       "      <td>['Champagne']</td>\n",
       "      <td>France</td>\n",
       "    </tr>\n",
       "    <tr>\n",
       "      <th>1</th>\n",
       "      <td>Veuve Clicquot Yellow Label Brut</td>\n",
       "      <td>59</td>\n",
       "      <td>Non-Vintage Sparkling Wine</td>\n",
       "      <td>4.4</td>\n",
       "      <td>1138.0</td>\n",
       "      <td>['Champagne']</td>\n",
       "      <td>France</td>\n",
       "    </tr>\n",
       "  </tbody>\n",
       "</table>\n",
       "</div>"
      ],
      "text/plain": [
       "                              product_name price                    varietal  \\\n",
       "0  Dom Perignon Vintage with Gift Box 2010   199      Vintage Sparkling Wine   \n",
       "1         Veuve Clicquot Yellow Label Brut    59  Non-Vintage Sparkling Wine   \n",
       "\n",
       "   rating  rating_count    appellation   region  \n",
       "0     4.5          42.0  ['Champagne']   France  \n",
       "1     4.4        1138.0  ['Champagne']   France  "
      ]
     },
     "execution_count": 19,
     "metadata": {},
     "output_type": "execute_result"
    }
   ],
   "source": [
    "df.head(2)"
   ]
  },
  {
   "cell_type": "code",
   "execution_count": 20,
   "metadata": {},
   "outputs": [],
   "source": [
    "df.dropna(inplace = True)"
   ]
  },
  {
   "cell_type": "code",
   "execution_count": 21,
   "metadata": {},
   "outputs": [
    {
     "name": "stdout",
     "output_type": "stream",
     "text": [
      "<class 'pandas.core.frame.DataFrame'>\n",
      "Int64Index: 22685 entries, 0 to 23818\n",
      "Data columns (total 7 columns):\n",
      " #   Column        Non-Null Count  Dtype  \n",
      "---  ------        --------------  -----  \n",
      " 0   product_name  22685 non-null  object \n",
      " 1   price         22685 non-null  object \n",
      " 2   varietal      22685 non-null  object \n",
      " 3   rating        22685 non-null  float64\n",
      " 4   rating_count  22685 non-null  float64\n",
      " 5   appellation   22685 non-null  object \n",
      " 6   region        22685 non-null  object \n",
      "dtypes: float64(2), object(5)\n",
      "memory usage: 1.4+ MB\n"
     ]
    }
   ],
   "source": [
    "df.info()"
   ]
  },
  {
   "cell_type": "code",
   "execution_count": 22,
   "metadata": {},
   "outputs": [
    {
     "data": {
      "text/plain": [
       "array(['[\"Valle d\\'Aosta\"]', \"[' Bordeaux']\", \"[' Burgundy']\",\n",
       "       \"[' Central Coast']\", \"[' Columbia Valley']\",\n",
       "       \"[' Friuli-Venezia Giulia']\", \"[' Loire']\", \"[' Mendocino']\",\n",
       "       \"[' Mendoza']\", \"[' Napa Valley']\", \"[' New South Wales']\",\n",
       "       \"[' New York']\", \"[' North Coast']\", \"[' Piedmont']\",\n",
       "       \"[' Prosecco']\", \"[' Rapel Valley']\", \"[' Rhone']\", \"[' Salta']\",\n",
       "       \"[' San Antonio Valley (Chile)']\", \"[' Sierra Foothills']\",\n",
       "       \"[' Sonoma County']\", \"[' South Australia']\",\n",
       "       \"[' South of France']\", \"[' Southwest']\",\n",
       "       \"[' Trentino-Alto Adige']\", \"[' Tuscany']\", \"[' Veneto']\",\n",
       "       \"[' Victoria']\", \"[' Western Australia']\",\n",
       "       \"[' Willamette Valley']\", \"['Abruzzo']\", \"['Aconcagua Valley']\",\n",
       "       \"['Alentejo']\", \"['Alsace']\", \"['Auckland']\", \"['Basilicata']\",\n",
       "       \"['Bierzo']\", \"['Bordeaux']\", \"['Burgenland']\", \"['Burgundy']\",\n",
       "       \"['Campania']\", \"['Canterbury']\", \"['Carneros']\",\n",
       "       \"['Casablanca Valley']\", \"['Central Coast']\", \"['Central Otago']\",\n",
       "       \"['Champagne']\", \"['Columbia Valley']\", \"['Constantia']\",\n",
       "       \"['Curico Valley']\", \"['Dao']\", \"['Douro']\", \"['Emilia-Romagna']\",\n",
       "       \"['Franschhoek Valley']\", \"['Friuli-Venezia Giulia']\",\n",
       "       \"['Gisborne']\", \"['Hawkes Bay']\", \"['Jerez']\", \"['Jumilla']\",\n",
       "       \"['Jura']\", \"['Kamptal']\", \"['Kremstal']\", \"['Lazio']\",\n",
       "       \"['Limari Valley']\", \"['Lodi']\", \"['Loire']\", \"['Lombardy']\",\n",
       "       \"['Macedonia']\", \"['Madeira']\", \"['Maipo Valley']\", \"['Marche']\",\n",
       "       \"['Marlborough']\", \"['Martinborough']\", \"['Maule Valley']\",\n",
       "       \"['Mendocino']\", \"['Mendoza']\", \"['Molise']\", \"['Montsant']\",\n",
       "       \"['Mosel']\", \"['Nahe']\", \"['Naoussa']\", \"['Napa Valley']\",\n",
       "       \"['Navarra']\", \"['Nemea']\", \"['Neusiedlersee']\", \"['New York']\",\n",
       "       \"['North Coast']\", \"['Patagonia']\", \"['Penedes']\", \"['Pfalz']\",\n",
       "       \"['Piedmont']\", \"['Priorat']\", \"['Prosecco']\", \"['Puglia']\",\n",
       "       \"['Rapel Valley']\", \"['Rheingau']\", \"['Rheinhessen']\", \"['Rhone']\",\n",
       "       \"['Rias Baixas']\", \"['Ribera del Duero']\", \"['Rioja']\",\n",
       "       \"['Rueda']\", \"['Salta']\", \"['San Antonio Valley (Chile)']\",\n",
       "       \"['Santa Cruz Mountains']\", \"['Santorini']\", \"['Sardinia']\",\n",
       "       \"['Sicily']\", \"['Sierra Foothills']\", \"['Sonoma County']\",\n",
       "       \"['South Australia']\", \"['Southwest']\", \"['Stellenbosch']\",\n",
       "       \"['Swartland']\", \"['Tasmania']\", \"['Toro']\",\n",
       "       \"['Trentino-Alto Adige']\", \"['Tuscany']\", \"['Umbria']\",\n",
       "       \"['Valdeorras']\", \"['Veneto']\", \"['Victoria']\", \"['Virginia']\",\n",
       "       \"['Wachau']\", \"['Wairarapa']\", \"['Walker Bay']\",\n",
       "       \"['Western Australia']\", \"['Willamette Valley']\"], dtype=object)"
      ]
     },
     "execution_count": 22,
     "metadata": {},
     "output_type": "execute_result"
    }
   ],
   "source": [
    "df['appellation'].sort_values().unique()"
   ]
  },
  {
   "cell_type": "code",
   "execution_count": 23,
   "metadata": {},
   "outputs": [
    {
     "data": {
      "text/plain": [
       "array([' Argentina', ' Australia', ' Austria', ' California', ' Chile',\n",
       "       ' France', ' Germany', ' Greece', ' Italy', ' New Zealand',\n",
       "       ' Oregon', ' Other U.S.', ' Portugal', ' South Africa', ' Spain',\n",
       "       ' Washington'], dtype=object)"
      ]
     },
     "execution_count": 23,
     "metadata": {},
     "output_type": "execute_result"
    }
   ],
   "source": [
    "df['region'].sort_values().unique()"
   ]
  },
  {
   "cell_type": "markdown",
   "metadata": {},
   "source": [
    "### seperate 'year' out of 'product_name' and drop the ones that don't have a year? "
   ]
  },
  {
   "cell_type": "code",
   "execution_count": 24,
   "metadata": {},
   "outputs": [],
   "source": [
    "# this removes the parenthesis and what's between them. made it easier to extract year. \n",
    "df['product_name'] = df['product_name'].str.replace(r\"\\(.*?\\)\", \"\")"
   ]
  },
  {
   "cell_type": "code",
   "execution_count": 25,
   "metadata": {},
   "outputs": [],
   "source": [
    "# the following only extract the digit from left to right. \n",
    "df['year']= df.product_name.str.extract('(\\d+)')"
   ]
  },
  {
   "cell_type": "code",
   "execution_count": 26,
   "metadata": {},
   "outputs": [],
   "source": [
    "df['product_name'] = df['product_name'].str[:-5] #.str[-1:]"
   ]
  },
  {
   "cell_type": "code",
   "execution_count": 27,
   "metadata": {},
   "outputs": [],
   "source": [
    "df.dropna(inplace = True)"
   ]
  },
  {
   "cell_type": "code",
   "execution_count": 28,
   "metadata": {},
   "outputs": [
    {
     "name": "stdout",
     "output_type": "stream",
     "text": [
      "<class 'pandas.core.frame.DataFrame'>\n",
      "Int64Index: 22510 entries, 0 to 23818\n",
      "Data columns (total 8 columns):\n",
      " #   Column        Non-Null Count  Dtype  \n",
      "---  ------        --------------  -----  \n",
      " 0   product_name  22510 non-null  object \n",
      " 1   price         22510 non-null  object \n",
      " 2   varietal      22510 non-null  object \n",
      " 3   rating        22510 non-null  float64\n",
      " 4   rating_count  22510 non-null  float64\n",
      " 5   appellation   22510 non-null  object \n",
      " 6   region        22510 non-null  object \n",
      " 7   year          22510 non-null  object \n",
      "dtypes: float64(2), object(6)\n",
      "memory usage: 1.5+ MB\n"
     ]
    }
   ],
   "source": [
    "df.info()"
   ]
  },
  {
   "cell_type": "code",
   "execution_count": 29,
   "metadata": {},
   "outputs": [],
   "source": [
    "# turn the string year into an integer\n",
    "df['year'] = df['year'].astype(int)"
   ]
  },
  {
   "cell_type": "code",
   "execution_count": 30,
   "metadata": {},
   "outputs": [
    {
     "data": {
      "text/plain": [
       "array([   0,    1,    2,    3,    4,    5,    6,    7,    8,    9,   10,\n",
       "         11,   12,   13,   14,   15,   16,   17,   20,   21,   22,   23,\n",
       "         24,   25,   27,   28,   29,   30,   32,   36,   40,   41,   43,\n",
       "         45,   50,   51,   55,   60,   66,   75,   81,   84,   88,   94,\n",
       "        100,  101,  115,  150,  170,  203,  239,  302,  337,  375,  389,\n",
       "        407,  459,  620,  707,  890,  902,  904, 1003, 1102, 1147, 1206,\n",
       "       1302, 1403, 1406, 1522, 1614, 1752, 1792, 1830, 1843, 1850, 1855,\n",
       "       1860, 1863, 1875, 1898, 1902, 1906, 1908, 1920, 1927, 1937, 1951,\n",
       "       1955, 1959, 1961, 1963, 1964, 1965, 1966, 1967, 1968, 1970, 1971,\n",
       "       1975, 1976, 1977, 1978, 1979, 1980, 1981, 1982, 1983, 1984, 1985,\n",
       "       1986, 1987, 1988, 1989, 1990, 1991, 1992, 1993, 1994, 1995, 1996,\n",
       "       1997, 1998, 1999, 2000, 2001, 2002, 2003, 2004, 2005, 2006, 2007,\n",
       "       2008, 2009, 2010, 2011, 2012, 2013, 2014, 2015, 2016, 2017, 2018,\n",
       "       2019, 2020, 2134, 4002, 5500, 7200])"
      ]
     },
     "execution_count": 30,
     "metadata": {},
     "output_type": "execute_result"
    }
   ],
   "source": [
    "df['year'].sort_values().unique()"
   ]
  },
  {
   "cell_type": "code",
   "execution_count": 31,
   "metadata": {},
   "outputs": [
    {
     "data": {
      "text/html": [
       "<div>\n",
       "<style scoped>\n",
       "    .dataframe tbody tr th:only-of-type {\n",
       "        vertical-align: middle;\n",
       "    }\n",
       "\n",
       "    .dataframe tbody tr th {\n",
       "        vertical-align: top;\n",
       "    }\n",
       "\n",
       "    .dataframe thead th {\n",
       "        text-align: right;\n",
       "    }\n",
       "</style>\n",
       "<table border=\"1\" class=\"dataframe\">\n",
       "  <thead>\n",
       "    <tr style=\"text-align: right;\">\n",
       "      <th></th>\n",
       "      <th>product_name</th>\n",
       "      <th>price</th>\n",
       "      <th>varietal</th>\n",
       "      <th>rating</th>\n",
       "      <th>rating_count</th>\n",
       "      <th>appellation</th>\n",
       "      <th>region</th>\n",
       "      <th>year</th>\n",
       "    </tr>\n",
       "  </thead>\n",
       "  <tbody>\n",
       "    <tr>\n",
       "      <th>11503</th>\n",
       "      <td>Pewsey Vale 1961 Block Riesling</td>\n",
       "      <td>49</td>\n",
       "      <td>Riesling</td>\n",
       "      <td>0.0</td>\n",
       "      <td>0.0</td>\n",
       "      <td>[' Bordeaux']</td>\n",
       "      <td>France</td>\n",
       "      <td>1961</td>\n",
       "    </tr>\n",
       "  </tbody>\n",
       "</table>\n",
       "</div>"
      ],
      "text/plain": [
       "                          product_name price  varietal  rating  rating_count  \\\n",
       "11503  Pewsey Vale 1961 Block Riesling    49  Riesling     0.0           0.0   \n",
       "\n",
       "         appellation   region  year  \n",
       "11503  [' Bordeaux']   France  1961  "
      ]
     },
     "execution_count": 31,
     "metadata": {},
     "output_type": "execute_result"
    }
   ],
   "source": [
    "# search for the weird year entries above\n",
    "df.loc[df['year'] == 1961]"
   ]
  },
  {
   "cell_type": "code",
   "execution_count": 32,
   "metadata": {},
   "outputs": [],
   "source": [
    "# drop anything that is older than \n",
    "df = df[df['year'] > 1937]  "
   ]
  },
  {
   "cell_type": "code",
   "execution_count": 33,
   "metadata": {},
   "outputs": [
    {
     "data": {
      "text/plain": [
       "(22004, 8)"
      ]
     },
     "execution_count": 33,
     "metadata": {},
     "output_type": "execute_result"
    }
   ],
   "source": [
    "df.shape"
   ]
  },
  {
   "cell_type": "markdown",
   "metadata": {},
   "source": [
    "### remove commas and turn price into int "
   ]
  },
  {
   "cell_type": "code",
   "execution_count": 34,
   "metadata": {},
   "outputs": [],
   "source": [
    "df['price'] = df['price'].str.replace(',', '')"
   ]
  },
  {
   "cell_type": "code",
   "execution_count": 35,
   "metadata": {},
   "outputs": [
    {
     "data": {
      "text/plain": [
       "('100', '9999')"
      ]
     },
     "execution_count": 35,
     "metadata": {},
     "output_type": "execute_result"
    }
   ],
   "source": [
    "df['price'].min(), df['price'].max()"
   ]
  },
  {
   "cell_type": "code",
   "execution_count": 36,
   "metadata": {},
   "outputs": [],
   "source": [
    "df['price'] = df['price'].astype(int)"
   ]
  },
  {
   "cell_type": "code",
   "execution_count": 37,
   "metadata": {},
   "outputs": [
    {
     "data": {
      "text/plain": [
       "product_name     object\n",
       "price             int64\n",
       "varietal         object\n",
       "rating          float64\n",
       "rating_count    float64\n",
       "appellation      object\n",
       "region           object\n",
       "year              int64\n",
       "dtype: object"
      ]
     },
     "execution_count": 37,
     "metadata": {},
     "output_type": "execute_result"
    }
   ],
   "source": [
    "df.dtypes"
   ]
  },
  {
   "cell_type": "markdown",
   "metadata": {},
   "source": [
    "### look for zero and non values in the ratings"
   ]
  },
  {
   "cell_type": "code",
   "execution_count": 38,
   "metadata": {},
   "outputs": [
    {
     "data": {
      "text/plain": [
       "array([0. , 1.6, 1.9, 2.2, 2.4, 2.6, 2.7, 2.8, 2.9, 3. , 3.1, 3.2, 3.3,\n",
       "       3.4, 3.5, 3.6, 3.7, 3.8, 3.9, 4. , 4.1, 4.2, 4.3, 4.4, 4.5, 4.6,\n",
       "       4.7, 4.8, 4.9, 5. ])"
      ]
     },
     "execution_count": 38,
     "metadata": {},
     "output_type": "execute_result"
    }
   ],
   "source": [
    "df['rating'].sort_values().unique()"
   ]
  },
  {
   "cell_type": "code",
   "execution_count": 39,
   "metadata": {},
   "outputs": [
    {
     "data": {
      "text/plain": [
       "rating\n",
       "0.0    17893\n",
       "1.6        1\n",
       "1.9        1\n",
       "2.2        1\n",
       "2.4        1\n",
       "2.6        3\n",
       "2.7        1\n",
       "2.8        2\n",
       "2.9        4\n",
       "3.0       10\n",
       "3.1       14\n",
       "3.2       19\n",
       "3.3       28\n",
       "3.4       41\n",
       "3.5       44\n",
       "3.6       97\n",
       "3.7      115\n",
       "3.8      182\n",
       "3.9      239\n",
       "4.0      290\n",
       "4.1      343\n",
       "4.2      442\n",
       "4.3      382\n",
       "4.4      383\n",
       "4.5      354\n",
       "4.6      322\n",
       "4.7      243\n",
       "4.8      194\n",
       "4.9      165\n",
       "5.0      190\n",
       "dtype: int64"
      ]
     },
     "execution_count": 39,
     "metadata": {},
     "output_type": "execute_result"
    }
   ],
   "source": [
    "df.groupby('rating').size()"
   ]
  },
  {
   "cell_type": "code",
   "execution_count": 40,
   "metadata": {},
   "outputs": [
    {
     "data": {
      "text/plain": [
       "array([  0.,   5.,   6.,   7.,   8.,   9.,  10.,  11.,  12.,  13.,  14.,\n",
       "        15.,  16.,  17.,  18.,  19.,  20.,  21.,  22.,  23.,  24.,  25.,\n",
       "        26.,  27.,  28.,  29.,  30.,  31.,  32.,  33.,  34.,  35.,  36.,\n",
       "        37.,  38.,  39.,  40.,  41.,  42.,  43.,  44.,  45.,  46.,  47.,\n",
       "        48.,  49.,  50.,  51.,  52.,  53.,  54.,  55.,  56.,  57.,  58.,\n",
       "        59.,  60.,  61.,  62.,  63.,  64.,  65.,  66.,  67.,  68.,  69.,\n",
       "        70.,  71.,  72.,  73.,  74.,  75.,  76.,  77.,  78.,  79.,  80.,\n",
       "        81.,  82.,  83.,  84.,  85.,  86.,  87.,  88.,  89.,  90.,  92.,\n",
       "        93.,  94.,  95.,  97.,  99., 100., 101., 102., 103., 105., 106.,\n",
       "       107., 108., 109., 110., 112., 113., 114., 115., 116., 118., 119.,\n",
       "       122., 123., 125., 127., 128., 129., 130., 131., 132., 136., 137.,\n",
       "       138., 139., 140., 143., 144., 146., 147., 148., 149., 150., 151.,\n",
       "       152., 156., 157., 158., 160., 164., 166., 168., 169., 172., 174.,\n",
       "       176., 177., 180., 183., 184., 185., 188., 196., 199., 200., 202.,\n",
       "       203., 206., 208., 211., 213., 216., 224., 227., 231., 235., 238.,\n",
       "       243., 244., 247., 248., 251., 257., 263., 267., 271., 276., 278.,\n",
       "       281., 283., 292., 294., 295., 308., 314., 320., 371., 383., 394.,\n",
       "       427., 444., 445., 469., 473., 498., 556., 614., 663., 672., 750.])"
      ]
     },
     "execution_count": 40,
     "metadata": {},
     "output_type": "execute_result"
    }
   ],
   "source": [
    "df['rating_count'].sort_values().unique()"
   ]
  },
  {
   "cell_type": "code",
   "execution_count": 41,
   "metadata": {},
   "outputs": [
    {
     "data": {
      "text/plain": [
       "rating_count\n",
       "0.0      17893\n",
       "5.0        556\n",
       "6.0        444\n",
       "7.0        357\n",
       "8.0        269\n",
       "         ...  \n",
       "556.0        1\n",
       "614.0        1\n",
       "663.0        3\n",
       "672.0        3\n",
       "750.0        1\n",
       "Length: 198, dtype: int64"
      ]
     },
     "execution_count": 41,
     "metadata": {},
     "output_type": "execute_result"
    }
   ],
   "source": [
    "df.groupby('rating_count').size()"
   ]
  },
  {
   "cell_type": "markdown",
   "metadata": {},
   "source": [
    "## Dataframes"
   ]
  },
  {
   "cell_type": "markdown",
   "metadata": {},
   "source": [
    "### Master  "
   ]
  },
  {
   "cell_type": "code",
   "execution_count": 42,
   "metadata": {},
   "outputs": [
    {
     "data": {
      "text/plain": [
       "(22004, 8)"
      ]
     },
     "execution_count": 42,
     "metadata": {},
     "output_type": "execute_result"
    }
   ],
   "source": [
    "df.shape"
   ]
  },
  {
   "cell_type": "code",
   "execution_count": 43,
   "metadata": {},
   "outputs": [
    {
     "name": "stdout",
     "output_type": "stream",
     "text": [
      "<class 'pandas.core.frame.DataFrame'>\n",
      "Int64Index: 22004 entries, 0 to 23818\n",
      "Data columns (total 8 columns):\n",
      " #   Column        Non-Null Count  Dtype  \n",
      "---  ------        --------------  -----  \n",
      " 0   product_name  22004 non-null  object \n",
      " 1   price         22004 non-null  int64  \n",
      " 2   varietal      22004 non-null  object \n",
      " 3   rating        22004 non-null  float64\n",
      " 4   rating_count  22004 non-null  float64\n",
      " 5   appellation   22004 non-null  object \n",
      " 6   region        22004 non-null  object \n",
      " 7   year          22004 non-null  int64  \n",
      "dtypes: float64(2), int64(2), object(4)\n",
      "memory usage: 1.5+ MB\n"
     ]
    }
   ],
   "source": [
    "df.info()"
   ]
  },
  {
   "cell_type": "code",
   "execution_count": 44,
   "metadata": {},
   "outputs": [
    {
     "data": {
      "text/html": [
       "<div>\n",
       "<style scoped>\n",
       "    .dataframe tbody tr th:only-of-type {\n",
       "        vertical-align: middle;\n",
       "    }\n",
       "\n",
       "    .dataframe tbody tr th {\n",
       "        vertical-align: top;\n",
       "    }\n",
       "\n",
       "    .dataframe thead th {\n",
       "        text-align: right;\n",
       "    }\n",
       "</style>\n",
       "<table border=\"1\" class=\"dataframe\">\n",
       "  <thead>\n",
       "    <tr style=\"text-align: right;\">\n",
       "      <th></th>\n",
       "      <th>product_name</th>\n",
       "      <th>price</th>\n",
       "      <th>varietal</th>\n",
       "      <th>rating</th>\n",
       "      <th>rating_count</th>\n",
       "      <th>appellation</th>\n",
       "      <th>region</th>\n",
       "      <th>year</th>\n",
       "    </tr>\n",
       "  </thead>\n",
       "  <tbody>\n",
       "    <tr>\n",
       "      <th>0</th>\n",
       "      <td>Dom Perignon Vintage with Gift Box</td>\n",
       "      <td>199</td>\n",
       "      <td>Vintage Sparkling Wine</td>\n",
       "      <td>4.5</td>\n",
       "      <td>42.0</td>\n",
       "      <td>['Champagne']</td>\n",
       "      <td>France</td>\n",
       "      <td>2010</td>\n",
       "    </tr>\n",
       "    <tr>\n",
       "      <th>2</th>\n",
       "      <td>Duckhorn Napa Valley Cabernet Sauvignon</td>\n",
       "      <td>78</td>\n",
       "      <td>Cabernet Sauvignon</td>\n",
       "      <td>4.3</td>\n",
       "      <td>62.0</td>\n",
       "      <td>['Napa Valley']</td>\n",
       "      <td>California</td>\n",
       "      <td>2017</td>\n",
       "    </tr>\n",
       "    <tr>\n",
       "      <th>3</th>\n",
       "      <td>Caymus Special Selection Cabernet Sauvignon</td>\n",
       "      <td>180</td>\n",
       "      <td>Cabernet Sauvignon</td>\n",
       "      <td>4.6</td>\n",
       "      <td>108.0</td>\n",
       "      <td>['Napa Valley']</td>\n",
       "      <td>California</td>\n",
       "      <td>2016</td>\n",
       "    </tr>\n",
       "    <tr>\n",
       "      <th>4</th>\n",
       "      <td>Quintessa</td>\n",
       "      <td>199</td>\n",
       "      <td>Cabernet Sauvignon</td>\n",
       "      <td>4.7</td>\n",
       "      <td>73.0</td>\n",
       "      <td>[' Napa Valley']</td>\n",
       "      <td>California</td>\n",
       "      <td>2016</td>\n",
       "    </tr>\n",
       "    <tr>\n",
       "      <th>5</th>\n",
       "      <td>Joseph Phelps Insignia</td>\n",
       "      <td>300</td>\n",
       "      <td>Bordeaux Red Blends</td>\n",
       "      <td>4.6</td>\n",
       "      <td>81.0</td>\n",
       "      <td>['Napa Valley']</td>\n",
       "      <td>California</td>\n",
       "      <td>2016</td>\n",
       "    </tr>\n",
       "  </tbody>\n",
       "</table>\n",
       "</div>"
      ],
      "text/plain": [
       "                                  product_name  price                varietal  \\\n",
       "0           Dom Perignon Vintage with Gift Box    199  Vintage Sparkling Wine   \n",
       "2      Duckhorn Napa Valley Cabernet Sauvignon     78      Cabernet Sauvignon   \n",
       "3  Caymus Special Selection Cabernet Sauvignon    180      Cabernet Sauvignon   \n",
       "4                                    Quintessa    199      Cabernet Sauvignon   \n",
       "5                       Joseph Phelps Insignia    300     Bordeaux Red Blends   \n",
       "\n",
       "   rating  rating_count       appellation       region  year  \n",
       "0     4.5          42.0     ['Champagne']       France  2010  \n",
       "2     4.3          62.0   ['Napa Valley']   California  2017  \n",
       "3     4.6         108.0   ['Napa Valley']   California  2016  \n",
       "4     4.7          73.0  [' Napa Valley']   California  2016  \n",
       "5     4.6          81.0   ['Napa Valley']   California  2016  "
      ]
     },
     "execution_count": 44,
     "metadata": {},
     "output_type": "execute_result"
    }
   ],
   "source": [
    "df.head()"
   ]
  },
  {
   "cell_type": "code",
   "execution_count": 45,
   "metadata": {},
   "outputs": [],
   "source": [
    "df.to_csv('wine_master_dataset.csv')"
   ]
  },
  {
   "cell_type": "markdown",
   "metadata": {},
   "source": [
    "###  Wines with Ratings "
   ]
  },
  {
   "cell_type": "code",
   "execution_count": 46,
   "metadata": {},
   "outputs": [],
   "source": [
    "df_ratings_only = df.copy()"
   ]
  },
  {
   "cell_type": "code",
   "execution_count": 47,
   "metadata": {},
   "outputs": [],
   "source": [
    "df_ratings_only = df_ratings_only[df_ratings_only['rating_count'] > 0]  "
   ]
  },
  {
   "cell_type": "code",
   "execution_count": 48,
   "metadata": {},
   "outputs": [
    {
     "data": {
      "text/plain": [
       "(4111, 8)"
      ]
     },
     "execution_count": 48,
     "metadata": {},
     "output_type": "execute_result"
    }
   ],
   "source": [
    "df_ratings_only.shape"
   ]
  },
  {
   "cell_type": "code",
   "execution_count": 49,
   "metadata": {},
   "outputs": [
    {
     "name": "stdout",
     "output_type": "stream",
     "text": [
      "<class 'pandas.core.frame.DataFrame'>\n",
      "Int64Index: 4111 entries, 0 to 23786\n",
      "Data columns (total 8 columns):\n",
      " #   Column        Non-Null Count  Dtype  \n",
      "---  ------        --------------  -----  \n",
      " 0   product_name  4111 non-null   object \n",
      " 1   price         4111 non-null   int64  \n",
      " 2   varietal      4111 non-null   object \n",
      " 3   rating        4111 non-null   float64\n",
      " 4   rating_count  4111 non-null   float64\n",
      " 5   appellation   4111 non-null   object \n",
      " 6   region        4111 non-null   object \n",
      " 7   year          4111 non-null   int64  \n",
      "dtypes: float64(2), int64(2), object(4)\n",
      "memory usage: 289.1+ KB\n"
     ]
    }
   ],
   "source": [
    "df_ratings_only.info()"
   ]
  },
  {
   "cell_type": "code",
   "execution_count": 50,
   "metadata": {},
   "outputs": [
    {
     "data": {
      "text/html": [
       "<div>\n",
       "<style scoped>\n",
       "    .dataframe tbody tr th:only-of-type {\n",
       "        vertical-align: middle;\n",
       "    }\n",
       "\n",
       "    .dataframe tbody tr th {\n",
       "        vertical-align: top;\n",
       "    }\n",
       "\n",
       "    .dataframe thead th {\n",
       "        text-align: right;\n",
       "    }\n",
       "</style>\n",
       "<table border=\"1\" class=\"dataframe\">\n",
       "  <thead>\n",
       "    <tr style=\"text-align: right;\">\n",
       "      <th></th>\n",
       "      <th>product_name</th>\n",
       "      <th>price</th>\n",
       "      <th>varietal</th>\n",
       "      <th>rating</th>\n",
       "      <th>rating_count</th>\n",
       "      <th>appellation</th>\n",
       "      <th>region</th>\n",
       "      <th>year</th>\n",
       "    </tr>\n",
       "  </thead>\n",
       "  <tbody>\n",
       "    <tr>\n",
       "      <th>0</th>\n",
       "      <td>Dom Perignon Vintage with Gift Box</td>\n",
       "      <td>199</td>\n",
       "      <td>Vintage Sparkling Wine</td>\n",
       "      <td>4.5</td>\n",
       "      <td>42.0</td>\n",
       "      <td>['Champagne']</td>\n",
       "      <td>France</td>\n",
       "      <td>2010</td>\n",
       "    </tr>\n",
       "    <tr>\n",
       "      <th>2</th>\n",
       "      <td>Duckhorn Napa Valley Cabernet Sauvignon</td>\n",
       "      <td>78</td>\n",
       "      <td>Cabernet Sauvignon</td>\n",
       "      <td>4.3</td>\n",
       "      <td>62.0</td>\n",
       "      <td>['Napa Valley']</td>\n",
       "      <td>California</td>\n",
       "      <td>2017</td>\n",
       "    </tr>\n",
       "    <tr>\n",
       "      <th>3</th>\n",
       "      <td>Caymus Special Selection Cabernet Sauvignon</td>\n",
       "      <td>180</td>\n",
       "      <td>Cabernet Sauvignon</td>\n",
       "      <td>4.6</td>\n",
       "      <td>108.0</td>\n",
       "      <td>['Napa Valley']</td>\n",
       "      <td>California</td>\n",
       "      <td>2016</td>\n",
       "    </tr>\n",
       "    <tr>\n",
       "      <th>4</th>\n",
       "      <td>Quintessa</td>\n",
       "      <td>199</td>\n",
       "      <td>Cabernet Sauvignon</td>\n",
       "      <td>4.7</td>\n",
       "      <td>73.0</td>\n",
       "      <td>[' Napa Valley']</td>\n",
       "      <td>California</td>\n",
       "      <td>2016</td>\n",
       "    </tr>\n",
       "    <tr>\n",
       "      <th>5</th>\n",
       "      <td>Joseph Phelps Insignia</td>\n",
       "      <td>300</td>\n",
       "      <td>Bordeaux Red Blends</td>\n",
       "      <td>4.6</td>\n",
       "      <td>81.0</td>\n",
       "      <td>['Napa Valley']</td>\n",
       "      <td>California</td>\n",
       "      <td>2016</td>\n",
       "    </tr>\n",
       "  </tbody>\n",
       "</table>\n",
       "</div>"
      ],
      "text/plain": [
       "                                  product_name  price                varietal  \\\n",
       "0           Dom Perignon Vintage with Gift Box    199  Vintage Sparkling Wine   \n",
       "2      Duckhorn Napa Valley Cabernet Sauvignon     78      Cabernet Sauvignon   \n",
       "3  Caymus Special Selection Cabernet Sauvignon    180      Cabernet Sauvignon   \n",
       "4                                    Quintessa    199      Cabernet Sauvignon   \n",
       "5                       Joseph Phelps Insignia    300     Bordeaux Red Blends   \n",
       "\n",
       "   rating  rating_count       appellation       region  year  \n",
       "0     4.5          42.0     ['Champagne']       France  2010  \n",
       "2     4.3          62.0   ['Napa Valley']   California  2017  \n",
       "3     4.6         108.0   ['Napa Valley']   California  2016  \n",
       "4     4.7          73.0  [' Napa Valley']   California  2016  \n",
       "5     4.6          81.0   ['Napa Valley']   California  2016  "
      ]
     },
     "execution_count": 50,
     "metadata": {},
     "output_type": "execute_result"
    }
   ],
   "source": [
    "df_ratings_only.head()"
   ]
  },
  {
   "cell_type": "markdown",
   "metadata": {},
   "source": [
    "### Wines with Bonafide Varietals"
   ]
  },
  {
   "cell_type": "code",
   "execution_count": 51,
   "metadata": {},
   "outputs": [],
   "source": [
    "df_varietals = df.copy()"
   ]
  },
  {
   "cell_type": "code",
   "execution_count": 52,
   "metadata": {},
   "outputs": [],
   "source": [
    "non_varietals = ['Port', 'Non-Vintage Sparkling Wine', 'Vintage Sparkling Wine']\n",
    "# Delete these row indexes from dataFrame\n",
    "df_varietals = df_varietals[~df_varietals['varietal'].isin(non_varietals)]"
   ]
  },
  {
   "cell_type": "code",
   "execution_count": 53,
   "metadata": {},
   "outputs": [
    {
     "data": {
      "text/plain": [
       "array(['Agiorgitiko', 'Aglianico', 'Albarino', 'Alicante Bouschet',\n",
       "       'Arneis', 'Assyrtiko', 'Baga', 'Barbera', 'Blaufrankisch', 'Bobal',\n",
       "       'Bordeaux Red Blends', 'Bordeaux White Blends', 'Cabernet Franc',\n",
       "       'Cabernet Sauvignon', 'Carignan', 'Carmenere', 'Chardonnay',\n",
       "       'Chenin Blanc', 'Corvina', 'Dolcetto', 'Fiano', 'Friulano',\n",
       "       'Fruit Wine', 'Furmint', 'Gamay', 'Garganega', 'Gewurztraminer',\n",
       "       'Godello', 'Greco', 'Grenache', 'Grenache Blanc',\n",
       "       'Gruner Veltliner', 'Lagrein', 'Madeira', 'Malbec', 'Marsanne',\n",
       "       'Melon de Bourgogne', 'Mencia', 'Merlot', 'Montepulciano',\n",
       "       'Mourvedre', 'Muscat', 'Nebbiolo', 'Nerello Mascalese',\n",
       "       \"Nero d'Avola\", 'Other Dessert', 'Other Red Blends',\n",
       "       'Other Red Wine', 'Other White Blends', 'Other White Wine',\n",
       "       'Petit Verdot', 'Petite Sirah', 'Pinot Blanc', 'Pinot Gris/Grigio',\n",
       "       'Pinot Noir', 'Pinotage', 'Red Sparkling Wine', 'Rhone Red Blends',\n",
       "       'Rhone White Blends', 'Riesling', 'Rosé', 'Rosé Sparkling Wine',\n",
       "       'Roussanne', 'Sagrantino', 'Sangiovese', 'Sauvignon Blanc',\n",
       "       'Semillon', 'Sherry', 'Syrah/Shiraz', 'Tannat', 'Tempranillo',\n",
       "       'Torrontes', 'Touriga Nacional', 'Tuscan Blends', 'Valdiguie',\n",
       "       'Verdejo', 'Verdicchio', 'Vermentino', 'Viognier', 'Viura',\n",
       "       'Xinomavro', 'Zinfandel'], dtype=object)"
      ]
     },
     "execution_count": 53,
     "metadata": {},
     "output_type": "execute_result"
    }
   ],
   "source": [
    "# this is the df with the non-wine varietals\n",
    "df_varietals['varietal'].sort_values().unique()"
   ]
  },
  {
   "cell_type": "code",
   "execution_count": 54,
   "metadata": {},
   "outputs": [
    {
     "data": {
      "text/plain": [
       "(21379, 8)"
      ]
     },
     "execution_count": 54,
     "metadata": {},
     "output_type": "execute_result"
    }
   ],
   "source": [
    "df_varietals.shape"
   ]
  },
  {
   "cell_type": "code",
   "execution_count": 55,
   "metadata": {},
   "outputs": [
    {
     "name": "stdout",
     "output_type": "stream",
     "text": [
      "<class 'pandas.core.frame.DataFrame'>\n",
      "Int64Index: 21379 entries, 2 to 23818\n",
      "Data columns (total 8 columns):\n",
      " #   Column        Non-Null Count  Dtype  \n",
      "---  ------        --------------  -----  \n",
      " 0   product_name  21379 non-null  object \n",
      " 1   price         21379 non-null  int64  \n",
      " 2   varietal      21379 non-null  object \n",
      " 3   rating        21379 non-null  float64\n",
      " 4   rating_count  21379 non-null  float64\n",
      " 5   appellation   21379 non-null  object \n",
      " 6   region        21379 non-null  object \n",
      " 7   year          21379 non-null  int64  \n",
      "dtypes: float64(2), int64(2), object(4)\n",
      "memory usage: 1.5+ MB\n"
     ]
    }
   ],
   "source": [
    "df_varietals.info()"
   ]
  },
  {
   "cell_type": "code",
   "execution_count": 56,
   "metadata": {},
   "outputs": [
    {
     "data": {
      "text/html": [
       "<div>\n",
       "<style scoped>\n",
       "    .dataframe tbody tr th:only-of-type {\n",
       "        vertical-align: middle;\n",
       "    }\n",
       "\n",
       "    .dataframe tbody tr th {\n",
       "        vertical-align: top;\n",
       "    }\n",
       "\n",
       "    .dataframe thead th {\n",
       "        text-align: right;\n",
       "    }\n",
       "</style>\n",
       "<table border=\"1\" class=\"dataframe\">\n",
       "  <thead>\n",
       "    <tr style=\"text-align: right;\">\n",
       "      <th></th>\n",
       "      <th>product_name</th>\n",
       "      <th>price</th>\n",
       "      <th>varietal</th>\n",
       "      <th>rating</th>\n",
       "      <th>rating_count</th>\n",
       "      <th>appellation</th>\n",
       "      <th>region</th>\n",
       "      <th>year</th>\n",
       "    </tr>\n",
       "  </thead>\n",
       "  <tbody>\n",
       "    <tr>\n",
       "      <th>2</th>\n",
       "      <td>Duckhorn Napa Valley Cabernet Sauvignon</td>\n",
       "      <td>78</td>\n",
       "      <td>Cabernet Sauvignon</td>\n",
       "      <td>4.3</td>\n",
       "      <td>62.0</td>\n",
       "      <td>['Napa Valley']</td>\n",
       "      <td>California</td>\n",
       "      <td>2017</td>\n",
       "    </tr>\n",
       "    <tr>\n",
       "      <th>3</th>\n",
       "      <td>Caymus Special Selection Cabernet Sauvignon</td>\n",
       "      <td>180</td>\n",
       "      <td>Cabernet Sauvignon</td>\n",
       "      <td>4.6</td>\n",
       "      <td>108.0</td>\n",
       "      <td>['Napa Valley']</td>\n",
       "      <td>California</td>\n",
       "      <td>2016</td>\n",
       "    </tr>\n",
       "    <tr>\n",
       "      <th>4</th>\n",
       "      <td>Quintessa</td>\n",
       "      <td>199</td>\n",
       "      <td>Cabernet Sauvignon</td>\n",
       "      <td>4.7</td>\n",
       "      <td>73.0</td>\n",
       "      <td>[' Napa Valley']</td>\n",
       "      <td>California</td>\n",
       "      <td>2016</td>\n",
       "    </tr>\n",
       "    <tr>\n",
       "      <th>5</th>\n",
       "      <td>Joseph Phelps Insignia</td>\n",
       "      <td>300</td>\n",
       "      <td>Bordeaux Red Blends</td>\n",
       "      <td>4.6</td>\n",
       "      <td>81.0</td>\n",
       "      <td>['Napa Valley']</td>\n",
       "      <td>California</td>\n",
       "      <td>2016</td>\n",
       "    </tr>\n",
       "    <tr>\n",
       "      <th>6</th>\n",
       "      <td>Opus One</td>\n",
       "      <td>364</td>\n",
       "      <td>Bordeaux Red Blends</td>\n",
       "      <td>4.2</td>\n",
       "      <td>8.0</td>\n",
       "      <td>[' Napa Valley']</td>\n",
       "      <td>California</td>\n",
       "      <td>2017</td>\n",
       "    </tr>\n",
       "  </tbody>\n",
       "</table>\n",
       "</div>"
      ],
      "text/plain": [
       "                                  product_name  price             varietal  \\\n",
       "2      Duckhorn Napa Valley Cabernet Sauvignon     78   Cabernet Sauvignon   \n",
       "3  Caymus Special Selection Cabernet Sauvignon    180   Cabernet Sauvignon   \n",
       "4                                    Quintessa    199   Cabernet Sauvignon   \n",
       "5                       Joseph Phelps Insignia    300  Bordeaux Red Blends   \n",
       "6                                     Opus One    364  Bordeaux Red Blends   \n",
       "\n",
       "   rating  rating_count       appellation       region  year  \n",
       "2     4.3          62.0   ['Napa Valley']   California  2017  \n",
       "3     4.6         108.0   ['Napa Valley']   California  2016  \n",
       "4     4.7          73.0  [' Napa Valley']   California  2016  \n",
       "5     4.6          81.0   ['Napa Valley']   California  2016  \n",
       "6     4.2           8.0  [' Napa Valley']   California  2017  "
      ]
     },
     "execution_count": 56,
     "metadata": {},
     "output_type": "execute_result"
    }
   ],
   "source": [
    "df_varietals.head()"
   ]
  },
  {
   "cell_type": "markdown",
   "metadata": {},
   "source": [
    "# Store in SQL Database "
   ]
  },
  {
   "cell_type": "code",
   "execution_count": 57,
   "metadata": {},
   "outputs": [],
   "source": [
    "# Create SQLAlchemy Engine and empty bestofrt database\n",
    "# bestofrt.db will not show up in the Jupyter Notebook dashboard yet\n",
    "engine = create_engine('sqlite:///winewebscraping.db')"
   ]
  },
  {
   "cell_type": "code",
   "execution_count": 58,
   "metadata": {},
   "outputs": [],
   "source": [
    "# Store cleaned master DataFrame ('df') in a table called master in marswind.db\n",
    "# marswind.db will be visible now in the Jupyter Notebook dashboard\n",
    "df.to_sql('master', engine, index=False)\n",
    "df.to_sql('ratings', engine, index=False)\n",
    "df.to_sql('varietals', engine, index=False)"
   ]
  },
  {
   "cell_type": "code",
   "execution_count": 59,
   "metadata": {},
   "outputs": [],
   "source": [
    "df_db = pd.read_sql('SELECT * FROM varietals', engine)"
   ]
  },
  {
   "cell_type": "code",
   "execution_count": 60,
   "metadata": {},
   "outputs": [
    {
     "data": {
      "text/html": [
       "<div>\n",
       "<style scoped>\n",
       "    .dataframe tbody tr th:only-of-type {\n",
       "        vertical-align: middle;\n",
       "    }\n",
       "\n",
       "    .dataframe tbody tr th {\n",
       "        vertical-align: top;\n",
       "    }\n",
       "\n",
       "    .dataframe thead th {\n",
       "        text-align: right;\n",
       "    }\n",
       "</style>\n",
       "<table border=\"1\" class=\"dataframe\">\n",
       "  <thead>\n",
       "    <tr style=\"text-align: right;\">\n",
       "      <th></th>\n",
       "      <th>product_name</th>\n",
       "      <th>price</th>\n",
       "      <th>varietal</th>\n",
       "      <th>rating</th>\n",
       "      <th>rating_count</th>\n",
       "      <th>appellation</th>\n",
       "      <th>region</th>\n",
       "      <th>year</th>\n",
       "    </tr>\n",
       "  </thead>\n",
       "  <tbody>\n",
       "    <tr>\n",
       "      <th>0</th>\n",
       "      <td>Dom Perignon Vintage with Gift Box</td>\n",
       "      <td>199</td>\n",
       "      <td>Vintage Sparkling Wine</td>\n",
       "      <td>4.5</td>\n",
       "      <td>42.0</td>\n",
       "      <td>['Champagne']</td>\n",
       "      <td>France</td>\n",
       "      <td>2010</td>\n",
       "    </tr>\n",
       "    <tr>\n",
       "      <th>1</th>\n",
       "      <td>Duckhorn Napa Valley Cabernet Sauvignon</td>\n",
       "      <td>78</td>\n",
       "      <td>Cabernet Sauvignon</td>\n",
       "      <td>4.3</td>\n",
       "      <td>62.0</td>\n",
       "      <td>['Napa Valley']</td>\n",
       "      <td>California</td>\n",
       "      <td>2017</td>\n",
       "    </tr>\n",
       "    <tr>\n",
       "      <th>2</th>\n",
       "      <td>Caymus Special Selection Cabernet Sauvignon</td>\n",
       "      <td>180</td>\n",
       "      <td>Cabernet Sauvignon</td>\n",
       "      <td>4.6</td>\n",
       "      <td>108.0</td>\n",
       "      <td>['Napa Valley']</td>\n",
       "      <td>California</td>\n",
       "      <td>2016</td>\n",
       "    </tr>\n",
       "  </tbody>\n",
       "</table>\n",
       "</div>"
      ],
      "text/plain": [
       "                                  product_name  price                varietal  \\\n",
       "0           Dom Perignon Vintage with Gift Box    199  Vintage Sparkling Wine   \n",
       "1      Duckhorn Napa Valley Cabernet Sauvignon     78      Cabernet Sauvignon   \n",
       "2  Caymus Special Selection Cabernet Sauvignon    180      Cabernet Sauvignon   \n",
       "\n",
       "   rating  rating_count      appellation       region  year  \n",
       "0     4.5          42.0    ['Champagne']       France  2010  \n",
       "1     4.3          62.0  ['Napa Valley']   California  2017  \n",
       "2     4.6         108.0  ['Napa Valley']   California  2016  "
      ]
     },
     "execution_count": 60,
     "metadata": {},
     "output_type": "execute_result"
    }
   ],
   "source": [
    "df_db.head(3)"
   ]
  },
  {
   "cell_type": "code",
   "execution_count": null,
   "metadata": {},
   "outputs": [],
   "source": []
  }
 ],
 "metadata": {
  "kernelspec": {
   "display_name": "Python 3",
   "language": "python",
   "name": "python3"
  },
  "language_info": {
   "codemirror_mode": {
    "name": "ipython",
    "version": 3
   },
   "file_extension": ".py",
   "mimetype": "text/x-python",
   "name": "python",
   "nbconvert_exporter": "python",
   "pygments_lexer": "ipython3",
   "version": "3.8.3"
  }
 },
 "nbformat": 4,
 "nbformat_minor": 2
}
