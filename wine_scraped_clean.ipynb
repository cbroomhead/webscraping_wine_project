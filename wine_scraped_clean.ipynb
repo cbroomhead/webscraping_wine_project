{
 "cells": [
  {
   "cell_type": "markdown",
   "metadata": {},
   "source": [
    "TODO:\n",
    "    Try again to fix the series issue in appellation. Remove the first empty character\n",
    "    Remove price outliers using IQR or zscores. "
   ]
  },
  {
   "cell_type": "code",
   "execution_count": 201,
   "metadata": {},
   "outputs": [],
   "source": [
    "import pandas as pd\n",
    "import numpy as np\n",
    "import re\n",
    "from sqlalchemy import create_engine, insert\n",
    "import matplotlib.pyplot as plt\n",
    "import seaborn as sb\n",
    "\n",
    "%matplotlib inline"
   ]
  },
  {
   "cell_type": "code",
   "execution_count": 202,
   "metadata": {},
   "outputs": [],
   "source": [
    "df = pd.read_csv('wine_scraped_dataset.csv', index_col=0)"
   ]
  },
  {
   "cell_type": "markdown",
   "metadata": {},
   "source": [
    "## Assess "
   ]
  },
  {
   "cell_type": "code",
   "execution_count": 203,
   "metadata": {},
   "outputs": [
    {
     "name": "stdout",
     "output_type": "stream",
     "text": [
      "<class 'pandas.core.frame.DataFrame'>\n",
      "Int64Index: 23822 entries, 0 to 23821\n",
      "Data columns (total 6 columns):\n",
      " #   Column        Non-Null Count  Dtype  \n",
      "---  ------        --------------  -----  \n",
      " 0   product_name  23822 non-null  object \n",
      " 1   price         23822 non-null  object \n",
      " 2   varietal      23822 non-null  object \n",
      " 3   origin        23819 non-null  object \n",
      " 4   rating        23822 non-null  float64\n",
      " 5   rating_count  23822 non-null  int64  \n",
      "dtypes: float64(1), int64(1), object(4)\n",
      "memory usage: 1.3+ MB\n"
     ]
    }
   ],
   "source": [
    "df.info()"
   ]
  },
  {
   "cell_type": "code",
   "execution_count": 204,
   "metadata": {},
   "outputs": [
    {
     "data": {
      "text/html": [
       "<div>\n",
       "<style scoped>\n",
       "    .dataframe tbody tr th:only-of-type {\n",
       "        vertical-align: middle;\n",
       "    }\n",
       "\n",
       "    .dataframe tbody tr th {\n",
       "        vertical-align: top;\n",
       "    }\n",
       "\n",
       "    .dataframe thead th {\n",
       "        text-align: right;\n",
       "    }\n",
       "</style>\n",
       "<table border=\"1\" class=\"dataframe\">\n",
       "  <thead>\n",
       "    <tr style=\"text-align: right;\">\n",
       "      <th></th>\n",
       "      <th>product_name</th>\n",
       "      <th>price</th>\n",
       "      <th>varietal</th>\n",
       "      <th>origin</th>\n",
       "      <th>rating</th>\n",
       "      <th>rating_count</th>\n",
       "    </tr>\n",
       "  </thead>\n",
       "  <tbody>\n",
       "    <tr>\n",
       "      <th>0</th>\n",
       "      <td>Dom Perignon Vintage with Gift Box 2010</td>\n",
       "      <td>199</td>\n",
       "      <td>Vintage Sparkling Wine</td>\n",
       "      <td>Champagne, France</td>\n",
       "      <td>4.5</td>\n",
       "      <td>42</td>\n",
       "    </tr>\n",
       "    <tr>\n",
       "      <th>1</th>\n",
       "      <td>Veuve Clicquot Yellow Label Brut</td>\n",
       "      <td>59</td>\n",
       "      <td>Non-Vintage Sparkling Wine</td>\n",
       "      <td>Champagne, France</td>\n",
       "      <td>4.4</td>\n",
       "      <td>1138</td>\n",
       "    </tr>\n",
       "    <tr>\n",
       "      <th>2</th>\n",
       "      <td>Duckhorn Napa Valley Cabernet Sauvignon 2017</td>\n",
       "      <td>78</td>\n",
       "      <td>Cabernet Sauvignon</td>\n",
       "      <td>Napa Valley, California</td>\n",
       "      <td>4.3</td>\n",
       "      <td>62</td>\n",
       "    </tr>\n",
       "    <tr>\n",
       "      <th>3</th>\n",
       "      <td>Caymus Special Selection Cabernet Sauvignon 2016</td>\n",
       "      <td>180</td>\n",
       "      <td>Cabernet Sauvignon</td>\n",
       "      <td>Napa Valley, California</td>\n",
       "      <td>4.6</td>\n",
       "      <td>108</td>\n",
       "    </tr>\n",
       "    <tr>\n",
       "      <th>4</th>\n",
       "      <td>Quintessa 2016</td>\n",
       "      <td>199</td>\n",
       "      <td>Cabernet Sauvignon</td>\n",
       "      <td>Rutherford, Napa Valley, California</td>\n",
       "      <td>4.7</td>\n",
       "      <td>73</td>\n",
       "    </tr>\n",
       "  </tbody>\n",
       "</table>\n",
       "</div>"
      ],
      "text/plain": [
       "                                       product_name price  \\\n",
       "0           Dom Perignon Vintage with Gift Box 2010   199   \n",
       "1                  Veuve Clicquot Yellow Label Brut    59   \n",
       "2      Duckhorn Napa Valley Cabernet Sauvignon 2017    78   \n",
       "3  Caymus Special Selection Cabernet Sauvignon 2016   180   \n",
       "4                                    Quintessa 2016   199   \n",
       "\n",
       "                     varietal                               origin  rating  \\\n",
       "0      Vintage Sparkling Wine                    Champagne, France     4.5   \n",
       "1  Non-Vintage Sparkling Wine                    Champagne, France     4.4   \n",
       "2          Cabernet Sauvignon              Napa Valley, California     4.3   \n",
       "3          Cabernet Sauvignon              Napa Valley, California     4.6   \n",
       "4          Cabernet Sauvignon  Rutherford, Napa Valley, California     4.7   \n",
       "\n",
       "   rating_count  \n",
       "0            42  \n",
       "1          1138  \n",
       "2            62  \n",
       "3           108  \n",
       "4            73  "
      ]
     },
     "execution_count": 204,
     "metadata": {},
     "output_type": "execute_result"
    }
   ],
   "source": [
    "df.head()"
   ]
  },
  {
   "cell_type": "markdown",
   "metadata": {},
   "source": [
    "### Cleaning "
   ]
  },
  {
   "cell_type": "markdown",
   "metadata": {},
   "source": [
    "The following items have been indentified as tidiness/ quality issues:\n",
    "- 'origin' is missing three values\n",
    "- separate 'origin' into 'region' and 'appelation'\n",
    "- Remove non wines from varietals: 'Port' 'Non-Vintage Sparkling Wine' 'Vintage Sparkling Wine'\n",
    "- Seperate 'year' out of 'product_name' and drop the ones that don't have a year?\n",
    "- turn remove commas and turn price into int"
   ]
  },
  {
   "cell_type": "markdown",
   "metadata": {},
   "source": [
    "### 'origin' is missing three values "
   ]
  },
  {
   "cell_type": "code",
   "execution_count": 205,
   "metadata": {},
   "outputs": [
    {
     "name": "stdout",
     "output_type": "stream",
     "text": [
      "<class 'pandas.core.frame.DataFrame'>\n",
      "Int64Index: 23819 entries, 0 to 23821\n",
      "Data columns (total 6 columns):\n",
      " #   Column        Non-Null Count  Dtype  \n",
      "---  ------        --------------  -----  \n",
      " 0   product_name  23819 non-null  object \n",
      " 1   price         23819 non-null  object \n",
      " 2   varietal      23819 non-null  object \n",
      " 3   origin        23819 non-null  object \n",
      " 4   rating        23819 non-null  float64\n",
      " 5   rating_count  23819 non-null  int64  \n",
      "dtypes: float64(1), int64(1), object(4)\n",
      "memory usage: 1.3+ MB\n"
     ]
    }
   ],
   "source": [
    "df = df[df['origin'].notna()]\n",
    "# check, if it worked we should see 23819 entries\n",
    "df.info()"
   ]
  },
  {
   "cell_type": "markdown",
   "metadata": {},
   "source": [
    "###  separate 'origin' into 'region' and 'appelation'"
   ]
  },
  {
   "cell_type": "code",
   "execution_count": 206,
   "metadata": {},
   "outputs": [],
   "source": [
    "# copy the original dataframe to do the extraction\n",
    "df_or = df.copy()\n",
    "\n",
    "# split string from the right at the comma and keep the first two values\n",
    "df_or = df_or.origin.str.rsplit(',').str[-2:]\n",
    "\n",
    "# convert to dataframe\n",
    "df_or = df_or.to_frame()\n",
    "\n",
    "# split 'origin' string from right into two columns 'appelation' and 'region'\n",
    "df_or = pd.DataFrame(df.origin.str.rsplit(',', 1).tolist(),\n",
    "                     columns = ['appellation','region'])\n",
    "df_or2 = df_or.appellation.str.rsplit(',').str[-1:]\n",
    "df_or2 = df_or2.to_frame()\n",
    "df_or2['appellation'] = df_or2['appellation'].astype(str)\n",
    "\n",
    "# merge the newly constructred df with with 'appelation' and 'region' into two\n",
    "df_merged = df_or.assign(appellation=df_or2['appellation'])\n",
    "df = pd.concat([df, df_merged], axis=1)\n",
    "# and drop the 'origin' columns\n",
    "df.drop('origin', axis = 1, inplace = True)\n",
    "df.dropna(inplace = True)"
   ]
  },
  {
   "cell_type": "code",
   "execution_count": 207,
   "metadata": {},
   "outputs": [
    {
     "name": "stdout",
     "output_type": "stream",
     "text": [
      "<class 'pandas.core.frame.DataFrame'>\n",
      "Int64Index: 22685 entries, 0 to 23818\n",
      "Data columns (total 7 columns):\n",
      " #   Column        Non-Null Count  Dtype  \n",
      "---  ------        --------------  -----  \n",
      " 0   product_name  22685 non-null  object \n",
      " 1   price         22685 non-null  object \n",
      " 2   varietal      22685 non-null  object \n",
      " 3   rating        22685 non-null  float64\n",
      " 4   rating_count  22685 non-null  float64\n",
      " 5   appellation   22685 non-null  object \n",
      " 6   region        22685 non-null  object \n",
      "dtypes: float64(2), object(5)\n",
      "memory usage: 1.4+ MB\n"
     ]
    }
   ],
   "source": [
    "df.info()"
   ]
  },
  {
   "cell_type": "code",
   "execution_count": 208,
   "metadata": {},
   "outputs": [
    {
     "data": {
      "text/plain": [
       "array(['[\"Valle d\\'Aosta\"]', \"[' Bordeaux']\", \"[' Burgundy']\",\n",
       "       \"[' Central Coast']\", \"[' Columbia Valley']\",\n",
       "       \"[' Friuli-Venezia Giulia']\", \"[' Loire']\", \"[' Mendocino']\",\n",
       "       \"[' Mendoza']\", \"[' Napa Valley']\", \"[' New South Wales']\",\n",
       "       \"[' New York']\", \"[' North Coast']\", \"[' Piedmont']\",\n",
       "       \"[' Prosecco']\", \"[' Rapel Valley']\", \"[' Rhone']\", \"[' Salta']\",\n",
       "       \"[' San Antonio Valley (Chile)']\", \"[' Sierra Foothills']\",\n",
       "       \"[' Sonoma County']\", \"[' South Australia']\",\n",
       "       \"[' South of France']\", \"[' Southwest']\",\n",
       "       \"[' Trentino-Alto Adige']\", \"[' Tuscany']\", \"[' Veneto']\",\n",
       "       \"[' Victoria']\", \"[' Western Australia']\",\n",
       "       \"[' Willamette Valley']\", \"['Abruzzo']\", \"['Aconcagua Valley']\",\n",
       "       \"['Alentejo']\", \"['Alsace']\", \"['Auckland']\", \"['Basilicata']\",\n",
       "       \"['Bierzo']\", \"['Bordeaux']\", \"['Burgenland']\", \"['Burgundy']\",\n",
       "       \"['Campania']\", \"['Canterbury']\", \"['Carneros']\",\n",
       "       \"['Casablanca Valley']\", \"['Central Coast']\", \"['Central Otago']\",\n",
       "       \"['Champagne']\", \"['Columbia Valley']\", \"['Constantia']\",\n",
       "       \"['Curico Valley']\", \"['Dao']\", \"['Douro']\", \"['Emilia-Romagna']\",\n",
       "       \"['Franschhoek Valley']\", \"['Friuli-Venezia Giulia']\",\n",
       "       \"['Gisborne']\", \"['Hawkes Bay']\", \"['Jerez']\", \"['Jumilla']\",\n",
       "       \"['Jura']\", \"['Kamptal']\", \"['Kremstal']\", \"['Lazio']\",\n",
       "       \"['Limari Valley']\", \"['Lodi']\", \"['Loire']\", \"['Lombardy']\",\n",
       "       \"['Macedonia']\", \"['Madeira']\", \"['Maipo Valley']\", \"['Marche']\",\n",
       "       \"['Marlborough']\", \"['Martinborough']\", \"['Maule Valley']\",\n",
       "       \"['Mendocino']\", \"['Mendoza']\", \"['Molise']\", \"['Montsant']\",\n",
       "       \"['Mosel']\", \"['Nahe']\", \"['Naoussa']\", \"['Napa Valley']\",\n",
       "       \"['Navarra']\", \"['Nemea']\", \"['Neusiedlersee']\", \"['New York']\",\n",
       "       \"['North Coast']\", \"['Patagonia']\", \"['Penedes']\", \"['Pfalz']\",\n",
       "       \"['Piedmont']\", \"['Priorat']\", \"['Prosecco']\", \"['Puglia']\",\n",
       "       \"['Rapel Valley']\", \"['Rheingau']\", \"['Rheinhessen']\", \"['Rhone']\",\n",
       "       \"['Rias Baixas']\", \"['Ribera del Duero']\", \"['Rioja']\",\n",
       "       \"['Rueda']\", \"['Salta']\", \"['San Antonio Valley (Chile)']\",\n",
       "       \"['Santa Cruz Mountains']\", \"['Santorini']\", \"['Sardinia']\",\n",
       "       \"['Sicily']\", \"['Sierra Foothills']\", \"['Sonoma County']\",\n",
       "       \"['South Australia']\", \"['Southwest']\", \"['Stellenbosch']\",\n",
       "       \"['Swartland']\", \"['Tasmania']\", \"['Toro']\",\n",
       "       \"['Trentino-Alto Adige']\", \"['Tuscany']\", \"['Umbria']\",\n",
       "       \"['Valdeorras']\", \"['Veneto']\", \"['Victoria']\", \"['Virginia']\",\n",
       "       \"['Wachau']\", \"['Wairarapa']\", \"['Walker Bay']\",\n",
       "       \"['Western Australia']\", \"['Willamette Valley']\"], dtype=object)"
      ]
     },
     "execution_count": 208,
     "metadata": {},
     "output_type": "execute_result"
    }
   ],
   "source": [
    "df['appellation'].sort_values().unique()"
   ]
  },
  {
   "cell_type": "code",
   "execution_count": 209,
   "metadata": {},
   "outputs": [
    {
     "data": {
      "text/plain": [
       "128"
      ]
     },
     "execution_count": 209,
     "metadata": {},
     "output_type": "execute_result"
    }
   ],
   "source": [
    "df['appellation'].unique().size"
   ]
  },
  {
   "cell_type": "code",
   "execution_count": 210,
   "metadata": {},
   "outputs": [
    {
     "data": {
      "text/plain": [
       "array([' Argentina', ' Australia', ' Austria', ' California', ' Chile',\n",
       "       ' France', ' Germany', ' Greece', ' Italy', ' New Zealand',\n",
       "       ' Oregon', ' Other U.S.', ' Portugal', ' South Africa', ' Spain',\n",
       "       ' Washington'], dtype=object)"
      ]
     },
     "execution_count": 210,
     "metadata": {},
     "output_type": "execute_result"
    }
   ],
   "source": [
    "df['region'].sort_values().unique()"
   ]
  },
  {
   "cell_type": "code",
   "execution_count": 211,
   "metadata": {},
   "outputs": [
    {
     "data": {
      "text/plain": [
       "16"
      ]
     },
     "execution_count": 211,
     "metadata": {},
     "output_type": "execute_result"
    }
   ],
   "source": [
    "df['region'].unique().size"
   ]
  },
  {
   "cell_type": "markdown",
   "metadata": {},
   "source": [
    "### seperate 'year' out of 'product_name' and drop the ones that don't have a year? "
   ]
  },
  {
   "cell_type": "code",
   "execution_count": 212,
   "metadata": {},
   "outputs": [],
   "source": [
    "# this removes the parenthesis and what's between them. made it easier to extract year. \n",
    "df['product_name'] = df['product_name'].str.replace(r\"\\(.*?\\)\", \"\")\n",
    "\n",
    "# the following extract the digit strings from left to right. \n",
    "df['year']= df.product_name.str.extract('(\\d+)')\n",
    "\n",
    "# since the year was a the wnd of the product_name string, emove the last 5\n",
    "# characters at the end of each string to only keep the actual names\n",
    "df['product_name'] = df['product_name'].str[:-5] #.str[-1:]\n",
    "\n",
    "# drop any empty rows for quality purposes\n",
    "df.dropna(inplace = True)"
   ]
  },
  {
   "cell_type": "code",
   "execution_count": 213,
   "metadata": {},
   "outputs": [
    {
     "name": "stdout",
     "output_type": "stream",
     "text": [
      "<class 'pandas.core.frame.DataFrame'>\n",
      "Int64Index: 22510 entries, 0 to 23818\n",
      "Data columns (total 8 columns):\n",
      " #   Column        Non-Null Count  Dtype  \n",
      "---  ------        --------------  -----  \n",
      " 0   product_name  22510 non-null  object \n",
      " 1   price         22510 non-null  object \n",
      " 2   varietal      22510 non-null  object \n",
      " 3   rating        22510 non-null  float64\n",
      " 4   rating_count  22510 non-null  float64\n",
      " 5   appellation   22510 non-null  object \n",
      " 6   region        22510 non-null  object \n",
      " 7   year          22510 non-null  object \n",
      "dtypes: float64(2), object(6)\n",
      "memory usage: 1.5+ MB\n"
     ]
    }
   ],
   "source": [
    "df.info()"
   ]
  },
  {
   "cell_type": "markdown",
   "metadata": {},
   "source": [
    "### turn the string year into an integer"
   ]
  },
  {
   "cell_type": "code",
   "execution_count": 214,
   "metadata": {},
   "outputs": [],
   "source": [
    "df['year'] = df['year'].astype(int)"
   ]
  },
  {
   "cell_type": "markdown",
   "metadata": {},
   "source": [
    "### only keep relevant data with years that aren't obvious outliers "
   ]
  },
  {
   "cell_type": "code",
   "execution_count": 215,
   "metadata": {},
   "outputs": [],
   "source": [
    "# drop anything that is older than 1950 - wine is probably not good anymore!\n",
    "df = df[df['year'] > 1950]  "
   ]
  },
  {
   "cell_type": "code",
   "execution_count": 216,
   "metadata": {},
   "outputs": [],
   "source": [
    "# drop anything that is youger than 2020 - wine from the future?\n",
    "df = df[df['year'] <= 2020] "
   ]
  },
  {
   "cell_type": "code",
   "execution_count": 217,
   "metadata": {},
   "outputs": [
    {
     "data": {
      "text/plain": [
       "array([1951, 1955, 1959, 1961, 1963, 1964, 1965, 1966, 1967, 1968, 1970,\n",
       "       1971, 1975, 1976, 1977, 1978, 1979, 1980, 1981, 1982, 1983, 1984,\n",
       "       1985, 1986, 1987, 1988, 1989, 1990, 1991, 1992, 1993, 1994, 1995,\n",
       "       1996, 1997, 1998, 1999, 2000, 2001, 2002, 2003, 2004, 2005, 2006,\n",
       "       2007, 2008, 2009, 2010, 2011, 2012, 2013, 2014, 2015, 2016, 2017,\n",
       "       2018, 2019, 2020])"
      ]
     },
     "execution_count": 217,
     "metadata": {},
     "output_type": "execute_result"
    }
   ],
   "source": [
    "df['year'].sort_values().unique()"
   ]
  },
  {
   "cell_type": "code",
   "execution_count": 218,
   "metadata": {},
   "outputs": [
    {
     "data": {
      "text/html": [
       "<div>\n",
       "<style scoped>\n",
       "    .dataframe tbody tr th:only-of-type {\n",
       "        vertical-align: middle;\n",
       "    }\n",
       "\n",
       "    .dataframe tbody tr th {\n",
       "        vertical-align: top;\n",
       "    }\n",
       "\n",
       "    .dataframe thead th {\n",
       "        text-align: right;\n",
       "    }\n",
       "</style>\n",
       "<table border=\"1\" class=\"dataframe\">\n",
       "  <thead>\n",
       "    <tr style=\"text-align: right;\">\n",
       "      <th></th>\n",
       "      <th>product_name</th>\n",
       "      <th>price</th>\n",
       "      <th>varietal</th>\n",
       "      <th>rating</th>\n",
       "      <th>rating_count</th>\n",
       "      <th>appellation</th>\n",
       "      <th>region</th>\n",
       "      <th>year</th>\n",
       "    </tr>\n",
       "  </thead>\n",
       "  <tbody>\n",
       "    <tr>\n",
       "      <th>17340</th>\n",
       "      <td>Cantine Antonio Ferrari Solaria Jonica</td>\n",
       "      <td>159</td>\n",
       "      <td>Sangiovese</td>\n",
       "      <td>0.0</td>\n",
       "      <td>0.0</td>\n",
       "      <td>['Central Coast']</td>\n",
       "      <td>California</td>\n",
       "      <td>1959</td>\n",
       "    </tr>\n",
       "    <tr>\n",
       "      <th>23729</th>\n",
       "      <td>Chateau Mouton Rothschild</td>\n",
       "      <td>2,499</td>\n",
       "      <td>Bordeaux Red Blends</td>\n",
       "      <td>0.0</td>\n",
       "      <td>0.0</td>\n",
       "      <td>['Burgundy']</td>\n",
       "      <td>France</td>\n",
       "      <td>1959</td>\n",
       "    </tr>\n",
       "  </tbody>\n",
       "</table>\n",
       "</div>"
      ],
      "text/plain": [
       "                                  product_name  price             varietal  \\\n",
       "17340  Cantine Antonio Ferrari Solaria Jonica     159           Sangiovese   \n",
       "23729                Chateau Mouton Rothschild  2,499  Bordeaux Red Blends   \n",
       "\n",
       "       rating  rating_count        appellation       region  year  \n",
       "17340     0.0           0.0  ['Central Coast']   California  1959  \n",
       "23729     0.0           0.0       ['Burgundy']       France  1959  "
      ]
     },
     "execution_count": 218,
     "metadata": {},
     "output_type": "execute_result"
    }
   ],
   "source": [
    "# return row by year to see entry\n",
    "df.loc[df['year'] ==  1959]"
   ]
  },
  {
   "cell_type": "code",
   "execution_count": 219,
   "metadata": {},
   "outputs": [
    {
     "data": {
      "text/plain": [
       "(21995, 8)"
      ]
     },
     "execution_count": 219,
     "metadata": {},
     "output_type": "execute_result"
    }
   ],
   "source": [
    "df.shape"
   ]
  },
  {
   "cell_type": "markdown",
   "metadata": {},
   "source": [
    "### remove commas and turn price into int "
   ]
  },
  {
   "cell_type": "code",
   "execution_count": 220,
   "metadata": {},
   "outputs": [],
   "source": [
    "df['price'] = df['price'].str.replace(',', '')"
   ]
  },
  {
   "cell_type": "code",
   "execution_count": 221,
   "metadata": {},
   "outputs": [
    {
     "data": {
      "text/plain": [
       "('100', '9999')"
      ]
     },
     "execution_count": 221,
     "metadata": {},
     "output_type": "execute_result"
    }
   ],
   "source": [
    "df['price'].min(), df['price'].max()"
   ]
  },
  {
   "cell_type": "code",
   "execution_count": 222,
   "metadata": {},
   "outputs": [],
   "source": [
    "df['price'] = df['price'].astype(int)"
   ]
  },
  {
   "cell_type": "code",
   "execution_count": 223,
   "metadata": {},
   "outputs": [
    {
     "data": {
      "text/plain": [
       "product_name     object\n",
       "price             int64\n",
       "varietal         object\n",
       "rating          float64\n",
       "rating_count    float64\n",
       "appellation      object\n",
       "region           object\n",
       "year              int64\n",
       "dtype: object"
      ]
     },
     "execution_count": 223,
     "metadata": {},
     "output_type": "execute_result"
    }
   ],
   "source": [
    "df.dtypes"
   ]
  },
  {
   "cell_type": "markdown",
   "metadata": {},
   "source": [
    "### look for zero and non values in the ratings"
   ]
  },
  {
   "cell_type": "code",
   "execution_count": 224,
   "metadata": {},
   "outputs": [
    {
     "data": {
      "text/plain": [
       "array([0. , 1.6, 1.9, 2.2, 2.4, 2.6, 2.7, 2.8, 2.9, 3. , 3.1, 3.2, 3.3,\n",
       "       3.4, 3.5, 3.6, 3.7, 3.8, 3.9, 4. , 4.1, 4.2, 4.3, 4.4, 4.5, 4.6,\n",
       "       4.7, 4.8, 4.9, 5. ])"
      ]
     },
     "execution_count": 224,
     "metadata": {},
     "output_type": "execute_result"
    }
   ],
   "source": [
    "df['rating'].sort_values().unique()"
   ]
  },
  {
   "cell_type": "code",
   "execution_count": 225,
   "metadata": {},
   "outputs": [
    {
     "data": {
      "text/plain": [
       "rating\n",
       "0.0    17884\n",
       "1.6        1\n",
       "1.9        1\n",
       "2.2        1\n",
       "2.4        1\n",
       "2.6        3\n",
       "2.7        1\n",
       "2.8        2\n",
       "2.9        4\n",
       "3.0       10\n",
       "3.1       14\n",
       "3.2       19\n",
       "3.3       28\n",
       "3.4       41\n",
       "3.5       44\n",
       "3.6       97\n",
       "3.7      115\n",
       "3.8      182\n",
       "3.9      239\n",
       "4.0      290\n",
       "4.1      343\n",
       "4.2      442\n",
       "4.3      382\n",
       "4.4      383\n",
       "4.5      354\n",
       "4.6      322\n",
       "4.7      243\n",
       "4.8      194\n",
       "4.9      165\n",
       "5.0      190\n",
       "dtype: int64"
      ]
     },
     "execution_count": 225,
     "metadata": {},
     "output_type": "execute_result"
    }
   ],
   "source": [
    "df.groupby('rating').size()"
   ]
  },
  {
   "cell_type": "code",
   "execution_count": 226,
   "metadata": {},
   "outputs": [],
   "source": [
    "#turn rating_count from float to int\n",
    "df['rating_count'] = df['rating_count'].astype(int)"
   ]
  },
  {
   "cell_type": "code",
   "execution_count": 227,
   "metadata": {},
   "outputs": [
    {
     "data": {
      "text/plain": [
       "array([  0,   5,   6,   7,   8,   9,  10,  11,  12,  13,  14,  15,  16,\n",
       "        17,  18,  19,  20,  21,  22,  23,  24,  25,  26,  27,  28,  29,\n",
       "        30,  31,  32,  33,  34,  35,  36,  37,  38,  39,  40,  41,  42,\n",
       "        43,  44,  45,  46,  47,  48,  49,  50,  51,  52,  53,  54,  55,\n",
       "        56,  57,  58,  59,  60,  61,  62,  63,  64,  65,  66,  67,  68,\n",
       "        69,  70,  71,  72,  73,  74,  75,  76,  77,  78,  79,  80,  81,\n",
       "        82,  83,  84,  85,  86,  87,  88,  89,  90,  92,  93,  94,  95,\n",
       "        97,  99, 100, 101, 102, 103, 105, 106, 107, 108, 109, 110, 112,\n",
       "       113, 114, 115, 116, 118, 119, 122, 123, 125, 127, 128, 129, 130,\n",
       "       131, 132, 136, 137, 138, 139, 140, 143, 144, 146, 147, 148, 149,\n",
       "       150, 151, 152, 156, 157, 158, 160, 164, 166, 168, 169, 172, 174,\n",
       "       176, 177, 180, 183, 184, 185, 188, 196, 199, 200, 202, 203, 206,\n",
       "       208, 211, 213, 216, 224, 227, 231, 235, 238, 243, 244, 247, 248,\n",
       "       251, 257, 263, 267, 271, 276, 278, 281, 283, 292, 294, 295, 308,\n",
       "       314, 320, 371, 383, 394, 427, 444, 445, 469, 473, 498, 556, 614,\n",
       "       663, 672, 750])"
      ]
     },
     "execution_count": 227,
     "metadata": {},
     "output_type": "execute_result"
    }
   ],
   "source": [
    "df['rating_count'].sort_values().unique()"
   ]
  },
  {
   "cell_type": "markdown",
   "metadata": {},
   "source": [
    "## Dataframes"
   ]
  },
  {
   "cell_type": "markdown",
   "metadata": {},
   "source": [
    "### Master  "
   ]
  },
  {
   "cell_type": "code",
   "execution_count": 228,
   "metadata": {},
   "outputs": [
    {
     "data": {
      "text/plain": [
       "(21995, 8)"
      ]
     },
     "execution_count": 228,
     "metadata": {},
     "output_type": "execute_result"
    }
   ],
   "source": [
    "df.shape"
   ]
  },
  {
   "cell_type": "code",
   "execution_count": 229,
   "metadata": {},
   "outputs": [
    {
     "name": "stdout",
     "output_type": "stream",
     "text": [
      "<class 'pandas.core.frame.DataFrame'>\n",
      "Int64Index: 21995 entries, 0 to 23818\n",
      "Data columns (total 8 columns):\n",
      " #   Column        Non-Null Count  Dtype  \n",
      "---  ------        --------------  -----  \n",
      " 0   product_name  21995 non-null  object \n",
      " 1   price         21995 non-null  int64  \n",
      " 2   varietal      21995 non-null  object \n",
      " 3   rating        21995 non-null  float64\n",
      " 4   rating_count  21995 non-null  int64  \n",
      " 5   appellation   21995 non-null  object \n",
      " 6   region        21995 non-null  object \n",
      " 7   year          21995 non-null  int64  \n",
      "dtypes: float64(1), int64(3), object(4)\n",
      "memory usage: 1.5+ MB\n"
     ]
    }
   ],
   "source": [
    "df.info()"
   ]
  },
  {
   "cell_type": "code",
   "execution_count": 230,
   "metadata": {},
   "outputs": [
    {
     "data": {
      "text/html": [
       "<div>\n",
       "<style scoped>\n",
       "    .dataframe tbody tr th:only-of-type {\n",
       "        vertical-align: middle;\n",
       "    }\n",
       "\n",
       "    .dataframe tbody tr th {\n",
       "        vertical-align: top;\n",
       "    }\n",
       "\n",
       "    .dataframe thead th {\n",
       "        text-align: right;\n",
       "    }\n",
       "</style>\n",
       "<table border=\"1\" class=\"dataframe\">\n",
       "  <thead>\n",
       "    <tr style=\"text-align: right;\">\n",
       "      <th></th>\n",
       "      <th>product_name</th>\n",
       "      <th>price</th>\n",
       "      <th>varietal</th>\n",
       "      <th>rating</th>\n",
       "      <th>rating_count</th>\n",
       "      <th>appellation</th>\n",
       "      <th>region</th>\n",
       "      <th>year</th>\n",
       "    </tr>\n",
       "  </thead>\n",
       "  <tbody>\n",
       "    <tr>\n",
       "      <th>0</th>\n",
       "      <td>Dom Perignon Vintage with Gift Box</td>\n",
       "      <td>199</td>\n",
       "      <td>Vintage Sparkling Wine</td>\n",
       "      <td>4.5</td>\n",
       "      <td>42</td>\n",
       "      <td>['Champagne']</td>\n",
       "      <td>France</td>\n",
       "      <td>2010</td>\n",
       "    </tr>\n",
       "    <tr>\n",
       "      <th>2</th>\n",
       "      <td>Duckhorn Napa Valley Cabernet Sauvignon</td>\n",
       "      <td>78</td>\n",
       "      <td>Cabernet Sauvignon</td>\n",
       "      <td>4.3</td>\n",
       "      <td>62</td>\n",
       "      <td>['Napa Valley']</td>\n",
       "      <td>California</td>\n",
       "      <td>2017</td>\n",
       "    </tr>\n",
       "    <tr>\n",
       "      <th>3</th>\n",
       "      <td>Caymus Special Selection Cabernet Sauvignon</td>\n",
       "      <td>180</td>\n",
       "      <td>Cabernet Sauvignon</td>\n",
       "      <td>4.6</td>\n",
       "      <td>108</td>\n",
       "      <td>['Napa Valley']</td>\n",
       "      <td>California</td>\n",
       "      <td>2016</td>\n",
       "    </tr>\n",
       "    <tr>\n",
       "      <th>4</th>\n",
       "      <td>Quintessa</td>\n",
       "      <td>199</td>\n",
       "      <td>Cabernet Sauvignon</td>\n",
       "      <td>4.7</td>\n",
       "      <td>73</td>\n",
       "      <td>[' Napa Valley']</td>\n",
       "      <td>California</td>\n",
       "      <td>2016</td>\n",
       "    </tr>\n",
       "    <tr>\n",
       "      <th>5</th>\n",
       "      <td>Joseph Phelps Insignia</td>\n",
       "      <td>300</td>\n",
       "      <td>Bordeaux Red Blends</td>\n",
       "      <td>4.6</td>\n",
       "      <td>81</td>\n",
       "      <td>['Napa Valley']</td>\n",
       "      <td>California</td>\n",
       "      <td>2016</td>\n",
       "    </tr>\n",
       "  </tbody>\n",
       "</table>\n",
       "</div>"
      ],
      "text/plain": [
       "                                  product_name  price                varietal  \\\n",
       "0           Dom Perignon Vintage with Gift Box    199  Vintage Sparkling Wine   \n",
       "2      Duckhorn Napa Valley Cabernet Sauvignon     78      Cabernet Sauvignon   \n",
       "3  Caymus Special Selection Cabernet Sauvignon    180      Cabernet Sauvignon   \n",
       "4                                    Quintessa    199      Cabernet Sauvignon   \n",
       "5                       Joseph Phelps Insignia    300     Bordeaux Red Blends   \n",
       "\n",
       "   rating  rating_count       appellation       region  year  \n",
       "0     4.5            42     ['Champagne']       France  2010  \n",
       "2     4.3            62   ['Napa Valley']   California  2017  \n",
       "3     4.6           108   ['Napa Valley']   California  2016  \n",
       "4     4.7            73  [' Napa Valley']   California  2016  \n",
       "5     4.6            81   ['Napa Valley']   California  2016  "
      ]
     },
     "execution_count": 230,
     "metadata": {},
     "output_type": "execute_result"
    }
   ],
   "source": [
    "df.head()"
   ]
  },
  {
   "cell_type": "code",
   "execution_count": 231,
   "metadata": {},
   "outputs": [],
   "source": [
    "df.to_csv('wine_master_dataset.csv')"
   ]
  },
  {
   "cell_type": "markdown",
   "metadata": {},
   "source": [
    "###  Wines with Ratings "
   ]
  },
  {
   "cell_type": "code",
   "execution_count": 232,
   "metadata": {},
   "outputs": [],
   "source": [
    "df_ratings_only = df.copy()"
   ]
  },
  {
   "cell_type": "code",
   "execution_count": 233,
   "metadata": {},
   "outputs": [],
   "source": [
    "df_ratings_only = df_ratings_only[df_ratings_only['rating_count'] > 0]  "
   ]
  },
  {
   "cell_type": "code",
   "execution_count": 234,
   "metadata": {},
   "outputs": [
    {
     "data": {
      "text/plain": [
       "(4111, 8)"
      ]
     },
     "execution_count": 234,
     "metadata": {},
     "output_type": "execute_result"
    }
   ],
   "source": [
    "df_ratings_only.shape"
   ]
  },
  {
   "cell_type": "code",
   "execution_count": 235,
   "metadata": {},
   "outputs": [
    {
     "name": "stdout",
     "output_type": "stream",
     "text": [
      "<class 'pandas.core.frame.DataFrame'>\n",
      "Int64Index: 4111 entries, 0 to 23786\n",
      "Data columns (total 8 columns):\n",
      " #   Column        Non-Null Count  Dtype  \n",
      "---  ------        --------------  -----  \n",
      " 0   product_name  4111 non-null   object \n",
      " 1   price         4111 non-null   int64  \n",
      " 2   varietal      4111 non-null   object \n",
      " 3   rating        4111 non-null   float64\n",
      " 4   rating_count  4111 non-null   int64  \n",
      " 5   appellation   4111 non-null   object \n",
      " 6   region        4111 non-null   object \n",
      " 7   year          4111 non-null   int64  \n",
      "dtypes: float64(1), int64(3), object(4)\n",
      "memory usage: 289.1+ KB\n"
     ]
    }
   ],
   "source": [
    "df_ratings_only.info()"
   ]
  },
  {
   "cell_type": "code",
   "execution_count": 236,
   "metadata": {},
   "outputs": [
    {
     "data": {
      "text/html": [
       "<div>\n",
       "<style scoped>\n",
       "    .dataframe tbody tr th:only-of-type {\n",
       "        vertical-align: middle;\n",
       "    }\n",
       "\n",
       "    .dataframe tbody tr th {\n",
       "        vertical-align: top;\n",
       "    }\n",
       "\n",
       "    .dataframe thead th {\n",
       "        text-align: right;\n",
       "    }\n",
       "</style>\n",
       "<table border=\"1\" class=\"dataframe\">\n",
       "  <thead>\n",
       "    <tr style=\"text-align: right;\">\n",
       "      <th></th>\n",
       "      <th>product_name</th>\n",
       "      <th>price</th>\n",
       "      <th>varietal</th>\n",
       "      <th>rating</th>\n",
       "      <th>rating_count</th>\n",
       "      <th>appellation</th>\n",
       "      <th>region</th>\n",
       "      <th>year</th>\n",
       "    </tr>\n",
       "  </thead>\n",
       "  <tbody>\n",
       "    <tr>\n",
       "      <th>0</th>\n",
       "      <td>Dom Perignon Vintage with Gift Box</td>\n",
       "      <td>199</td>\n",
       "      <td>Vintage Sparkling Wine</td>\n",
       "      <td>4.5</td>\n",
       "      <td>42</td>\n",
       "      <td>['Champagne']</td>\n",
       "      <td>France</td>\n",
       "      <td>2010</td>\n",
       "    </tr>\n",
       "    <tr>\n",
       "      <th>2</th>\n",
       "      <td>Duckhorn Napa Valley Cabernet Sauvignon</td>\n",
       "      <td>78</td>\n",
       "      <td>Cabernet Sauvignon</td>\n",
       "      <td>4.3</td>\n",
       "      <td>62</td>\n",
       "      <td>['Napa Valley']</td>\n",
       "      <td>California</td>\n",
       "      <td>2017</td>\n",
       "    </tr>\n",
       "    <tr>\n",
       "      <th>3</th>\n",
       "      <td>Caymus Special Selection Cabernet Sauvignon</td>\n",
       "      <td>180</td>\n",
       "      <td>Cabernet Sauvignon</td>\n",
       "      <td>4.6</td>\n",
       "      <td>108</td>\n",
       "      <td>['Napa Valley']</td>\n",
       "      <td>California</td>\n",
       "      <td>2016</td>\n",
       "    </tr>\n",
       "    <tr>\n",
       "      <th>4</th>\n",
       "      <td>Quintessa</td>\n",
       "      <td>199</td>\n",
       "      <td>Cabernet Sauvignon</td>\n",
       "      <td>4.7</td>\n",
       "      <td>73</td>\n",
       "      <td>[' Napa Valley']</td>\n",
       "      <td>California</td>\n",
       "      <td>2016</td>\n",
       "    </tr>\n",
       "    <tr>\n",
       "      <th>5</th>\n",
       "      <td>Joseph Phelps Insignia</td>\n",
       "      <td>300</td>\n",
       "      <td>Bordeaux Red Blends</td>\n",
       "      <td>4.6</td>\n",
       "      <td>81</td>\n",
       "      <td>['Napa Valley']</td>\n",
       "      <td>California</td>\n",
       "      <td>2016</td>\n",
       "    </tr>\n",
       "  </tbody>\n",
       "</table>\n",
       "</div>"
      ],
      "text/plain": [
       "                                  product_name  price                varietal  \\\n",
       "0           Dom Perignon Vintage with Gift Box    199  Vintage Sparkling Wine   \n",
       "2      Duckhorn Napa Valley Cabernet Sauvignon     78      Cabernet Sauvignon   \n",
       "3  Caymus Special Selection Cabernet Sauvignon    180      Cabernet Sauvignon   \n",
       "4                                    Quintessa    199      Cabernet Sauvignon   \n",
       "5                       Joseph Phelps Insignia    300     Bordeaux Red Blends   \n",
       "\n",
       "   rating  rating_count       appellation       region  year  \n",
       "0     4.5            42     ['Champagne']       France  2010  \n",
       "2     4.3            62   ['Napa Valley']   California  2017  \n",
       "3     4.6           108   ['Napa Valley']   California  2016  \n",
       "4     4.7            73  [' Napa Valley']   California  2016  \n",
       "5     4.6            81   ['Napa Valley']   California  2016  "
      ]
     },
     "execution_count": 236,
     "metadata": {},
     "output_type": "execute_result"
    }
   ],
   "source": [
    "df_ratings_only.head()"
   ]
  },
  {
   "cell_type": "code",
   "execution_count": 237,
   "metadata": {},
   "outputs": [
    {
     "data": {
      "text/plain": [
       "(4111, 8)"
      ]
     },
     "execution_count": 237,
     "metadata": {},
     "output_type": "execute_result"
    }
   ],
   "source": [
    "df_ratings_only.shape"
   ]
  },
  {
   "cell_type": "markdown",
   "metadata": {},
   "source": [
    "### Wines with Bonafide Varietals"
   ]
  },
  {
   "cell_type": "code",
   "execution_count": 238,
   "metadata": {},
   "outputs": [
    {
     "data": {
      "text/plain": [
       "84"
      ]
     },
     "execution_count": 238,
     "metadata": {},
     "output_type": "execute_result"
    }
   ],
   "source": [
    "df['varietal'].unique().size"
   ]
  },
  {
   "cell_type": "code",
   "execution_count": 239,
   "metadata": {},
   "outputs": [],
   "source": [
    "# copy original dataframe for manipulation\n",
    "df_varietals = df.copy()\n",
    "\n",
    "# create the list or non-varietals - identified from 88 unique varietals\n",
    "non_varietals = ['Port', 'Non-Vintage Sparkling Wine', 'Vintage Sparkling Wine']\n",
    "\n",
    "# Delete these row indexes from dataFrame that have the non-variatals in them\n",
    "df_varietals = df_varietals[~df_varietals['varietal'].isin(non_varietals)]"
   ]
  },
  {
   "cell_type": "code",
   "execution_count": 240,
   "metadata": {},
   "outputs": [
    {
     "data": {
      "text/plain": [
       "array(['Agiorgitiko', 'Aglianico', 'Albarino', 'Alicante Bouschet',\n",
       "       'Arneis', 'Assyrtiko', 'Baga', 'Barbera', 'Blaufrankisch', 'Bobal',\n",
       "       'Bordeaux Red Blends', 'Bordeaux White Blends', 'Cabernet Franc',\n",
       "       'Cabernet Sauvignon', 'Carignan', 'Carmenere', 'Chardonnay',\n",
       "       'Chenin Blanc', 'Corvina', 'Dolcetto', 'Fiano', 'Friulano',\n",
       "       'Fruit Wine', 'Furmint', 'Gamay', 'Garganega', 'Gewurztraminer',\n",
       "       'Godello', 'Greco', 'Grenache', 'Grenache Blanc',\n",
       "       'Gruner Veltliner', 'Lagrein', 'Madeira', 'Malbec', 'Marsanne',\n",
       "       'Melon de Bourgogne', 'Mencia', 'Merlot', 'Montepulciano',\n",
       "       'Mourvedre', 'Muscat', 'Nebbiolo', 'Nerello Mascalese',\n",
       "       \"Nero d'Avola\", 'Other Dessert', 'Other Red Blends',\n",
       "       'Other Red Wine', 'Other White Blends', 'Other White Wine',\n",
       "       'Petit Verdot', 'Petite Sirah', 'Pinot Blanc', 'Pinot Gris/Grigio',\n",
       "       'Pinot Noir', 'Pinotage', 'Red Sparkling Wine', 'Rhone Red Blends',\n",
       "       'Rhone White Blends', 'Riesling', 'Rosé', 'Rosé Sparkling Wine',\n",
       "       'Roussanne', 'Sagrantino', 'Sangiovese', 'Sauvignon Blanc',\n",
       "       'Semillon', 'Sherry', 'Syrah/Shiraz', 'Tannat', 'Tempranillo',\n",
       "       'Torrontes', 'Touriga Nacional', 'Tuscan Blends', 'Valdiguie',\n",
       "       'Verdejo', 'Verdicchio', 'Vermentino', 'Viognier', 'Viura',\n",
       "       'Xinomavro', 'Zinfandel'], dtype=object)"
      ]
     },
     "execution_count": 240,
     "metadata": {},
     "output_type": "execute_result"
    }
   ],
   "source": [
    "# this is the df with the non-wine varietals\n",
    "df_varietals['varietal'].sort_values().unique()"
   ]
  },
  {
   "cell_type": "code",
   "execution_count": 241,
   "metadata": {},
   "outputs": [
    {
     "data": {
      "text/plain": [
       "(21370, 8)"
      ]
     },
     "execution_count": 241,
     "metadata": {},
     "output_type": "execute_result"
    }
   ],
   "source": [
    "df_varietals.shape"
   ]
  },
  {
   "cell_type": "code",
   "execution_count": 242,
   "metadata": {},
   "outputs": [
    {
     "name": "stdout",
     "output_type": "stream",
     "text": [
      "<class 'pandas.core.frame.DataFrame'>\n",
      "Int64Index: 21370 entries, 2 to 23818\n",
      "Data columns (total 8 columns):\n",
      " #   Column        Non-Null Count  Dtype  \n",
      "---  ------        --------------  -----  \n",
      " 0   product_name  21370 non-null  object \n",
      " 1   price         21370 non-null  int64  \n",
      " 2   varietal      21370 non-null  object \n",
      " 3   rating        21370 non-null  float64\n",
      " 4   rating_count  21370 non-null  int64  \n",
      " 5   appellation   21370 non-null  object \n",
      " 6   region        21370 non-null  object \n",
      " 7   year          21370 non-null  int64  \n",
      "dtypes: float64(1), int64(3), object(4)\n",
      "memory usage: 1.5+ MB\n"
     ]
    }
   ],
   "source": [
    "df_varietals.info()"
   ]
  },
  {
   "cell_type": "code",
   "execution_count": 243,
   "metadata": {},
   "outputs": [
    {
     "data": {
      "text/html": [
       "<div>\n",
       "<style scoped>\n",
       "    .dataframe tbody tr th:only-of-type {\n",
       "        vertical-align: middle;\n",
       "    }\n",
       "\n",
       "    .dataframe tbody tr th {\n",
       "        vertical-align: top;\n",
       "    }\n",
       "\n",
       "    .dataframe thead th {\n",
       "        text-align: right;\n",
       "    }\n",
       "</style>\n",
       "<table border=\"1\" class=\"dataframe\">\n",
       "  <thead>\n",
       "    <tr style=\"text-align: right;\">\n",
       "      <th></th>\n",
       "      <th>product_name</th>\n",
       "      <th>price</th>\n",
       "      <th>varietal</th>\n",
       "      <th>rating</th>\n",
       "      <th>rating_count</th>\n",
       "      <th>appellation</th>\n",
       "      <th>region</th>\n",
       "      <th>year</th>\n",
       "    </tr>\n",
       "  </thead>\n",
       "  <tbody>\n",
       "    <tr>\n",
       "      <th>2</th>\n",
       "      <td>Duckhorn Napa Valley Cabernet Sauvignon</td>\n",
       "      <td>78</td>\n",
       "      <td>Cabernet Sauvignon</td>\n",
       "      <td>4.3</td>\n",
       "      <td>62</td>\n",
       "      <td>['Napa Valley']</td>\n",
       "      <td>California</td>\n",
       "      <td>2017</td>\n",
       "    </tr>\n",
       "    <tr>\n",
       "      <th>3</th>\n",
       "      <td>Caymus Special Selection Cabernet Sauvignon</td>\n",
       "      <td>180</td>\n",
       "      <td>Cabernet Sauvignon</td>\n",
       "      <td>4.6</td>\n",
       "      <td>108</td>\n",
       "      <td>['Napa Valley']</td>\n",
       "      <td>California</td>\n",
       "      <td>2016</td>\n",
       "    </tr>\n",
       "    <tr>\n",
       "      <th>4</th>\n",
       "      <td>Quintessa</td>\n",
       "      <td>199</td>\n",
       "      <td>Cabernet Sauvignon</td>\n",
       "      <td>4.7</td>\n",
       "      <td>73</td>\n",
       "      <td>[' Napa Valley']</td>\n",
       "      <td>California</td>\n",
       "      <td>2016</td>\n",
       "    </tr>\n",
       "    <tr>\n",
       "      <th>5</th>\n",
       "      <td>Joseph Phelps Insignia</td>\n",
       "      <td>300</td>\n",
       "      <td>Bordeaux Red Blends</td>\n",
       "      <td>4.6</td>\n",
       "      <td>81</td>\n",
       "      <td>['Napa Valley']</td>\n",
       "      <td>California</td>\n",
       "      <td>2016</td>\n",
       "    </tr>\n",
       "    <tr>\n",
       "      <th>6</th>\n",
       "      <td>Opus One</td>\n",
       "      <td>364</td>\n",
       "      <td>Bordeaux Red Blends</td>\n",
       "      <td>4.2</td>\n",
       "      <td>8</td>\n",
       "      <td>[' Napa Valley']</td>\n",
       "      <td>California</td>\n",
       "      <td>2017</td>\n",
       "    </tr>\n",
       "  </tbody>\n",
       "</table>\n",
       "</div>"
      ],
      "text/plain": [
       "                                  product_name  price             varietal  \\\n",
       "2      Duckhorn Napa Valley Cabernet Sauvignon     78   Cabernet Sauvignon   \n",
       "3  Caymus Special Selection Cabernet Sauvignon    180   Cabernet Sauvignon   \n",
       "4                                    Quintessa    199   Cabernet Sauvignon   \n",
       "5                       Joseph Phelps Insignia    300  Bordeaux Red Blends   \n",
       "6                                     Opus One    364  Bordeaux Red Blends   \n",
       "\n",
       "   rating  rating_count       appellation       region  year  \n",
       "2     4.3            62   ['Napa Valley']   California  2017  \n",
       "3     4.6           108   ['Napa Valley']   California  2016  \n",
       "4     4.7            73  [' Napa Valley']   California  2016  \n",
       "5     4.6            81   ['Napa Valley']   California  2016  \n",
       "6     4.2             8  [' Napa Valley']   California  2017  "
      ]
     },
     "execution_count": 243,
     "metadata": {},
     "output_type": "execute_result"
    }
   ],
   "source": [
    "df_varietals.head()"
   ]
  },
  {
   "cell_type": "markdown",
   "metadata": {},
   "source": [
    "### Wines with prices that aren't outliers (IQR or zscore)"
   ]
  },
  {
   "cell_type": "code",
   "execution_count": 244,
   "metadata": {},
   "outputs": [],
   "source": [
    "df_price = df.copy()"
   ]
  },
  {
   "cell_type": "code",
   "execution_count": 245,
   "metadata": {},
   "outputs": [
    {
     "data": {
      "image/png": "[encoded data removed]",
      "text/plain": [
       "<Figure size 1152x360 with 1 Axes>"
      ]
     },
     "metadata": {
      "needs_background": "light"
     },
     "output_type": "display_data"
    }
   ],
   "source": [
    "plt.figure(figsize = [16, 5])\n",
    "sb.boxplot(x=df_price['price']);"
   ]
  },
  {
   "cell_type": "code",
   "execution_count": 246,
   "metadata": {},
   "outputs": [
    {
     "data": {
      "text/plain": [
       "count    21995.000000\n",
       "mean       230.854922\n",
       "std        564.229348\n",
       "min          7.000000\n",
       "25%         62.000000\n",
       "50%        109.000000\n",
       "75%        214.000000\n",
       "max      17999.000000\n",
       "Name: price, dtype: float64"
      ]
     },
     "execution_count": 246,
     "metadata": {},
     "output_type": "execute_result"
    }
   ],
   "source": [
    "df_price['price'].describe()"
   ]
  },
  {
   "cell_type": "code",
   "execution_count": 247,
   "metadata": {},
   "outputs": [],
   "source": [
    "from scipy import stats\n",
    "df_price['z_score'] = stats.zscore(df_price['price'])\n",
    "df_price['z_score'] = np.abs(df_price['z_score'])"
   ]
  },
  {
   "cell_type": "code",
   "execution_count": 248,
   "metadata": {},
   "outputs": [
    {
     "name": "stdout",
     "output_type": "stream",
     "text": [
      "(array([  143,   170,   246,  1277,  1387,  1405,  1459,  1477,  1489,\n",
      "        1514,  1578,  1585,  1591,  1602,  1635,  1688,  1704,  1712,\n",
      "        1729,  1779,  1824,  1851,  1878,  1919,  1937,  1943,  1961,\n",
      "        1994,  2007,  2018,  2024,  2083,  2085,  2093,  2098,  2103,\n",
      "        2184,  2255,  2262,  2276,  2305,  2342,  2349,  2781,  2782,\n",
      "        2800,  2820,  2830,  2871,  2878,  2882,  2889,  2890,  2984,\n",
      "        3014,  3037,  3191,  3200,  3204,  3211,  3253,  3311,  3335,\n",
      "        3383,  3391,  3587,  3707,  3831,  3938,  4050,  4264,  4266,\n",
      "        4303,  4304,  4312,  4314,  4315,  4330,  4360,  4401,  4424,\n",
      "        4536,  4623,  4791,  4853,  5170,  5180,  5238,  5359,  5483,\n",
      "        5995,  6027,  6461,  6488,  6605,  6645,  6661,  6693,  6719,\n",
      "        6748,  6851,  7280,  7343,  7381,  7534,  7761,  7820,  7846,\n",
      "        7944,  8119,  8125,  8161,  8261,  8552,  8635,  8998,  9254,\n",
      "        9440,  9672,  9888, 10242, 10843, 10867, 11416, 11618, 12024,\n",
      "       12317, 12471, 12522, 12524, 12637, 12941, 12998, 13031, 13037,\n",
      "       14483, 14525, 15577, 15789, 15863, 15982, 16126, 16361, 16368,\n",
      "       16672, 16727, 16764, 16769, 16805, 16894, 16913, 17116, 17152,\n",
      "       17160, 17195, 17361, 17434, 17495, 17528, 17560, 17587, 17627,\n",
      "       17657, 17787, 17950, 18004, 18072, 18221, 18224, 18307, 18313,\n",
      "       18408, 18518, 18533, 18545, 18577, 18578, 18601, 18758, 18807,\n",
      "       18811, 18814, 18857, 18985, 19467, 19476, 19561, 19591, 19697,\n",
      "       19706, 19755, 19798, 19832, 19841, 19884, 20006, 20040, 20145,\n",
      "       20404, 20470, 20582, 20654, 20806, 20882, 20897, 21149, 21200,\n",
      "       21231, 21239, 21286, 21364, 21366, 21379, 21407, 21426, 21557,\n",
      "       21565, 21570, 21574, 21598, 21633, 21648, 21695, 21726, 21798,\n",
      "       21912, 21923, 21926, 21940, 21950, 21993]),)\n"
     ]
    }
   ],
   "source": [
    "print(np.where(df_price['z_score'] > 3))"
   ]
  },
  {
   "cell_type": "code",
   "execution_count": 249,
   "metadata": {},
   "outputs": [],
   "source": [
    "# drop anything that is older than 1950 - wine is probably not good anymore!\n",
    "df_price = df_price[df_price['z_score'] < 1]  "
   ]
  },
  {
   "cell_type": "code",
   "execution_count": 250,
   "metadata": {},
   "outputs": [
    {
     "data": {
      "image/png": "[encoded data removed]",
      "text/plain": [
       "<Figure size 1152x360 with 1 Axes>"
      ]
     },
     "metadata": {
      "needs_background": "light"
     },
     "output_type": "display_data"
    }
   ],
   "source": [
    "plt.figure(figsize = [16, 5])\n",
    "sb.boxplot(x=df_price['price']);"
   ]
  },
  {
   "cell_type": "code",
   "execution_count": 251,
   "metadata": {},
   "outputs": [
    {
     "data": {
      "text/plain": [
       "count    21031.000000\n",
       "mean       155.838096\n",
       "std        144.912899\n",
       "min          7.000000\n",
       "25%         60.000000\n",
       "50%        100.000000\n",
       "75%        189.000000\n",
       "max        789.000000\n",
       "Name: price, dtype: float64"
      ]
     },
     "execution_count": 251,
     "metadata": {},
     "output_type": "execute_result"
    }
   ],
   "source": [
    "df_price['price'].describe()"
   ]
  },
  {
   "cell_type": "markdown",
   "metadata": {},
   "source": [
    "### Wines that are only from California "
   ]
  },
  {
   "cell_type": "code",
   "execution_count": 252,
   "metadata": {},
   "outputs": [],
   "source": [
    "df_ca = df.copy()"
   ]
  },
  {
   "cell_type": "code",
   "execution_count": 253,
   "metadata": {},
   "outputs": [],
   "source": [
    "# above_35 = titanic[titanic[\"Age\"] > 35]\n",
    "df_ca = df_ca[df_ca['region'] == ' California']"
   ]
  },
  {
   "cell_type": "code",
   "execution_count": 254,
   "metadata": {},
   "outputs": [
    {
     "data": {
      "text/html": [
       "<div>\n",
       "<style scoped>\n",
       "    .dataframe tbody tr th:only-of-type {\n",
       "        vertical-align: middle;\n",
       "    }\n",
       "\n",
       "    .dataframe tbody tr th {\n",
       "        vertical-align: top;\n",
       "    }\n",
       "\n",
       "    .dataframe thead th {\n",
       "        text-align: right;\n",
       "    }\n",
       "</style>\n",
       "<table border=\"1\" class=\"dataframe\">\n",
       "  <thead>\n",
       "    <tr style=\"text-align: right;\">\n",
       "      <th></th>\n",
       "      <th>product_name</th>\n",
       "      <th>price</th>\n",
       "      <th>varietal</th>\n",
       "      <th>rating</th>\n",
       "      <th>rating_count</th>\n",
       "      <th>appellation</th>\n",
       "      <th>region</th>\n",
       "      <th>year</th>\n",
       "    </tr>\n",
       "  </thead>\n",
       "  <tbody>\n",
       "    <tr>\n",
       "      <th>2</th>\n",
       "      <td>Duckhorn Napa Valley Cabernet Sauvignon</td>\n",
       "      <td>78</td>\n",
       "      <td>Cabernet Sauvignon</td>\n",
       "      <td>4.3</td>\n",
       "      <td>62</td>\n",
       "      <td>['Napa Valley']</td>\n",
       "      <td>California</td>\n",
       "      <td>2017</td>\n",
       "    </tr>\n",
       "    <tr>\n",
       "      <th>3</th>\n",
       "      <td>Caymus Special Selection Cabernet Sauvignon</td>\n",
       "      <td>180</td>\n",
       "      <td>Cabernet Sauvignon</td>\n",
       "      <td>4.6</td>\n",
       "      <td>108</td>\n",
       "      <td>['Napa Valley']</td>\n",
       "      <td>California</td>\n",
       "      <td>2016</td>\n",
       "    </tr>\n",
       "    <tr>\n",
       "      <th>4</th>\n",
       "      <td>Quintessa</td>\n",
       "      <td>199</td>\n",
       "      <td>Cabernet Sauvignon</td>\n",
       "      <td>4.7</td>\n",
       "      <td>73</td>\n",
       "      <td>[' Napa Valley']</td>\n",
       "      <td>California</td>\n",
       "      <td>2016</td>\n",
       "    </tr>\n",
       "    <tr>\n",
       "      <th>5</th>\n",
       "      <td>Joseph Phelps Insignia</td>\n",
       "      <td>300</td>\n",
       "      <td>Bordeaux Red Blends</td>\n",
       "      <td>4.6</td>\n",
       "      <td>81</td>\n",
       "      <td>['Napa Valley']</td>\n",
       "      <td>California</td>\n",
       "      <td>2016</td>\n",
       "    </tr>\n",
       "    <tr>\n",
       "      <th>6</th>\n",
       "      <td>Opus One</td>\n",
       "      <td>364</td>\n",
       "      <td>Bordeaux Red Blends</td>\n",
       "      <td>4.2</td>\n",
       "      <td>8</td>\n",
       "      <td>[' Napa Valley']</td>\n",
       "      <td>California</td>\n",
       "      <td>2017</td>\n",
       "    </tr>\n",
       "  </tbody>\n",
       "</table>\n",
       "</div>"
      ],
      "text/plain": [
       "                                  product_name  price             varietal  \\\n",
       "2      Duckhorn Napa Valley Cabernet Sauvignon     78   Cabernet Sauvignon   \n",
       "3  Caymus Special Selection Cabernet Sauvignon    180   Cabernet Sauvignon   \n",
       "4                                    Quintessa    199   Cabernet Sauvignon   \n",
       "5                       Joseph Phelps Insignia    300  Bordeaux Red Blends   \n",
       "6                                     Opus One    364  Bordeaux Red Blends   \n",
       "\n",
       "   rating  rating_count       appellation       region  year  \n",
       "2     4.3            62   ['Napa Valley']   California  2017  \n",
       "3     4.6           108   ['Napa Valley']   California  2016  \n",
       "4     4.7            73  [' Napa Valley']   California  2016  \n",
       "5     4.6            81   ['Napa Valley']   California  2016  \n",
       "6     4.2             8  [' Napa Valley']   California  2017  "
      ]
     },
     "execution_count": 254,
     "metadata": {},
     "output_type": "execute_result"
    }
   ],
   "source": [
    "df_ca.head()"
   ]
  },
  {
   "cell_type": "markdown",
   "metadata": {},
   "source": [
    "# Store in SQL Database "
   ]
  },
  {
   "cell_type": "code",
   "execution_count": 255,
   "metadata": {},
   "outputs": [],
   "source": [
    "# Create SQLAlchemy Engine and empty bestofrt database\n",
    "# bestofrt.db will not show up in the Jupyter Notebook dashboard yet\n",
    "engine = create_engine('sqlite:///winewebscraping.db')"
   ]
  },
  {
   "cell_type": "code",
   "execution_count": 256,
   "metadata": {},
   "outputs": [],
   "source": [
    "# Store cleaned master DataFrame ('df') in a table called master in marswind.db\n",
    "# marswind.db will be visible now in the Jupyter Notebook dashboard\n",
    "df.to_sql('master', engine, index=False)\n",
    "df_ratings_only.to_sql('ratings', engine, index=False)\n",
    "df_varietals.to_sql('varietals', engine, index=False)\n",
    "df_price.to_sql('prices', engine, index=False)\n",
    "df_ca.to_sql('california', engine, index=False)"
   ]
  },
  {
   "cell_type": "code",
   "execution_count": 257,
   "metadata": {},
   "outputs": [],
   "source": [
    "df_db = pd.read_sql('SELECT * FROM varietals', engine)"
   ]
  },
  {
   "cell_type": "code",
   "execution_count": 258,
   "metadata": {},
   "outputs": [
    {
     "data": {
      "text/html": [
       "<div>\n",
       "<style scoped>\n",
       "    .dataframe tbody tr th:only-of-type {\n",
       "        vertical-align: middle;\n",
       "    }\n",
       "\n",
       "    .dataframe tbody tr th {\n",
       "        vertical-align: top;\n",
       "    }\n",
       "\n",
       "    .dataframe thead th {\n",
       "        text-align: right;\n",
       "    }\n",
       "</style>\n",
       "<table border=\"1\" class=\"dataframe\">\n",
       "  <thead>\n",
       "    <tr style=\"text-align: right;\">\n",
       "      <th></th>\n",
       "      <th>product_name</th>\n",
       "      <th>price</th>\n",
       "      <th>varietal</th>\n",
       "      <th>rating</th>\n",
       "      <th>rating_count</th>\n",
       "      <th>appellation</th>\n",
       "      <th>region</th>\n",
       "      <th>year</th>\n",
       "      <th>z_score</th>\n",
       "    </tr>\n",
       "  </thead>\n",
       "  <tbody>\n",
       "    <tr>\n",
       "      <th>0</th>\n",
       "      <td>Dom Perignon Vintage with Gift Box</td>\n",
       "      <td>199</td>\n",
       "      <td>Vintage Sparkling Wine</td>\n",
       "      <td>4.5</td>\n",
       "      <td>42</td>\n",
       "      <td>['Champagne']</td>\n",
       "      <td>France</td>\n",
       "      <td>2010</td>\n",
       "      <td>0.056459</td>\n",
       "    </tr>\n",
       "    <tr>\n",
       "      <th>2</th>\n",
       "      <td>Duckhorn Napa Valley Cabernet Sauvignon</td>\n",
       "      <td>78</td>\n",
       "      <td>Cabernet Sauvignon</td>\n",
       "      <td>4.3</td>\n",
       "      <td>62</td>\n",
       "      <td>['Napa Valley']</td>\n",
       "      <td>California</td>\n",
       "      <td>2017</td>\n",
       "      <td>0.270915</td>\n",
       "    </tr>\n",
       "    <tr>\n",
       "      <th>3</th>\n",
       "      <td>Caymus Special Selection Cabernet Sauvignon</td>\n",
       "      <td>180</td>\n",
       "      <td>Cabernet Sauvignon</td>\n",
       "      <td>4.6</td>\n",
       "      <td>108</td>\n",
       "      <td>['Napa Valley']</td>\n",
       "      <td>California</td>\n",
       "      <td>2016</td>\n",
       "      <td>0.090134</td>\n",
       "    </tr>\n",
       "  </tbody>\n",
       "</table>\n",
       "</div>"
      ],
      "text/plain": [
       "                                  product_name  price                varietal  \\\n",
       "0           Dom Perignon Vintage with Gift Box    199  Vintage Sparkling Wine   \n",
       "2      Duckhorn Napa Valley Cabernet Sauvignon     78      Cabernet Sauvignon   \n",
       "3  Caymus Special Selection Cabernet Sauvignon    180      Cabernet Sauvignon   \n",
       "\n",
       "   rating  rating_count      appellation       region  year   z_score  \n",
       "0     4.5            42    ['Champagne']       France  2010  0.056459  \n",
       "2     4.3            62  ['Napa Valley']   California  2017  0.270915  \n",
       "3     4.6           108  ['Napa Valley']   California  2016  0.090134  "
      ]
     },
     "execution_count": 258,
     "metadata": {},
     "output_type": "execute_result"
    }
   ],
   "source": [
    "df_price.head(3)"
   ]
  }
 ],
 "metadata": {
  "kernelspec": {
   "display_name": "Python 3",
   "language": "python",
   "name": "python3"
  },
  "language_info": {
   "codemirror_mode": {
    "name": "ipython",
    "version": 3
   },
   "file_extension": ".py",
   "mimetype": "text/x-python",
   "name": "python",
   "nbconvert_exporter": "python",
   "pygments_lexer": "ipython3",
   "version": "3.8.3"
  }
 },
 "nbformat": 4,
 "nbformat_minor": 2
}
