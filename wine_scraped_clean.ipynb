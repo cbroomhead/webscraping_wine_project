{
 "cells": [
  {
   "cell_type": "code",
   "execution_count": 65,
   "metadata": {},
   "outputs": [],
   "source": [
    "import pandas as pd\n",
    "import numpy as np\n",
    "import re\n",
    "from sqlalchemy import create_engine, insert\n",
    "import matplotlib.pyplot as plt\n",
    "import seaborn as sb\n",
    "\n",
    "%matplotlib inline"
   ]
  },
  {
   "cell_type": "code",
   "execution_count": 66,
   "metadata": {},
   "outputs": [],
   "source": [
    "df = pd.read_csv('wine_scraped_dataset.csv', index_col=0)"
   ]
  },
  {
   "cell_type": "markdown",
   "metadata": {},
   "source": [
    "## Assess "
   ]
  },
  {
   "cell_type": "code",
   "execution_count": 67,
   "metadata": {},
   "outputs": [
    {
     "name": "stdout",
     "output_type": "stream",
     "text": [
      "<class 'pandas.core.frame.DataFrame'>\n",
      "Int64Index: 23822 entries, 0 to 23821\n",
      "Data columns (total 6 columns):\n",
      " #   Column        Non-Null Count  Dtype  \n",
      "---  ------        --------------  -----  \n",
      " 0   product_name  23822 non-null  object \n",
      " 1   price         23822 non-null  object \n",
      " 2   varietal      23822 non-null  object \n",
      " 3   origin        23819 non-null  object \n",
      " 4   rating        23822 non-null  float64\n",
      " 5   rating_count  23822 non-null  int64  \n",
      "dtypes: float64(1), int64(1), object(4)\n",
      "memory usage: 1.3+ MB\n"
     ]
    }
   ],
   "source": [
    "df.info()"
   ]
  },
  {
   "cell_type": "code",
   "execution_count": 68,
   "metadata": {},
   "outputs": [
    {
     "data": {
      "text/html": [
       "<div>\n",
       "<style scoped>\n",
       "    .dataframe tbody tr th:only-of-type {\n",
       "        vertical-align: middle;\n",
       "    }\n",
       "\n",
       "    .dataframe tbody tr th {\n",
       "        vertical-align: top;\n",
       "    }\n",
       "\n",
       "    .dataframe thead th {\n",
       "        text-align: right;\n",
       "    }\n",
       "</style>\n",
       "<table border=\"1\" class=\"dataframe\">\n",
       "  <thead>\n",
       "    <tr style=\"text-align: right;\">\n",
       "      <th></th>\n",
       "      <th>product_name</th>\n",
       "      <th>price</th>\n",
       "      <th>varietal</th>\n",
       "      <th>origin</th>\n",
       "      <th>rating</th>\n",
       "      <th>rating_count</th>\n",
       "    </tr>\n",
       "  </thead>\n",
       "  <tbody>\n",
       "    <tr>\n",
       "      <th>0</th>\n",
       "      <td>Dom Perignon Vintage with Gift Box 2010</td>\n",
       "      <td>199</td>\n",
       "      <td>Vintage Sparkling Wine</td>\n",
       "      <td>Champagne, France</td>\n",
       "      <td>4.5</td>\n",
       "      <td>42</td>\n",
       "    </tr>\n",
       "    <tr>\n",
       "      <th>1</th>\n",
       "      <td>Veuve Clicquot Yellow Label Brut</td>\n",
       "      <td>59</td>\n",
       "      <td>Non-Vintage Sparkling Wine</td>\n",
       "      <td>Champagne, France</td>\n",
       "      <td>4.4</td>\n",
       "      <td>1138</td>\n",
       "    </tr>\n",
       "    <tr>\n",
       "      <th>2</th>\n",
       "      <td>Duckhorn Napa Valley Cabernet Sauvignon 2017</td>\n",
       "      <td>78</td>\n",
       "      <td>Cabernet Sauvignon</td>\n",
       "      <td>Napa Valley, California</td>\n",
       "      <td>4.3</td>\n",
       "      <td>62</td>\n",
       "    </tr>\n",
       "    <tr>\n",
       "      <th>3</th>\n",
       "      <td>Caymus Special Selection Cabernet Sauvignon 2016</td>\n",
       "      <td>180</td>\n",
       "      <td>Cabernet Sauvignon</td>\n",
       "      <td>Napa Valley, California</td>\n",
       "      <td>4.6</td>\n",
       "      <td>108</td>\n",
       "    </tr>\n",
       "    <tr>\n",
       "      <th>4</th>\n",
       "      <td>Quintessa 2016</td>\n",
       "      <td>199</td>\n",
       "      <td>Cabernet Sauvignon</td>\n",
       "      <td>Rutherford, Napa Valley, California</td>\n",
       "      <td>4.7</td>\n",
       "      <td>73</td>\n",
       "    </tr>\n",
       "  </tbody>\n",
       "</table>\n",
       "</div>"
      ],
      "text/plain": [
       "                                       product_name price  \\\n",
       "0           Dom Perignon Vintage with Gift Box 2010   199   \n",
       "1                  Veuve Clicquot Yellow Label Brut    59   \n",
       "2      Duckhorn Napa Valley Cabernet Sauvignon 2017    78   \n",
       "3  Caymus Special Selection Cabernet Sauvignon 2016   180   \n",
       "4                                    Quintessa 2016   199   \n",
       "\n",
       "                     varietal                               origin  rating  \\\n",
       "0      Vintage Sparkling Wine                    Champagne, France     4.5   \n",
       "1  Non-Vintage Sparkling Wine                    Champagne, France     4.4   \n",
       "2          Cabernet Sauvignon              Napa Valley, California     4.3   \n",
       "3          Cabernet Sauvignon              Napa Valley, California     4.6   \n",
       "4          Cabernet Sauvignon  Rutherford, Napa Valley, California     4.7   \n",
       "\n",
       "   rating_count  \n",
       "0            42  \n",
       "1          1138  \n",
       "2            62  \n",
       "3           108  \n",
       "4            73  "
      ]
     },
     "execution_count": 68,
     "metadata": {},
     "output_type": "execute_result"
    }
   ],
   "source": [
    "df.head()"
   ]
  },
  {
   "cell_type": "markdown",
   "metadata": {},
   "source": [
    "### Cleaning "
   ]
  },
  {
   "cell_type": "markdown",
   "metadata": {},
   "source": [
    "The following items have been indentified as tidiness/ quality issues:\n",
    "- 'origin' is missing three values\n",
    "- separate 'origin' into 'region' and 'appelation'\n",
    "- Remove non wines from varietals: 'Port' 'Non-Vintage Sparkling Wine' 'Vintage Sparkling Wine'\n",
    "- Seperate 'year' out of 'product_name' and drop the ones that don't have a year?\n",
    "- turn remove commas and turn price into int"
   ]
  },
  {
   "cell_type": "markdown",
   "metadata": {},
   "source": [
    "### 'origin' is missing three values "
   ]
  },
  {
   "cell_type": "code",
   "execution_count": 69,
   "metadata": {},
   "outputs": [
    {
     "name": "stdout",
     "output_type": "stream",
     "text": [
      "<class 'pandas.core.frame.DataFrame'>\n",
      "Int64Index: 23819 entries, 0 to 23821\n",
      "Data columns (total 6 columns):\n",
      " #   Column        Non-Null Count  Dtype  \n",
      "---  ------        --------------  -----  \n",
      " 0   product_name  23819 non-null  object \n",
      " 1   price         23819 non-null  object \n",
      " 2   varietal      23819 non-null  object \n",
      " 3   origin        23819 non-null  object \n",
      " 4   rating        23819 non-null  float64\n",
      " 5   rating_count  23819 non-null  int64  \n",
      "dtypes: float64(1), int64(1), object(4)\n",
      "memory usage: 1.3+ MB\n"
     ]
    }
   ],
   "source": [
    "df = df[df['origin'].notna()]\n",
    "# check, if it worked we should see 23819 entries\n",
    "df.info()"
   ]
  },
  {
   "cell_type": "markdown",
   "metadata": {},
   "source": [
    "###  separate 'origin' into 'region' and 'appelation'"
   ]
  },
  {
   "cell_type": "code",
   "execution_count": 70,
   "metadata": {},
   "outputs": [],
   "source": [
    "df_or = df.copy()"
   ]
  },
  {
   "cell_type": "code",
   "execution_count": 71,
   "metadata": {},
   "outputs": [],
   "source": [
    "df_orsplit = df_or['origin'].apply(lambda x:pd.Series(x.rsplit(',')[::-1]))"
   ]
  },
  {
   "cell_type": "code",
   "execution_count": 72,
   "metadata": {},
   "outputs": [],
   "source": [
    "df_orsplit = df_orsplit[[0,1]]"
   ]
  },
  {
   "cell_type": "code",
   "execution_count": 73,
   "metadata": {},
   "outputs": [],
   "source": [
    "#df_orsplit.dropna(inplace = True)\n",
    "df_orsplit.rename(columns={0: 'region', 1: 'appellation'}, inplace = True)"
   ]
  },
  {
   "cell_type": "code",
   "execution_count": 74,
   "metadata": {},
   "outputs": [
    {
     "data": {
      "text/html": [
       "<div>\n",
       "<style scoped>\n",
       "    .dataframe tbody tr th:only-of-type {\n",
       "        vertical-align: middle;\n",
       "    }\n",
       "\n",
       "    .dataframe tbody tr th {\n",
       "        vertical-align: top;\n",
       "    }\n",
       "\n",
       "    .dataframe thead th {\n",
       "        text-align: right;\n",
       "    }\n",
       "</style>\n",
       "<table border=\"1\" class=\"dataframe\">\n",
       "  <thead>\n",
       "    <tr style=\"text-align: right;\">\n",
       "      <th></th>\n",
       "      <th>region</th>\n",
       "      <th>appellation</th>\n",
       "    </tr>\n",
       "  </thead>\n",
       "  <tbody>\n",
       "    <tr>\n",
       "      <th>0</th>\n",
       "      <td>France</td>\n",
       "      <td>Champagne</td>\n",
       "    </tr>\n",
       "    <tr>\n",
       "      <th>1</th>\n",
       "      <td>France</td>\n",
       "      <td>Champagne</td>\n",
       "    </tr>\n",
       "    <tr>\n",
       "      <th>2</th>\n",
       "      <td>California</td>\n",
       "      <td>Napa Valley</td>\n",
       "    </tr>\n",
       "    <tr>\n",
       "      <th>3</th>\n",
       "      <td>California</td>\n",
       "      <td>Napa Valley</td>\n",
       "    </tr>\n",
       "    <tr>\n",
       "      <th>4</th>\n",
       "      <td>California</td>\n",
       "      <td>Napa Valley</td>\n",
       "    </tr>\n",
       "  </tbody>\n",
       "</table>\n",
       "</div>"
      ],
      "text/plain": [
       "        region   appellation\n",
       "0       France     Champagne\n",
       "1       France     Champagne\n",
       "2   California   Napa Valley\n",
       "3   California   Napa Valley\n",
       "4   California   Napa Valley"
      ]
     },
     "execution_count": 74,
     "metadata": {},
     "output_type": "execute_result"
    }
   ],
   "source": [
    "df_orsplit.head()"
   ]
  },
  {
   "cell_type": "code",
   "execution_count": 75,
   "metadata": {},
   "outputs": [
    {
     "data": {
      "text/html": [
       "<div>\n",
       "<style scoped>\n",
       "    .dataframe tbody tr th:only-of-type {\n",
       "        vertical-align: middle;\n",
       "    }\n",
       "\n",
       "    .dataframe tbody tr th {\n",
       "        vertical-align: top;\n",
       "    }\n",
       "\n",
       "    .dataframe thead th {\n",
       "        text-align: right;\n",
       "    }\n",
       "</style>\n",
       "<table border=\"1\" class=\"dataframe\">\n",
       "  <thead>\n",
       "    <tr style=\"text-align: right;\">\n",
       "      <th></th>\n",
       "      <th>product_name</th>\n",
       "      <th>price</th>\n",
       "      <th>varietal</th>\n",
       "      <th>origin</th>\n",
       "      <th>rating</th>\n",
       "      <th>rating_count</th>\n",
       "    </tr>\n",
       "  </thead>\n",
       "  <tbody>\n",
       "    <tr>\n",
       "      <th>0</th>\n",
       "      <td>Dom Perignon Vintage with Gift Box 2010</td>\n",
       "      <td>199</td>\n",
       "      <td>Vintage Sparkling Wine</td>\n",
       "      <td>Champagne, France</td>\n",
       "      <td>4.5</td>\n",
       "      <td>42</td>\n",
       "    </tr>\n",
       "    <tr>\n",
       "      <th>1</th>\n",
       "      <td>Veuve Clicquot Yellow Label Brut</td>\n",
       "      <td>59</td>\n",
       "      <td>Non-Vintage Sparkling Wine</td>\n",
       "      <td>Champagne, France</td>\n",
       "      <td>4.4</td>\n",
       "      <td>1138</td>\n",
       "    </tr>\n",
       "    <tr>\n",
       "      <th>2</th>\n",
       "      <td>Duckhorn Napa Valley Cabernet Sauvignon 2017</td>\n",
       "      <td>78</td>\n",
       "      <td>Cabernet Sauvignon</td>\n",
       "      <td>Napa Valley, California</td>\n",
       "      <td>4.3</td>\n",
       "      <td>62</td>\n",
       "    </tr>\n",
       "    <tr>\n",
       "      <th>3</th>\n",
       "      <td>Caymus Special Selection Cabernet Sauvignon 2016</td>\n",
       "      <td>180</td>\n",
       "      <td>Cabernet Sauvignon</td>\n",
       "      <td>Napa Valley, California</td>\n",
       "      <td>4.6</td>\n",
       "      <td>108</td>\n",
       "    </tr>\n",
       "    <tr>\n",
       "      <th>4</th>\n",
       "      <td>Quintessa 2016</td>\n",
       "      <td>199</td>\n",
       "      <td>Cabernet Sauvignon</td>\n",
       "      <td>Rutherford, Napa Valley, California</td>\n",
       "      <td>4.7</td>\n",
       "      <td>73</td>\n",
       "    </tr>\n",
       "  </tbody>\n",
       "</table>\n",
       "</div>"
      ],
      "text/plain": [
       "                                       product_name price  \\\n",
       "0           Dom Perignon Vintage with Gift Box 2010   199   \n",
       "1                  Veuve Clicquot Yellow Label Brut    59   \n",
       "2      Duckhorn Napa Valley Cabernet Sauvignon 2017    78   \n",
       "3  Caymus Special Selection Cabernet Sauvignon 2016   180   \n",
       "4                                    Quintessa 2016   199   \n",
       "\n",
       "                     varietal                               origin  rating  \\\n",
       "0      Vintage Sparkling Wine                    Champagne, France     4.5   \n",
       "1  Non-Vintage Sparkling Wine                    Champagne, France     4.4   \n",
       "2          Cabernet Sauvignon              Napa Valley, California     4.3   \n",
       "3          Cabernet Sauvignon              Napa Valley, California     4.6   \n",
       "4          Cabernet Sauvignon  Rutherford, Napa Valley, California     4.7   \n",
       "\n",
       "   rating_count  \n",
       "0            42  \n",
       "1          1138  \n",
       "2            62  \n",
       "3           108  \n",
       "4            73  "
      ]
     },
     "execution_count": 75,
     "metadata": {},
     "output_type": "execute_result"
    }
   ],
   "source": [
    "df.head()"
   ]
  },
  {
   "cell_type": "code",
   "execution_count": 76,
   "metadata": {},
   "outputs": [
    {
     "data": {
      "text/html": [
       "<div>\n",
       "<style scoped>\n",
       "    .dataframe tbody tr th:only-of-type {\n",
       "        vertical-align: middle;\n",
       "    }\n",
       "\n",
       "    .dataframe tbody tr th {\n",
       "        vertical-align: top;\n",
       "    }\n",
       "\n",
       "    .dataframe thead th {\n",
       "        text-align: right;\n",
       "    }\n",
       "</style>\n",
       "<table border=\"1\" class=\"dataframe\">\n",
       "  <thead>\n",
       "    <tr style=\"text-align: right;\">\n",
       "      <th></th>\n",
       "      <th>product_name</th>\n",
       "      <th>price</th>\n",
       "      <th>varietal</th>\n",
       "      <th>rating</th>\n",
       "      <th>rating_count</th>\n",
       "      <th>region</th>\n",
       "      <th>appellation</th>\n",
       "    </tr>\n",
       "  </thead>\n",
       "  <tbody>\n",
       "    <tr>\n",
       "      <th>0</th>\n",
       "      <td>Dom Perignon Vintage with Gift Box 2010</td>\n",
       "      <td>199</td>\n",
       "      <td>Vintage Sparkling Wine</td>\n",
       "      <td>4.5</td>\n",
       "      <td>42</td>\n",
       "      <td>France</td>\n",
       "      <td>Champagne</td>\n",
       "    </tr>\n",
       "    <tr>\n",
       "      <th>1</th>\n",
       "      <td>Veuve Clicquot Yellow Label Brut</td>\n",
       "      <td>59</td>\n",
       "      <td>Non-Vintage Sparkling Wine</td>\n",
       "      <td>4.4</td>\n",
       "      <td>1138</td>\n",
       "      <td>France</td>\n",
       "      <td>Champagne</td>\n",
       "    </tr>\n",
       "    <tr>\n",
       "      <th>2</th>\n",
       "      <td>Duckhorn Napa Valley Cabernet Sauvignon 2017</td>\n",
       "      <td>78</td>\n",
       "      <td>Cabernet Sauvignon</td>\n",
       "      <td>4.3</td>\n",
       "      <td>62</td>\n",
       "      <td>California</td>\n",
       "      <td>Napa Valley</td>\n",
       "    </tr>\n",
       "    <tr>\n",
       "      <th>3</th>\n",
       "      <td>Caymus Special Selection Cabernet Sauvignon 2016</td>\n",
       "      <td>180</td>\n",
       "      <td>Cabernet Sauvignon</td>\n",
       "      <td>4.6</td>\n",
       "      <td>108</td>\n",
       "      <td>California</td>\n",
       "      <td>Napa Valley</td>\n",
       "    </tr>\n",
       "    <tr>\n",
       "      <th>4</th>\n",
       "      <td>Quintessa 2016</td>\n",
       "      <td>199</td>\n",
       "      <td>Cabernet Sauvignon</td>\n",
       "      <td>4.7</td>\n",
       "      <td>73</td>\n",
       "      <td>California</td>\n",
       "      <td>Napa Valley</td>\n",
       "    </tr>\n",
       "  </tbody>\n",
       "</table>\n",
       "</div>"
      ],
      "text/plain": [
       "                                       product_name price  \\\n",
       "0           Dom Perignon Vintage with Gift Box 2010   199   \n",
       "1                  Veuve Clicquot Yellow Label Brut    59   \n",
       "2      Duckhorn Napa Valley Cabernet Sauvignon 2017    78   \n",
       "3  Caymus Special Selection Cabernet Sauvignon 2016   180   \n",
       "4                                    Quintessa 2016   199   \n",
       "\n",
       "                     varietal  rating  rating_count       region   appellation  \n",
       "0      Vintage Sparkling Wine     4.5            42       France     Champagne  \n",
       "1  Non-Vintage Sparkling Wine     4.4          1138       France     Champagne  \n",
       "2          Cabernet Sauvignon     4.3            62   California   Napa Valley  \n",
       "3          Cabernet Sauvignon     4.6           108   California   Napa Valley  \n",
       "4          Cabernet Sauvignon     4.7            73   California   Napa Valley  "
      ]
     },
     "execution_count": 76,
     "metadata": {},
     "output_type": "execute_result"
    }
   ],
   "source": [
    "df = pd.concat([df, df_orsplit], axis=1)\n",
    "df.drop('origin', axis = 1, inplace = True)\n",
    "df.dropna(inplace = True)\n",
    "df['appellation'].str.split()\n",
    "df.head()"
   ]
  },
  {
   "cell_type": "code",
   "execution_count": 77,
   "metadata": {},
   "outputs": [
    {
     "data": {
      "text/plain": [
       "array([' Bordeaux', ' Burgundy', ' Central Coast', ' Columbia Valley',\n",
       "       ' Friuli-Venezia Giulia', ' Loire', ' Mendocino', ' Mendoza',\n",
       "       ' Napa Valley', ' New South Wales', ' New York', ' North Coast',\n",
       "       ' Piedmont', ' Prosecco', ' Rapel Valley', ' Rhone', ' Salta',\n",
       "       ' San Antonio Valley (Chile)', ' Sierra Foothills',\n",
       "       ' Sonoma County', ' South Australia', ' South of France',\n",
       "       ' Southwest', ' Trentino-Alto Adige', ' Tuscany', ' Veneto',\n",
       "       ' Victoria', ' Western Australia', ' Willamette Valley', 'Abruzzo',\n",
       "       'Aconcagua Valley', 'Alentejo', 'Alsace', 'Auckland', 'Basilicata',\n",
       "       'Bierzo', 'Bordeaux', 'Burgenland', 'Burgundy', 'Campania',\n",
       "       'Canterbury', 'Carneros', 'Casablanca Valley', 'Central Coast',\n",
       "       'Central Otago', 'Champagne', 'Columbia Valley', 'Constantia',\n",
       "       'Curico Valley', 'Dao', 'Douro', 'Emilia-Romagna',\n",
       "       'Franschhoek Valley', 'Friuli-Venezia Giulia', 'Gisborne',\n",
       "       'Hawkes Bay', 'Jerez', 'Jumilla', 'Jura', 'Kamptal', 'Kremstal',\n",
       "       'Lazio', 'Limari Valley', 'Lodi', 'Loire', 'Lombardy', 'Macedonia',\n",
       "       'Madeira', 'Maipo Valley', 'Marche', 'Marlborough',\n",
       "       'Martinborough', 'Maule Valley', 'Mendocino', 'Mendoza', 'Molise',\n",
       "       'Montsant', 'Mosel', 'Nahe', 'Naoussa', 'Napa Valley', 'Navarra',\n",
       "       'Nemea', 'Neusiedlersee', 'New York', 'North Coast', 'Patagonia',\n",
       "       'Penedes', 'Pfalz', 'Piedmont', 'Priorat', 'Prosecco', 'Puglia',\n",
       "       'Rapel Valley', 'Rheingau', 'Rheinhessen', 'Rhone', 'Rias Baixas',\n",
       "       'Ribera del Duero', 'Rioja', 'Rueda', 'Salta',\n",
       "       'San Antonio Valley (Chile)', 'Santa Cruz Mountains', 'Santorini',\n",
       "       'Sardinia', 'Sicily', 'Sierra Foothills', 'Sonoma County',\n",
       "       'South Australia', 'Southwest', 'Stellenbosch', 'Swartland',\n",
       "       'Tasmania', 'Toro', 'Trentino-Alto Adige', 'Tuscany', 'Umbria',\n",
       "       'Valdeorras', \"Valle d'Aosta\", 'Veneto', 'Victoria', 'Virginia',\n",
       "       'Wachau', 'Wairarapa', 'Walker Bay', 'Western Australia',\n",
       "       'Willamette Valley'], dtype=object)"
      ]
     },
     "execution_count": 77,
     "metadata": {},
     "output_type": "execute_result"
    }
   ],
   "source": [
    "df['appellation'].sort_values().unique()"
   ]
  },
  {
   "cell_type": "code",
   "execution_count": 78,
   "metadata": {},
   "outputs": [
    {
     "data": {
      "text/plain": [
       "128"
      ]
     },
     "execution_count": 78,
     "metadata": {},
     "output_type": "execute_result"
    }
   ],
   "source": [
    "df['appellation'].unique().size"
   ]
  },
  {
   "cell_type": "code",
   "execution_count": 79,
   "metadata": {},
   "outputs": [
    {
     "data": {
      "text/plain": [
       "array([' Argentina', ' Australia', ' Austria', ' California', ' Chile',\n",
       "       ' France', ' Germany', ' Greece', ' Italy', ' New Zealand',\n",
       "       ' Oregon', ' Other U.S.', ' Portugal', ' South Africa', ' Spain',\n",
       "       ' Washington'], dtype=object)"
      ]
     },
     "execution_count": 79,
     "metadata": {},
     "output_type": "execute_result"
    }
   ],
   "source": [
    "df['region'].sort_values().unique()"
   ]
  },
  {
   "cell_type": "code",
   "execution_count": 80,
   "metadata": {},
   "outputs": [
    {
     "data": {
      "text/plain": [
       "16"
      ]
     },
     "execution_count": 80,
     "metadata": {},
     "output_type": "execute_result"
    }
   ],
   "source": [
    "df['region'].unique().size"
   ]
  },
  {
   "cell_type": "markdown",
   "metadata": {},
   "source": [
    "### seperate 'year' out of 'product_name' and drop the ones that don't have a year? "
   ]
  },
  {
   "cell_type": "code",
   "execution_count": 81,
   "metadata": {},
   "outputs": [],
   "source": [
    "# this removes the parenthesis and what's between them. made it easier to extract year. \n",
    "df['product_name'] = df['product_name'].str.replace(r\"\\(.*?\\)\", \"\")\n",
    "\n",
    "# the following extract the digit strings from left to right. \n",
    "df['year']= df.product_name.str.extract('(\\d+)')\n",
    "\n",
    "# since the year was a the wnd of the product_name string, emove the last 5\n",
    "# characters at the end of each string to only keep the actual names\n",
    "df['product_name'] = df['product_name'].str[:-5] #.str[-1:]\n",
    "\n",
    "# drop any empty rows for quality purposes\n",
    "df.dropna(inplace = True)"
   ]
  },
  {
   "cell_type": "code",
   "execution_count": 82,
   "metadata": {},
   "outputs": [
    {
     "name": "stdout",
     "output_type": "stream",
     "text": [
      "<class 'pandas.core.frame.DataFrame'>\n",
      "Int64Index: 22532 entries, 0 to 23821\n",
      "Data columns (total 8 columns):\n",
      " #   Column        Non-Null Count  Dtype  \n",
      "---  ------        --------------  -----  \n",
      " 0   product_name  22532 non-null  object \n",
      " 1   price         22532 non-null  object \n",
      " 2   varietal      22532 non-null  object \n",
      " 3   rating        22532 non-null  float64\n",
      " 4   rating_count  22532 non-null  int64  \n",
      " 5   region        22532 non-null  object \n",
      " 6   appellation   22532 non-null  object \n",
      " 7   year          22532 non-null  object \n",
      "dtypes: float64(1), int64(1), object(6)\n",
      "memory usage: 1.5+ MB\n"
     ]
    }
   ],
   "source": [
    "df.info()"
   ]
  },
  {
   "cell_type": "markdown",
   "metadata": {},
   "source": [
    "### turn the string year into an integer"
   ]
  },
  {
   "cell_type": "code",
   "execution_count": 83,
   "metadata": {},
   "outputs": [],
   "source": [
    "df['year'] = df['year'].astype(int)"
   ]
  },
  {
   "cell_type": "markdown",
   "metadata": {},
   "source": [
    "### only keep relevant data with years that aren't obvious outliers "
   ]
  },
  {
   "cell_type": "code",
   "execution_count": 84,
   "metadata": {},
   "outputs": [],
   "source": [
    "# drop anything that is older than 1950 - wine is probably not good anymore!\n",
    "df = df[df['year'] > 1950]  "
   ]
  },
  {
   "cell_type": "code",
   "execution_count": 85,
   "metadata": {},
   "outputs": [],
   "source": [
    "# drop anything that is youger than 2020 - wine from the future?\n",
    "df = df[df['year'] <= 2020] "
   ]
  },
  {
   "cell_type": "code",
   "execution_count": 86,
   "metadata": {},
   "outputs": [
    {
     "data": {
      "text/plain": [
       "array([1955, 1959, 1961, 1963, 1964, 1966, 1967, 1968, 1970, 1971, 1975,\n",
       "       1976, 1977, 1978, 1979, 1980, 1981, 1982, 1983, 1985, 1986, 1987,\n",
       "       1988, 1989, 1990, 1991, 1992, 1993, 1994, 1995, 1996, 1997, 1998,\n",
       "       1999, 2000, 2001, 2002, 2003, 2004, 2005, 2006, 2007, 2008, 2009,\n",
       "       2010, 2011, 2012, 2013, 2014, 2015, 2016, 2017, 2018, 2019, 2020])"
      ]
     },
     "execution_count": 86,
     "metadata": {},
     "output_type": "execute_result"
    }
   ],
   "source": [
    "df['year'].sort_values().unique()"
   ]
  },
  {
   "cell_type": "code",
   "execution_count": 87,
   "metadata": {},
   "outputs": [
    {
     "data": {
      "text/html": [
       "<div>\n",
       "<style scoped>\n",
       "    .dataframe tbody tr th:only-of-type {\n",
       "        vertical-align: middle;\n",
       "    }\n",
       "\n",
       "    .dataframe tbody tr th {\n",
       "        vertical-align: top;\n",
       "    }\n",
       "\n",
       "    .dataframe thead th {\n",
       "        text-align: right;\n",
       "    }\n",
       "</style>\n",
       "<table border=\"1\" class=\"dataframe\">\n",
       "  <thead>\n",
       "    <tr style=\"text-align: right;\">\n",
       "      <th></th>\n",
       "      <th>product_name</th>\n",
       "      <th>price</th>\n",
       "      <th>varietal</th>\n",
       "      <th>rating</th>\n",
       "      <th>rating_count</th>\n",
       "      <th>region</th>\n",
       "      <th>appellation</th>\n",
       "      <th>year</th>\n",
       "    </tr>\n",
       "  </thead>\n",
       "  <tbody>\n",
       "    <tr>\n",
       "      <th>17340</th>\n",
       "      <td>Cantine Antonio Ferrari Solaria Jonica</td>\n",
       "      <td>159</td>\n",
       "      <td>Sangiovese</td>\n",
       "      <td>0.0</td>\n",
       "      <td>0</td>\n",
       "      <td>Italy</td>\n",
       "      <td>Puglia</td>\n",
       "      <td>1959</td>\n",
       "    </tr>\n",
       "    <tr>\n",
       "      <th>23729</th>\n",
       "      <td>Chateau Mouton Rothschild</td>\n",
       "      <td>2,499</td>\n",
       "      <td>Bordeaux Red Blends</td>\n",
       "      <td>0.0</td>\n",
       "      <td>0</td>\n",
       "      <td>France</td>\n",
       "      <td>Bordeaux</td>\n",
       "      <td>1959</td>\n",
       "    </tr>\n",
       "  </tbody>\n",
       "</table>\n",
       "</div>"
      ],
      "text/plain": [
       "                                  product_name  price             varietal  \\\n",
       "17340  Cantine Antonio Ferrari Solaria Jonica     159           Sangiovese   \n",
       "23729                Chateau Mouton Rothschild  2,499  Bordeaux Red Blends   \n",
       "\n",
       "       rating  rating_count   region appellation  year  \n",
       "17340     0.0             0    Italy      Puglia  1959  \n",
       "23729     0.0             0   France    Bordeaux  1959  "
      ]
     },
     "execution_count": 87,
     "metadata": {},
     "output_type": "execute_result"
    }
   ],
   "source": [
    "# return row by year to see entry\n",
    "df.loc[df['year'] ==  1959]"
   ]
  },
  {
   "cell_type": "code",
   "execution_count": 88,
   "metadata": {},
   "outputs": [
    {
     "data": {
      "text/plain": [
       "(22071, 8)"
      ]
     },
     "execution_count": 88,
     "metadata": {},
     "output_type": "execute_result"
    }
   ],
   "source": [
    "df.shape"
   ]
  },
  {
   "cell_type": "markdown",
   "metadata": {},
   "source": [
    "### remove commas and turn price into int "
   ]
  },
  {
   "cell_type": "code",
   "execution_count": 89,
   "metadata": {},
   "outputs": [],
   "source": [
    "df['price'] = df['price'].str.replace(',', '')"
   ]
  },
  {
   "cell_type": "code",
   "execution_count": 90,
   "metadata": {},
   "outputs": [
    {
     "data": {
      "text/plain": [
       "('100', '9999')"
      ]
     },
     "execution_count": 90,
     "metadata": {},
     "output_type": "execute_result"
    }
   ],
   "source": [
    "df['price'].min(), df['price'].max()"
   ]
  },
  {
   "cell_type": "code",
   "execution_count": 91,
   "metadata": {},
   "outputs": [],
   "source": [
    "df['price'] = df['price'].astype(int)"
   ]
  },
  {
   "cell_type": "code",
   "execution_count": 92,
   "metadata": {},
   "outputs": [
    {
     "data": {
      "text/plain": [
       "product_name     object\n",
       "price             int64\n",
       "varietal         object\n",
       "rating          float64\n",
       "rating_count      int64\n",
       "region           object\n",
       "appellation      object\n",
       "year              int64\n",
       "dtype: object"
      ]
     },
     "execution_count": 92,
     "metadata": {},
     "output_type": "execute_result"
    }
   ],
   "source": [
    "df.dtypes"
   ]
  },
  {
   "cell_type": "markdown",
   "metadata": {},
   "source": [
    "### look for zero and non values in the ratings"
   ]
  },
  {
   "cell_type": "code",
   "execution_count": 93,
   "metadata": {},
   "outputs": [
    {
     "data": {
      "text/plain": [
       "array([0. , 1.6, 1.9, 2.2, 2.4, 2.6, 2.8, 2.9, 3. , 3.1, 3.2, 3.3, 3.4,\n",
       "       3.5, 3.6, 3.7, 3.8, 3.9, 4. , 4.1, 4.2, 4.3, 4.4, 4.5, 4.6, 4.7,\n",
       "       4.8, 4.9, 5. ])"
      ]
     },
     "execution_count": 93,
     "metadata": {},
     "output_type": "execute_result"
    }
   ],
   "source": [
    "df['rating'].sort_values().unique()"
   ]
  },
  {
   "cell_type": "code",
   "execution_count": 94,
   "metadata": {},
   "outputs": [
    {
     "data": {
      "text/plain": [
       "rating\n",
       "0.0    17930\n",
       "1.6        1\n",
       "1.9        1\n",
       "2.2        1\n",
       "2.4        1\n",
       "2.6        3\n",
       "2.8        2\n",
       "2.9        4\n",
       "3.0       10\n",
       "3.1       16\n",
       "3.2       18\n",
       "3.3       28\n",
       "3.4       43\n",
       "3.5       44\n",
       "3.6       95\n",
       "3.7      112\n",
       "3.8      182\n",
       "3.9      243\n",
       "4.0      288\n",
       "4.1      346\n",
       "4.2      447\n",
       "4.3      390\n",
       "4.4      389\n",
       "4.5      359\n",
       "4.6      326\n",
       "4.7      248\n",
       "4.8      198\n",
       "4.9      160\n",
       "5.0      186\n",
       "dtype: int64"
      ]
     },
     "execution_count": 94,
     "metadata": {},
     "output_type": "execute_result"
    }
   ],
   "source": [
    "df.groupby('rating').size()"
   ]
  },
  {
   "cell_type": "code",
   "execution_count": 95,
   "metadata": {},
   "outputs": [],
   "source": [
    "#turn rating_count from float to int\n",
    "df['rating_count'] = df['rating_count'].astype(int)"
   ]
  },
  {
   "cell_type": "code",
   "execution_count": 96,
   "metadata": {},
   "outputs": [
    {
     "data": {
      "text/plain": [
       "array([  0,   5,   6,   7,   8,   9,  10,  11,  12,  13,  14,  15,  16,\n",
       "        17,  18,  19,  20,  21,  22,  23,  24,  25,  26,  27,  28,  29,\n",
       "        30,  31,  32,  33,  34,  35,  36,  37,  38,  39,  40,  41,  42,\n",
       "        43,  44,  45,  46,  47,  48,  49,  50,  51,  52,  53,  54,  55,\n",
       "        56,  57,  58,  59,  60,  61,  62,  63,  64,  65,  66,  67,  68,\n",
       "        69,  70,  71,  72,  73,  74,  75,  76,  77,  78,  79,  80,  81,\n",
       "        82,  83,  84,  85,  86,  87,  88,  89,  90,  92,  93,  94,  95,\n",
       "        97,  99, 100, 101, 102, 103, 105, 106, 107, 108, 109, 110, 112,\n",
       "       113, 114, 115, 116, 118, 119, 121, 122, 125, 127, 128, 129, 130,\n",
       "       131, 132, 136, 137, 138, 139, 140, 143, 144, 146, 147, 148, 149,\n",
       "       150, 151, 152, 156, 157, 158, 160, 164, 166, 168, 169, 172, 174,\n",
       "       176, 177, 180, 183, 184, 185, 186, 188, 196, 199, 200, 202, 203,\n",
       "       206, 208, 211, 213, 216, 224, 227, 231, 235, 238, 243, 244, 247,\n",
       "       248, 251, 257, 263, 267, 271, 276, 278, 281, 283, 292, 294, 295,\n",
       "       308, 314, 320, 368, 371, 383, 394, 427, 444, 445, 469, 473, 498,\n",
       "       556, 614, 663, 672, 750])"
      ]
     },
     "execution_count": 96,
     "metadata": {},
     "output_type": "execute_result"
    }
   ],
   "source": [
    "df['rating_count'].sort_values().unique()"
   ]
  },
  {
   "cell_type": "markdown",
   "metadata": {},
   "source": [
    "## Dataframes"
   ]
  },
  {
   "cell_type": "markdown",
   "metadata": {},
   "source": [
    "### Master  "
   ]
  },
  {
   "cell_type": "code",
   "execution_count": 97,
   "metadata": {},
   "outputs": [
    {
     "data": {
      "text/plain": [
       "(22071, 8)"
      ]
     },
     "execution_count": 97,
     "metadata": {},
     "output_type": "execute_result"
    }
   ],
   "source": [
    "df.shape"
   ]
  },
  {
   "cell_type": "code",
   "execution_count": 98,
   "metadata": {},
   "outputs": [
    {
     "name": "stdout",
     "output_type": "stream",
     "text": [
      "<class 'pandas.core.frame.DataFrame'>\n",
      "Int64Index: 22071 entries, 0 to 23821\n",
      "Data columns (total 8 columns):\n",
      " #   Column        Non-Null Count  Dtype  \n",
      "---  ------        --------------  -----  \n",
      " 0   product_name  22071 non-null  object \n",
      " 1   price         22071 non-null  int64  \n",
      " 2   varietal      22071 non-null  object \n",
      " 3   rating        22071 non-null  float64\n",
      " 4   rating_count  22071 non-null  int64  \n",
      " 5   region        22071 non-null  object \n",
      " 6   appellation   22071 non-null  object \n",
      " 7   year          22071 non-null  int64  \n",
      "dtypes: float64(1), int64(3), object(4)\n",
      "memory usage: 1.5+ MB\n"
     ]
    }
   ],
   "source": [
    "df.info()"
   ]
  },
  {
   "cell_type": "code",
   "execution_count": 99,
   "metadata": {},
   "outputs": [
    {
     "data": {
      "text/html": [
       "<div>\n",
       "<style scoped>\n",
       "    .dataframe tbody tr th:only-of-type {\n",
       "        vertical-align: middle;\n",
       "    }\n",
       "\n",
       "    .dataframe tbody tr th {\n",
       "        vertical-align: top;\n",
       "    }\n",
       "\n",
       "    .dataframe thead th {\n",
       "        text-align: right;\n",
       "    }\n",
       "</style>\n",
       "<table border=\"1\" class=\"dataframe\">\n",
       "  <thead>\n",
       "    <tr style=\"text-align: right;\">\n",
       "      <th></th>\n",
       "      <th>product_name</th>\n",
       "      <th>price</th>\n",
       "      <th>varietal</th>\n",
       "      <th>rating</th>\n",
       "      <th>rating_count</th>\n",
       "      <th>region</th>\n",
       "      <th>appellation</th>\n",
       "      <th>year</th>\n",
       "    </tr>\n",
       "  </thead>\n",
       "  <tbody>\n",
       "    <tr>\n",
       "      <th>0</th>\n",
       "      <td>Dom Perignon Vintage with Gift Box</td>\n",
       "      <td>199</td>\n",
       "      <td>Vintage Sparkling Wine</td>\n",
       "      <td>4.5</td>\n",
       "      <td>42</td>\n",
       "      <td>France</td>\n",
       "      <td>Champagne</td>\n",
       "      <td>2010</td>\n",
       "    </tr>\n",
       "    <tr>\n",
       "      <th>2</th>\n",
       "      <td>Duckhorn Napa Valley Cabernet Sauvignon</td>\n",
       "      <td>78</td>\n",
       "      <td>Cabernet Sauvignon</td>\n",
       "      <td>4.3</td>\n",
       "      <td>62</td>\n",
       "      <td>California</td>\n",
       "      <td>Napa Valley</td>\n",
       "      <td>2017</td>\n",
       "    </tr>\n",
       "    <tr>\n",
       "      <th>3</th>\n",
       "      <td>Caymus Special Selection Cabernet Sauvignon</td>\n",
       "      <td>180</td>\n",
       "      <td>Cabernet Sauvignon</td>\n",
       "      <td>4.6</td>\n",
       "      <td>108</td>\n",
       "      <td>California</td>\n",
       "      <td>Napa Valley</td>\n",
       "      <td>2016</td>\n",
       "    </tr>\n",
       "    <tr>\n",
       "      <th>4</th>\n",
       "      <td>Quintessa</td>\n",
       "      <td>199</td>\n",
       "      <td>Cabernet Sauvignon</td>\n",
       "      <td>4.7</td>\n",
       "      <td>73</td>\n",
       "      <td>California</td>\n",
       "      <td>Napa Valley</td>\n",
       "      <td>2016</td>\n",
       "    </tr>\n",
       "    <tr>\n",
       "      <th>5</th>\n",
       "      <td>Joseph Phelps Insignia</td>\n",
       "      <td>300</td>\n",
       "      <td>Bordeaux Red Blends</td>\n",
       "      <td>4.6</td>\n",
       "      <td>81</td>\n",
       "      <td>California</td>\n",
       "      <td>Napa Valley</td>\n",
       "      <td>2016</td>\n",
       "    </tr>\n",
       "  </tbody>\n",
       "</table>\n",
       "</div>"
      ],
      "text/plain": [
       "                                  product_name  price                varietal  \\\n",
       "0           Dom Perignon Vintage with Gift Box    199  Vintage Sparkling Wine   \n",
       "2      Duckhorn Napa Valley Cabernet Sauvignon     78      Cabernet Sauvignon   \n",
       "3  Caymus Special Selection Cabernet Sauvignon    180      Cabernet Sauvignon   \n",
       "4                                    Quintessa    199      Cabernet Sauvignon   \n",
       "5                       Joseph Phelps Insignia    300     Bordeaux Red Blends   \n",
       "\n",
       "   rating  rating_count       region   appellation  year  \n",
       "0     4.5            42       France     Champagne  2010  \n",
       "2     4.3            62   California   Napa Valley  2017  \n",
       "3     4.6           108   California   Napa Valley  2016  \n",
       "4     4.7            73   California   Napa Valley  2016  \n",
       "5     4.6            81   California   Napa Valley  2016  "
      ]
     },
     "execution_count": 99,
     "metadata": {},
     "output_type": "execute_result"
    }
   ],
   "source": [
    "df.head()"
   ]
  },
  {
   "cell_type": "code",
   "execution_count": 100,
   "metadata": {},
   "outputs": [],
   "source": [
    "df.to_csv('wine_master_dataset.csv')"
   ]
  },
  {
   "cell_type": "markdown",
   "metadata": {},
   "source": [
    "###  Wines with Ratings "
   ]
  },
  {
   "cell_type": "code",
   "execution_count": 101,
   "metadata": {},
   "outputs": [],
   "source": [
    "df_ratings_only = df.copy()"
   ]
  },
  {
   "cell_type": "code",
   "execution_count": 102,
   "metadata": {},
   "outputs": [],
   "source": [
    "df_ratings_only = df_ratings_only[df_ratings_only['rating_count'] > 0]  "
   ]
  },
  {
   "cell_type": "code",
   "execution_count": 103,
   "metadata": {},
   "outputs": [
    {
     "data": {
      "text/plain": [
       "(4141, 8)"
      ]
     },
     "execution_count": 103,
     "metadata": {},
     "output_type": "execute_result"
    }
   ],
   "source": [
    "df_ratings_only.shape"
   ]
  },
  {
   "cell_type": "code",
   "execution_count": 104,
   "metadata": {},
   "outputs": [
    {
     "name": "stdout",
     "output_type": "stream",
     "text": [
      "<class 'pandas.core.frame.DataFrame'>\n",
      "Int64Index: 4141 entries, 0 to 23786\n",
      "Data columns (total 8 columns):\n",
      " #   Column        Non-Null Count  Dtype  \n",
      "---  ------        --------------  -----  \n",
      " 0   product_name  4141 non-null   object \n",
      " 1   price         4141 non-null   int64  \n",
      " 2   varietal      4141 non-null   object \n",
      " 3   rating        4141 non-null   float64\n",
      " 4   rating_count  4141 non-null   int64  \n",
      " 5   region        4141 non-null   object \n",
      " 6   appellation   4141 non-null   object \n",
      " 7   year          4141 non-null   int64  \n",
      "dtypes: float64(1), int64(3), object(4)\n",
      "memory usage: 291.2+ KB\n"
     ]
    }
   ],
   "source": [
    "df_ratings_only.info()"
   ]
  },
  {
   "cell_type": "code",
   "execution_count": 105,
   "metadata": {},
   "outputs": [
    {
     "data": {
      "text/html": [
       "<div>\n",
       "<style scoped>\n",
       "    .dataframe tbody tr th:only-of-type {\n",
       "        vertical-align: middle;\n",
       "    }\n",
       "\n",
       "    .dataframe tbody tr th {\n",
       "        vertical-align: top;\n",
       "    }\n",
       "\n",
       "    .dataframe thead th {\n",
       "        text-align: right;\n",
       "    }\n",
       "</style>\n",
       "<table border=\"1\" class=\"dataframe\">\n",
       "  <thead>\n",
       "    <tr style=\"text-align: right;\">\n",
       "      <th></th>\n",
       "      <th>product_name</th>\n",
       "      <th>price</th>\n",
       "      <th>varietal</th>\n",
       "      <th>rating</th>\n",
       "      <th>rating_count</th>\n",
       "      <th>region</th>\n",
       "      <th>appellation</th>\n",
       "      <th>year</th>\n",
       "    </tr>\n",
       "  </thead>\n",
       "  <tbody>\n",
       "    <tr>\n",
       "      <th>0</th>\n",
       "      <td>Dom Perignon Vintage with Gift Box</td>\n",
       "      <td>199</td>\n",
       "      <td>Vintage Sparkling Wine</td>\n",
       "      <td>4.5</td>\n",
       "      <td>42</td>\n",
       "      <td>France</td>\n",
       "      <td>Champagne</td>\n",
       "      <td>2010</td>\n",
       "    </tr>\n",
       "    <tr>\n",
       "      <th>2</th>\n",
       "      <td>Duckhorn Napa Valley Cabernet Sauvignon</td>\n",
       "      <td>78</td>\n",
       "      <td>Cabernet Sauvignon</td>\n",
       "      <td>4.3</td>\n",
       "      <td>62</td>\n",
       "      <td>California</td>\n",
       "      <td>Napa Valley</td>\n",
       "      <td>2017</td>\n",
       "    </tr>\n",
       "    <tr>\n",
       "      <th>3</th>\n",
       "      <td>Caymus Special Selection Cabernet Sauvignon</td>\n",
       "      <td>180</td>\n",
       "      <td>Cabernet Sauvignon</td>\n",
       "      <td>4.6</td>\n",
       "      <td>108</td>\n",
       "      <td>California</td>\n",
       "      <td>Napa Valley</td>\n",
       "      <td>2016</td>\n",
       "    </tr>\n",
       "    <tr>\n",
       "      <th>4</th>\n",
       "      <td>Quintessa</td>\n",
       "      <td>199</td>\n",
       "      <td>Cabernet Sauvignon</td>\n",
       "      <td>4.7</td>\n",
       "      <td>73</td>\n",
       "      <td>California</td>\n",
       "      <td>Napa Valley</td>\n",
       "      <td>2016</td>\n",
       "    </tr>\n",
       "    <tr>\n",
       "      <th>5</th>\n",
       "      <td>Joseph Phelps Insignia</td>\n",
       "      <td>300</td>\n",
       "      <td>Bordeaux Red Blends</td>\n",
       "      <td>4.6</td>\n",
       "      <td>81</td>\n",
       "      <td>California</td>\n",
       "      <td>Napa Valley</td>\n",
       "      <td>2016</td>\n",
       "    </tr>\n",
       "  </tbody>\n",
       "</table>\n",
       "</div>"
      ],
      "text/plain": [
       "                                  product_name  price                varietal  \\\n",
       "0           Dom Perignon Vintage with Gift Box    199  Vintage Sparkling Wine   \n",
       "2      Duckhorn Napa Valley Cabernet Sauvignon     78      Cabernet Sauvignon   \n",
       "3  Caymus Special Selection Cabernet Sauvignon    180      Cabernet Sauvignon   \n",
       "4                                    Quintessa    199      Cabernet Sauvignon   \n",
       "5                       Joseph Phelps Insignia    300     Bordeaux Red Blends   \n",
       "\n",
       "   rating  rating_count       region   appellation  year  \n",
       "0     4.5            42       France     Champagne  2010  \n",
       "2     4.3            62   California   Napa Valley  2017  \n",
       "3     4.6           108   California   Napa Valley  2016  \n",
       "4     4.7            73   California   Napa Valley  2016  \n",
       "5     4.6            81   California   Napa Valley  2016  "
      ]
     },
     "execution_count": 105,
     "metadata": {},
     "output_type": "execute_result"
    }
   ],
   "source": [
    "df_ratings_only.head()"
   ]
  },
  {
   "cell_type": "code",
   "execution_count": 106,
   "metadata": {},
   "outputs": [
    {
     "data": {
      "text/plain": [
       "(4141, 8)"
      ]
     },
     "execution_count": 106,
     "metadata": {},
     "output_type": "execute_result"
    }
   ],
   "source": [
    "df_ratings_only.shape"
   ]
  },
  {
   "cell_type": "markdown",
   "metadata": {},
   "source": [
    "### Wines with Bonafide Varietals"
   ]
  },
  {
   "cell_type": "code",
   "execution_count": 107,
   "metadata": {},
   "outputs": [
    {
     "data": {
      "text/plain": [
       "80"
      ]
     },
     "execution_count": 107,
     "metadata": {},
     "output_type": "execute_result"
    }
   ],
   "source": [
    "df['varietal'].unique().size"
   ]
  },
  {
   "cell_type": "code",
   "execution_count": 108,
   "metadata": {},
   "outputs": [],
   "source": [
    "# copy original dataframe for manipulation\n",
    "df_varietals = df.copy()\n",
    "\n",
    "# create the list or non-varietals - identified from 88 unique varietals\n",
    "non_varietals = ['Port', 'Non-Vintage Sparkling Wine', 'Vintage Sparkling Wine']\n",
    "\n",
    "# Delete these row indexes from dataFrame that have the non-variatals in them\n",
    "df_varietals = df_varietals[~df_varietals['varietal'].isin(non_varietals)]"
   ]
  },
  {
   "cell_type": "code",
   "execution_count": 109,
   "metadata": {},
   "outputs": [
    {
     "data": {
      "text/plain": [
       "array(['Agiorgitiko', 'Aglianico', 'Albarino', 'Alicante Bouschet',\n",
       "       'Arneis', 'Assyrtiko', 'Barbera', 'Blaufrankisch',\n",
       "       'Bordeaux Red Blends', 'Bordeaux White Blends', 'Cabernet Franc',\n",
       "       'Cabernet Sauvignon', 'Carignan', 'Carmenere', 'Chardonnay',\n",
       "       'Chenin Blanc', 'Corvina', 'Dolcetto', 'Fiano', 'Friulano',\n",
       "       'Fruit Wine', 'Gamay', 'Garganega', 'Gewurztraminer', 'Godello',\n",
       "       'Greco', 'Grenache', 'Grenache Blanc', 'Gruner Veltliner',\n",
       "       'Lagrein', 'Madeira', 'Malbec', 'Malvasia', 'Marsanne',\n",
       "       'Melon de Bourgogne', 'Mencia', 'Merlot', 'Montepulciano',\n",
       "       'Mourvedre', 'Muscat', 'Nebbiolo', 'Nerello Mascalese',\n",
       "       \"Nero d'Avola\", 'Other Dessert', 'Other Red Blends',\n",
       "       'Other Red Wine', 'Other White Blends', 'Other White Wine',\n",
       "       'Petit Verdot', 'Petite Sirah', 'Pinot Blanc', 'Pinot Gris/Grigio',\n",
       "       'Pinot Noir', 'Pinotage', 'Red Sparkling Wine', 'Rhone Red Blends',\n",
       "       'Rhone White Blends', 'Riesling', 'Rosé', 'Rosé Sparkling Wine',\n",
       "       'Roussanne', 'Sagrantino', 'Sangiovese', 'Sauvignon Blanc',\n",
       "       'Semillon', 'Syrah/Shiraz', 'Tempranillo', 'Torrontes',\n",
       "       'Touriga Nacional', 'Tuscan Blends', 'Valdiguie', 'Verdejo',\n",
       "       'Verdicchio', 'Vermentino', 'Viognier', 'Viura', 'Xinomavro',\n",
       "       'Zinfandel'], dtype=object)"
      ]
     },
     "execution_count": 109,
     "metadata": {},
     "output_type": "execute_result"
    }
   ],
   "source": [
    "# this is the df with the non-wine varietals\n",
    "df_varietals['varietal'].sort_values().unique()"
   ]
  },
  {
   "cell_type": "code",
   "execution_count": 110,
   "metadata": {},
   "outputs": [
    {
     "data": {
      "text/plain": [
       "(21602, 8)"
      ]
     },
     "execution_count": 110,
     "metadata": {},
     "output_type": "execute_result"
    }
   ],
   "source": [
    "df_varietals.shape"
   ]
  },
  {
   "cell_type": "code",
   "execution_count": 111,
   "metadata": {},
   "outputs": [
    {
     "name": "stdout",
     "output_type": "stream",
     "text": [
      "<class 'pandas.core.frame.DataFrame'>\n",
      "Int64Index: 21602 entries, 2 to 23821\n",
      "Data columns (total 8 columns):\n",
      " #   Column        Non-Null Count  Dtype  \n",
      "---  ------        --------------  -----  \n",
      " 0   product_name  21602 non-null  object \n",
      " 1   price         21602 non-null  int64  \n",
      " 2   varietal      21602 non-null  object \n",
      " 3   rating        21602 non-null  float64\n",
      " 4   rating_count  21602 non-null  int64  \n",
      " 5   region        21602 non-null  object \n",
      " 6   appellation   21602 non-null  object \n",
      " 7   year          21602 non-null  int64  \n",
      "dtypes: float64(1), int64(3), object(4)\n",
      "memory usage: 1.5+ MB\n"
     ]
    }
   ],
   "source": [
    "df_varietals.info()"
   ]
  },
  {
   "cell_type": "code",
   "execution_count": 112,
   "metadata": {},
   "outputs": [
    {
     "data": {
      "text/html": [
       "<div>\n",
       "<style scoped>\n",
       "    .dataframe tbody tr th:only-of-type {\n",
       "        vertical-align: middle;\n",
       "    }\n",
       "\n",
       "    .dataframe tbody tr th {\n",
       "        vertical-align: top;\n",
       "    }\n",
       "\n",
       "    .dataframe thead th {\n",
       "        text-align: right;\n",
       "    }\n",
       "</style>\n",
       "<table border=\"1\" class=\"dataframe\">\n",
       "  <thead>\n",
       "    <tr style=\"text-align: right;\">\n",
       "      <th></th>\n",
       "      <th>product_name</th>\n",
       "      <th>price</th>\n",
       "      <th>varietal</th>\n",
       "      <th>rating</th>\n",
       "      <th>rating_count</th>\n",
       "      <th>region</th>\n",
       "      <th>appellation</th>\n",
       "      <th>year</th>\n",
       "    </tr>\n",
       "  </thead>\n",
       "  <tbody>\n",
       "    <tr>\n",
       "      <th>2</th>\n",
       "      <td>Duckhorn Napa Valley Cabernet Sauvignon</td>\n",
       "      <td>78</td>\n",
       "      <td>Cabernet Sauvignon</td>\n",
       "      <td>4.3</td>\n",
       "      <td>62</td>\n",
       "      <td>California</td>\n",
       "      <td>Napa Valley</td>\n",
       "      <td>2017</td>\n",
       "    </tr>\n",
       "    <tr>\n",
       "      <th>3</th>\n",
       "      <td>Caymus Special Selection Cabernet Sauvignon</td>\n",
       "      <td>180</td>\n",
       "      <td>Cabernet Sauvignon</td>\n",
       "      <td>4.6</td>\n",
       "      <td>108</td>\n",
       "      <td>California</td>\n",
       "      <td>Napa Valley</td>\n",
       "      <td>2016</td>\n",
       "    </tr>\n",
       "    <tr>\n",
       "      <th>4</th>\n",
       "      <td>Quintessa</td>\n",
       "      <td>199</td>\n",
       "      <td>Cabernet Sauvignon</td>\n",
       "      <td>4.7</td>\n",
       "      <td>73</td>\n",
       "      <td>California</td>\n",
       "      <td>Napa Valley</td>\n",
       "      <td>2016</td>\n",
       "    </tr>\n",
       "    <tr>\n",
       "      <th>5</th>\n",
       "      <td>Joseph Phelps Insignia</td>\n",
       "      <td>300</td>\n",
       "      <td>Bordeaux Red Blends</td>\n",
       "      <td>4.6</td>\n",
       "      <td>81</td>\n",
       "      <td>California</td>\n",
       "      <td>Napa Valley</td>\n",
       "      <td>2016</td>\n",
       "    </tr>\n",
       "    <tr>\n",
       "      <th>6</th>\n",
       "      <td>Opus One</td>\n",
       "      <td>364</td>\n",
       "      <td>Bordeaux Red Blends</td>\n",
       "      <td>4.2</td>\n",
       "      <td>8</td>\n",
       "      <td>California</td>\n",
       "      <td>Napa Valley</td>\n",
       "      <td>2017</td>\n",
       "    </tr>\n",
       "  </tbody>\n",
       "</table>\n",
       "</div>"
      ],
      "text/plain": [
       "                                  product_name  price             varietal  \\\n",
       "2      Duckhorn Napa Valley Cabernet Sauvignon     78   Cabernet Sauvignon   \n",
       "3  Caymus Special Selection Cabernet Sauvignon    180   Cabernet Sauvignon   \n",
       "4                                    Quintessa    199   Cabernet Sauvignon   \n",
       "5                       Joseph Phelps Insignia    300  Bordeaux Red Blends   \n",
       "6                                     Opus One    364  Bordeaux Red Blends   \n",
       "\n",
       "   rating  rating_count       region   appellation  year  \n",
       "2     4.3            62   California   Napa Valley  2017  \n",
       "3     4.6           108   California   Napa Valley  2016  \n",
       "4     4.7            73   California   Napa Valley  2016  \n",
       "5     4.6            81   California   Napa Valley  2016  \n",
       "6     4.2             8   California   Napa Valley  2017  "
      ]
     },
     "execution_count": 112,
     "metadata": {},
     "output_type": "execute_result"
    }
   ],
   "source": [
    "df_varietals.head()"
   ]
  },
  {
   "cell_type": "markdown",
   "metadata": {},
   "source": [
    "### Wines with prices that aren't outliers (IQR or zscore)"
   ]
  },
  {
   "cell_type": "code",
   "execution_count": 113,
   "metadata": {},
   "outputs": [],
   "source": [
    "df_price = df.copy()"
   ]
  },
  {
   "cell_type": "code",
   "execution_count": 114,
   "metadata": {},
   "outputs": [
    {
     "data": {
      "image/png": "[encoded data removed]",
      "text/plain": [
       "<Figure size 1152x360 with 1 Axes>"
      ]
     },
     "metadata": {
      "needs_background": "light"
     },
     "output_type": "display_data"
    }
   ],
   "source": [
    "plt.figure(figsize = [16, 5])\n",
    "sb.boxplot(x=df_price['price']);"
   ]
  },
  {
   "cell_type": "code",
   "execution_count": 115,
   "metadata": {},
   "outputs": [
    {
     "data": {
      "text/plain": [
       "count    22071.000000\n",
       "mean       234.084681\n",
       "std        578.837697\n",
       "min          7.000000\n",
       "25%         64.000000\n",
       "50%        109.000000\n",
       "75%        219.000000\n",
       "max      17999.000000\n",
       "Name: price, dtype: float64"
      ]
     },
     "execution_count": 115,
     "metadata": {},
     "output_type": "execute_result"
    }
   ],
   "source": [
    "df_price['price'].describe()"
   ]
  },
  {
   "cell_type": "code",
   "execution_count": 116,
   "metadata": {},
   "outputs": [],
   "source": [
    "from scipy import stats\n",
    "df_price['z_score'] = stats.zscore(df_price['price'])\n",
    "df_price['z_score'] = np.abs(df_price['z_score'])"
   ]
  },
  {
   "cell_type": "code",
   "execution_count": 117,
   "metadata": {},
   "outputs": [
    {
     "name": "stdout",
     "output_type": "stream",
     "text": [
      "(array([  143,   170,   246,  1283,  1393,  1411,  1449,  1466,  1484,\n",
      "        1496,  1521,  1585,  1592,  1598,  1609,  1642,  1695,  1719,\n",
      "        1736,  1786,  1831,  1858,  1885,  1926,  1944,  1950,  1968,\n",
      "        2001,  2014,  2025,  2031,  2091,  2093,  2101,  2106,  2111,\n",
      "        2192,  2263,  2270,  2313,  2351,  2358,  2794,  2795,  2814,\n",
      "        2834,  2844,  2885,  2892,  2896,  2903,  2904,  2997,  3027,\n",
      "        3050,  3203,  3212,  3216,  3223,  3265,  3322,  3346,  3394,\n",
      "        3402,  3601,  3722,  3846,  3953,  4067,  4284,  4286,  4325,\n",
      "        4326,  4334,  4336,  4337,  4352,  4357,  4382,  4423,  4446,\n",
      "        4559,  4647,  4818,  4880,  5197,  5208,  5267,  5390,  5515,\n",
      "        6030,  6062,  6499,  6526,  6644,  6684,  6700,  6732,  6758,\n",
      "        6787,  6890,  7320,  7384,  7422,  7574,  7802,  7861,  7887,\n",
      "        7985,  8160,  8166,  8203,  8302,  8328,  8595,  8629,  8678,\n",
      "        9040,  9297,  9483,  9715,  9931, 10286, 10892, 10916, 11466,\n",
      "       12077, 12372, 12527, 12578, 12580, 12693, 13000, 13057, 13090,\n",
      "       13096, 14546, 14588, 15639, 15851, 15925, 16044, 16190, 16426,\n",
      "       16433, 16738, 16793, 16832, 16836, 16872, 16961, 16980, 17184,\n",
      "       17219, 17262, 17427, 17500, 17560, 17593, 17652, 17692, 17722,\n",
      "       17853, 18015, 18069, 18137, 18285, 18288, 18371, 18377, 18472,\n",
      "       18583, 18598, 18610, 18642, 18643, 18666, 18683, 18779, 18824,\n",
      "       18874, 18878, 18881, 18924, 19043, 19052, 19535, 19544, 19629,\n",
      "       19659, 19767, 19775, 19824, 19867, 19902, 19911, 19954, 20068,\n",
      "       20076, 20110, 20216, 20475, 20542, 20655, 20727, 20879, 20956,\n",
      "       20970, 21221, 21272, 21303, 21311, 21361, 21439, 21441, 21454,\n",
      "       21481, 21500, 21631, 21639, 21644, 21672, 21707, 21722, 21769,\n",
      "       21800, 21872, 21985, 21996, 21999, 22013, 22024, 22066]),)\n"
     ]
    }
   ],
   "source": [
    "print(np.where(df_price['z_score'] > 3))"
   ]
  },
  {
   "cell_type": "code",
   "execution_count": 118,
   "metadata": {},
   "outputs": [],
   "source": [
    "# drop anything that is older than 1950 - wine is probably not good anymore!\n",
    "df_price = df_price[df_price['z_score'] < 1]  "
   ]
  },
  {
   "cell_type": "code",
   "execution_count": 119,
   "metadata": {},
   "outputs": [
    {
     "data": {
      "image/png": "[encoded data removed]",
      "text/plain": [
       "<Figure size 1152x360 with 1 Axes>"
      ]
     },
     "metadata": {
      "needs_background": "light"
     },
     "output_type": "display_data"
    }
   ],
   "source": [
    "plt.figure(figsize = [16, 5])\n",
    "sb.boxplot(x=df_price['price']);"
   ]
  },
  {
   "cell_type": "code",
   "execution_count": 120,
   "metadata": {},
   "outputs": [
    {
     "data": {
      "text/plain": [
       "count    21179.000000\n",
       "mean       159.706879\n",
       "std        150.531672\n",
       "min          7.000000\n",
       "25%         61.000000\n",
       "50%        104.000000\n",
       "75%        199.000000\n",
       "max        809.000000\n",
       "Name: price, dtype: float64"
      ]
     },
     "execution_count": 120,
     "metadata": {},
     "output_type": "execute_result"
    }
   ],
   "source": [
    "df_price['price'].describe()"
   ]
  },
  {
   "cell_type": "markdown",
   "metadata": {},
   "source": [
    "### Wines that are only from California "
   ]
  },
  {
   "cell_type": "code",
   "execution_count": 121,
   "metadata": {},
   "outputs": [],
   "source": [
    "df_ca = df.copy()"
   ]
  },
  {
   "cell_type": "code",
   "execution_count": 122,
   "metadata": {},
   "outputs": [],
   "source": [
    "# above_35 = titanic[titanic[\"Age\"] > 35]\n",
    "df_ca = df_ca[df_ca['region'] == ' California']"
   ]
  },
  {
   "cell_type": "code",
   "execution_count": 123,
   "metadata": {},
   "outputs": [
    {
     "data": {
      "text/html": [
       "<div>\n",
       "<style scoped>\n",
       "    .dataframe tbody tr th:only-of-type {\n",
       "        vertical-align: middle;\n",
       "    }\n",
       "\n",
       "    .dataframe tbody tr th {\n",
       "        vertical-align: top;\n",
       "    }\n",
       "\n",
       "    .dataframe thead th {\n",
       "        text-align: right;\n",
       "    }\n",
       "</style>\n",
       "<table border=\"1\" class=\"dataframe\">\n",
       "  <thead>\n",
       "    <tr style=\"text-align: right;\">\n",
       "      <th></th>\n",
       "      <th>product_name</th>\n",
       "      <th>price</th>\n",
       "      <th>varietal</th>\n",
       "      <th>rating</th>\n",
       "      <th>rating_count</th>\n",
       "      <th>region</th>\n",
       "      <th>appellation</th>\n",
       "      <th>year</th>\n",
       "    </tr>\n",
       "  </thead>\n",
       "  <tbody>\n",
       "    <tr>\n",
       "      <th>2</th>\n",
       "      <td>Duckhorn Napa Valley Cabernet Sauvignon</td>\n",
       "      <td>78</td>\n",
       "      <td>Cabernet Sauvignon</td>\n",
       "      <td>4.3</td>\n",
       "      <td>62</td>\n",
       "      <td>California</td>\n",
       "      <td>Napa Valley</td>\n",
       "      <td>2017</td>\n",
       "    </tr>\n",
       "    <tr>\n",
       "      <th>3</th>\n",
       "      <td>Caymus Special Selection Cabernet Sauvignon</td>\n",
       "      <td>180</td>\n",
       "      <td>Cabernet Sauvignon</td>\n",
       "      <td>4.6</td>\n",
       "      <td>108</td>\n",
       "      <td>California</td>\n",
       "      <td>Napa Valley</td>\n",
       "      <td>2016</td>\n",
       "    </tr>\n",
       "    <tr>\n",
       "      <th>4</th>\n",
       "      <td>Quintessa</td>\n",
       "      <td>199</td>\n",
       "      <td>Cabernet Sauvignon</td>\n",
       "      <td>4.7</td>\n",
       "      <td>73</td>\n",
       "      <td>California</td>\n",
       "      <td>Napa Valley</td>\n",
       "      <td>2016</td>\n",
       "    </tr>\n",
       "    <tr>\n",
       "      <th>5</th>\n",
       "      <td>Joseph Phelps Insignia</td>\n",
       "      <td>300</td>\n",
       "      <td>Bordeaux Red Blends</td>\n",
       "      <td>4.6</td>\n",
       "      <td>81</td>\n",
       "      <td>California</td>\n",
       "      <td>Napa Valley</td>\n",
       "      <td>2016</td>\n",
       "    </tr>\n",
       "    <tr>\n",
       "      <th>6</th>\n",
       "      <td>Opus One</td>\n",
       "      <td>364</td>\n",
       "      <td>Bordeaux Red Blends</td>\n",
       "      <td>4.2</td>\n",
       "      <td>8</td>\n",
       "      <td>California</td>\n",
       "      <td>Napa Valley</td>\n",
       "      <td>2017</td>\n",
       "    </tr>\n",
       "  </tbody>\n",
       "</table>\n",
       "</div>"
      ],
      "text/plain": [
       "                                  product_name  price             varietal  \\\n",
       "2      Duckhorn Napa Valley Cabernet Sauvignon     78   Cabernet Sauvignon   \n",
       "3  Caymus Special Selection Cabernet Sauvignon    180   Cabernet Sauvignon   \n",
       "4                                    Quintessa    199   Cabernet Sauvignon   \n",
       "5                       Joseph Phelps Insignia    300  Bordeaux Red Blends   \n",
       "6                                     Opus One    364  Bordeaux Red Blends   \n",
       "\n",
       "   rating  rating_count       region   appellation  year  \n",
       "2     4.3            62   California   Napa Valley  2017  \n",
       "3     4.6           108   California   Napa Valley  2016  \n",
       "4     4.7            73   California   Napa Valley  2016  \n",
       "5     4.6            81   California   Napa Valley  2016  \n",
       "6     4.2             8   California   Napa Valley  2017  "
      ]
     },
     "execution_count": 123,
     "metadata": {},
     "output_type": "execute_result"
    }
   ],
   "source": [
    "df_ca.head()"
   ]
  },
  {
   "cell_type": "markdown",
   "metadata": {},
   "source": [
    "# Store in SQL Database "
   ]
  },
  {
   "cell_type": "code",
   "execution_count": 124,
   "metadata": {},
   "outputs": [],
   "source": [
    "# Create SQLAlchemy Engine and empty bestofrt database\n",
    "# bestofrt.db will not show up in the Jupyter Notebook dashboard yet\n",
    "engine = create_engine('sqlite:///winewebscraping.db')"
   ]
  },
  {
   "cell_type": "code",
   "execution_count": 125,
   "metadata": {},
   "outputs": [],
   "source": [
    "# Store cleaned master DataFrame ('df') in a table called master in marswind.db\n",
    "# marswind.db will be visible now in the Jupyter Notebook dashboard\n",
    "df.to_sql('master', engine, index=False)\n",
    "df_ratings_only.to_sql('ratings', engine, index=False)\n",
    "df_varietals.to_sql('varietals', engine, index=False)\n",
    "df_price.to_sql('prices', engine, index=False)\n",
    "df_ca.to_sql('california', engine, index=False)"
   ]
  },
  {
   "cell_type": "code",
   "execution_count": 126,
   "metadata": {},
   "outputs": [],
   "source": [
    "df_db = pd.read_sql('SELECT * FROM varietals', engine)"
   ]
  },
  {
   "cell_type": "code",
   "execution_count": 127,
   "metadata": {},
   "outputs": [
    {
     "data": {
      "text/html": [
       "<div>\n",
       "<style scoped>\n",
       "    .dataframe tbody tr th:only-of-type {\n",
       "        vertical-align: middle;\n",
       "    }\n",
       "\n",
       "    .dataframe tbody tr th {\n",
       "        vertical-align: top;\n",
       "    }\n",
       "\n",
       "    .dataframe thead th {\n",
       "        text-align: right;\n",
       "    }\n",
       "</style>\n",
       "<table border=\"1\" class=\"dataframe\">\n",
       "  <thead>\n",
       "    <tr style=\"text-align: right;\">\n",
       "      <th></th>\n",
       "      <th>product_name</th>\n",
       "      <th>price</th>\n",
       "      <th>varietal</th>\n",
       "      <th>rating</th>\n",
       "      <th>rating_count</th>\n",
       "      <th>region</th>\n",
       "      <th>appellation</th>\n",
       "      <th>year</th>\n",
       "      <th>z_score</th>\n",
       "    </tr>\n",
       "  </thead>\n",
       "  <tbody>\n",
       "    <tr>\n",
       "      <th>0</th>\n",
       "      <td>Dom Perignon Vintage with Gift Box</td>\n",
       "      <td>199</td>\n",
       "      <td>Vintage Sparkling Wine</td>\n",
       "      <td>4.5</td>\n",
       "      <td>42</td>\n",
       "      <td>France</td>\n",
       "      <td>Champagne</td>\n",
       "      <td>2010</td>\n",
       "      <td>0.060614</td>\n",
       "    </tr>\n",
       "    <tr>\n",
       "      <th>2</th>\n",
       "      <td>Duckhorn Napa Valley Cabernet Sauvignon</td>\n",
       "      <td>78</td>\n",
       "      <td>Cabernet Sauvignon</td>\n",
       "      <td>4.3</td>\n",
       "      <td>62</td>\n",
       "      <td>California</td>\n",
       "      <td>Napa Valley</td>\n",
       "      <td>2017</td>\n",
       "      <td>0.269658</td>\n",
       "    </tr>\n",
       "    <tr>\n",
       "      <th>3</th>\n",
       "      <td>Caymus Special Selection Cabernet Sauvignon</td>\n",
       "      <td>180</td>\n",
       "      <td>Cabernet Sauvignon</td>\n",
       "      <td>4.6</td>\n",
       "      <td>108</td>\n",
       "      <td>California</td>\n",
       "      <td>Napa Valley</td>\n",
       "      <td>2016</td>\n",
       "      <td>0.093439</td>\n",
       "    </tr>\n",
       "  </tbody>\n",
       "</table>\n",
       "</div>"
      ],
      "text/plain": [
       "                                  product_name  price                varietal  \\\n",
       "0           Dom Perignon Vintage with Gift Box    199  Vintage Sparkling Wine   \n",
       "2      Duckhorn Napa Valley Cabernet Sauvignon     78      Cabernet Sauvignon   \n",
       "3  Caymus Special Selection Cabernet Sauvignon    180      Cabernet Sauvignon   \n",
       "\n",
       "   rating  rating_count       region  appellation  year   z_score  \n",
       "0     4.5            42       France    Champagne  2010  0.060614  \n",
       "2     4.3            62   California  Napa Valley  2017  0.269658  \n",
       "3     4.6           108   California  Napa Valley  2016  0.093439  "
      ]
     },
     "execution_count": 127,
     "metadata": {},
     "output_type": "execute_result"
    }
   ],
   "source": [
    "df_price.head(3)"
   ]
  },
  {
   "cell_type": "code",
   "execution_count": null,
   "metadata": {},
   "outputs": [],
   "source": []
  }
 ],
 "metadata": {
  "kernelspec": {
   "display_name": "Python 3",
   "language": "python",
   "name": "python3"
  },
  "language_info": {
   "codemirror_mode": {
    "name": "ipython",
    "version": 3
   },
   "file_extension": ".py",
   "mimetype": "text/x-python",
   "name": "python",
   "nbconvert_exporter": "python",
   "pygments_lexer": "ipython3",
   "version": "3.8.2"
  }
 },
 "nbformat": 4,
 "nbformat_minor": 2
}
