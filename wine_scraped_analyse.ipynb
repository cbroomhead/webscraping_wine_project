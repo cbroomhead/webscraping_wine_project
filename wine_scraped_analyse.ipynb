{
 "cells": [
  {
   "cell_type": "code",
   "execution_count": 50,
   "metadata": {},
   "outputs": [],
   "source": [
    "import numpy as np\n",
    "import pandas as pd\n",
    "import matplotlib.pyplot as plt\n",
    "import seaborn as sb\n",
    "%matplotlib inline"
   ]
  },
  {
   "cell_type": "code",
   "execution_count": 51,
   "metadata": {},
   "outputs": [],
   "source": [
    "df = pd.read_csv('wine_master_dataset.csv', index_col=0)"
   ]
  },
  {
   "cell_type": "code",
   "execution_count": 72,
   "metadata": {},
   "outputs": [
    {
     "data": {
      "text/html": [
       "<div>\n",
       "<style scoped>\n",
       "    .dataframe tbody tr th:only-of-type {\n",
       "        vertical-align: middle;\n",
       "    }\n",
       "\n",
       "    .dataframe tbody tr th {\n",
       "        vertical-align: top;\n",
       "    }\n",
       "\n",
       "    .dataframe thead th {\n",
       "        text-align: right;\n",
       "    }\n",
       "</style>\n",
       "<table border=\"1\" class=\"dataframe\">\n",
       "  <thead>\n",
       "    <tr style=\"text-align: right;\">\n",
       "      <th></th>\n",
       "      <th>product_name</th>\n",
       "      <th>price</th>\n",
       "      <th>varietal</th>\n",
       "      <th>rating</th>\n",
       "      <th>rating_count</th>\n",
       "      <th>region</th>\n",
       "      <th>country</th>\n",
       "      <th>year</th>\n",
       "      <th>price_cat</th>\n",
       "    </tr>\n",
       "  </thead>\n",
       "  <tbody>\n",
       "    <tr>\n",
       "      <th>0</th>\n",
       "      <td>Dom Perignon Vintage with Gift Box 2010</td>\n",
       "      <td>199</td>\n",
       "      <td>Vintage Sparkling Wine</td>\n",
       "      <td>4.5</td>\n",
       "      <td>42.0</td>\n",
       "      <td>Champagne</td>\n",
       "      <td>France</td>\n",
       "      <td>2010</td>\n",
       "      <td>$100-$249</td>\n",
       "    </tr>\n",
       "    <tr>\n",
       "      <th>2</th>\n",
       "      <td>Duckhorn Napa Valley Cabernet Sauvignon 2017</td>\n",
       "      <td>78</td>\n",
       "      <td>Cabernet Sauvignon</td>\n",
       "      <td>4.3</td>\n",
       "      <td>62.0</td>\n",
       "      <td>Napa Valley</td>\n",
       "      <td>California</td>\n",
       "      <td>2017</td>\n",
       "      <td>$0</td>\n",
       "    </tr>\n",
       "    <tr>\n",
       "      <th>3</th>\n",
       "      <td>Caymus Special Selection Cabernet Sauvignon 2016</td>\n",
       "      <td>180</td>\n",
       "      <td>Cabernet Sauvignon</td>\n",
       "      <td>4.6</td>\n",
       "      <td>108.0</td>\n",
       "      <td>Napa Valley</td>\n",
       "      <td>California</td>\n",
       "      <td>2016</td>\n",
       "      <td>$100-$249</td>\n",
       "    </tr>\n",
       "    <tr>\n",
       "      <th>4</th>\n",
       "      <td>Quintessa 2016</td>\n",
       "      <td>199</td>\n",
       "      <td>Cabernet Sauvignon</td>\n",
       "      <td>4.7</td>\n",
       "      <td>73.0</td>\n",
       "      <td>Rutherford</td>\n",
       "      <td>Napa Valley, California</td>\n",
       "      <td>2016</td>\n",
       "      <td>$100-$249</td>\n",
       "    </tr>\n",
       "    <tr>\n",
       "      <th>5</th>\n",
       "      <td>Joseph Phelps Insignia 2016</td>\n",
       "      <td>300</td>\n",
       "      <td>Bordeaux Red Blends</td>\n",
       "      <td>4.6</td>\n",
       "      <td>81.0</td>\n",
       "      <td>Napa Valley</td>\n",
       "      <td>California</td>\n",
       "      <td>2016</td>\n",
       "      <td>$250-$499</td>\n",
       "    </tr>\n",
       "  </tbody>\n",
       "</table>\n",
       "</div>"
      ],
      "text/plain": [
       "                                       product_name  price  \\\n",
       "0           Dom Perignon Vintage with Gift Box 2010    199   \n",
       "2      Duckhorn Napa Valley Cabernet Sauvignon 2017     78   \n",
       "3  Caymus Special Selection Cabernet Sauvignon 2016    180   \n",
       "4                                    Quintessa 2016    199   \n",
       "5                       Joseph Phelps Insignia 2016    300   \n",
       "\n",
       "                 varietal  rating  rating_count       region  \\\n",
       "0  Vintage Sparkling Wine     4.5          42.0    Champagne   \n",
       "2      Cabernet Sauvignon     4.3          62.0  Napa Valley   \n",
       "3      Cabernet Sauvignon     4.6         108.0  Napa Valley   \n",
       "4      Cabernet Sauvignon     4.7          73.0   Rutherford   \n",
       "5     Bordeaux Red Blends     4.6          81.0  Napa Valley   \n",
       "\n",
       "                    country  year  price_cat  \n",
       "0                    France  2010  $100-$249  \n",
       "2                California  2017         $0  \n",
       "3                California  2016  $100-$249  \n",
       "4   Napa Valley, California  2016  $100-$249  \n",
       "5                California  2016  $250-$499  "
      ]
     },
     "execution_count": 72,
     "metadata": {},
     "output_type": "execute_result"
    }
   ],
   "source": [
    "df.head()"
   ]
  },
  {
   "cell_type": "code",
   "execution_count": 53,
   "metadata": {},
   "outputs": [
    {
     "data": {
      "text/plain": [
       "product_name     object\n",
       "price             int64\n",
       "varietal         object\n",
       "rating          float64\n",
       "rating_count    float64\n",
       "region           object\n",
       "country          object\n",
       "year              int64\n",
       "dtype: object"
      ]
     },
     "execution_count": 53,
     "metadata": {},
     "output_type": "execute_result"
    }
   ],
   "source": [
    "df.dtypes"
   ]
  },
  {
   "cell_type": "code",
   "execution_count": 55,
   "metadata": {},
   "outputs": [
    {
     "data": {
      "text/plain": [
       "product_name     object\n",
       "price             int64\n",
       "varietal         object\n",
       "rating          float64\n",
       "rating_count    float64\n",
       "region           object\n",
       "country          object\n",
       "year              int64\n",
       "dtype: object"
      ]
     },
     "execution_count": 55,
     "metadata": {},
     "output_type": "execute_result"
    }
   ],
   "source": [
    "df.dtypes"
   ]
  },
  {
   "cell_type": "code",
   "execution_count": 54,
   "metadata": {},
   "outputs": [],
   "source": [
    "#set the base color for the charts\n",
    "green = sb.color_palette(\"hls\", 8)[3]\n",
    "purple = sb.color_palette(\"hls\", 8)[6]\n",
    "yellow = sb.color_palette(\"hls\", 8)[1]"
   ]
  },
  {
   "cell_type": "markdown",
   "metadata": {},
   "source": [
    "### Price exploration "
   ]
  },
  {
   "cell_type": "code",
   "execution_count": 56,
   "metadata": {},
   "outputs": [
    {
     "data": {
      "text/plain": [
       "(7, 17999)"
      ]
     },
     "execution_count": 56,
     "metadata": {},
     "output_type": "execute_result"
    }
   ],
   "source": [
    "df['price'].min(), df['price'].max()"
   ]
  },
  {
   "cell_type": "code",
   "execution_count": 63,
   "metadata": {},
   "outputs": [
    {
     "data": {
      "text/plain": [
       "count    22579.000000\n",
       "mean       231.339519\n",
       "std        563.173485\n",
       "min          7.000000\n",
       "25%         62.000000\n",
       "50%        109.000000\n",
       "75%        219.000000\n",
       "max      17999.000000\n",
       "Name: price, dtype: float64"
      ]
     },
     "execution_count": 63,
     "metadata": {},
     "output_type": "execute_result"
    }
   ],
   "source": [
    "df['price'].describe()"
   ]
  },
  {
   "cell_type": "code",
   "execution_count": 73,
   "metadata": {},
   "outputs": [],
   "source": [
    "df['price_cat'] = pd.cut(x = df['price'], bins = [ 0, 100, 250, 500, 1000, 18000], labels = ['$0-$99','$100-$249', '$250-$499','$500-$999','$1000+'], right=False) "
   ]
  },
  {
   "cell_type": "code",
   "execution_count": 74,
   "metadata": {},
   "outputs": [
    {
     "data": {
      "image/png": "[encoded data removed]",
      "text/plain": [
       "<Figure size 1440x360 with 1 Axes>"
      ]
     },
     "metadata": {
      "needs_background": "light"
     },
     "output_type": "display_data"
    }
   ],
   "source": [
    "# standard-scaled plot of rates capacity\n",
    "plt.figure(figsize = [20, 5])\n",
    "plt.title(\"Title\")\n",
    "sb.countplot(data= df, x='price_cat', color=green, edgecolor='white').set( xlabel = \"Price Range\");"
   ]
  },
  {
   "cell_type": "markdown",
   "metadata": {},
   "source": [
    "### Country Exploration "
   ]
  },
  {
   "cell_type": "code",
   "execution_count": 77,
   "metadata": {},
   "outputs": [
    {
     "data": {
      "text/plain": [
       "array([' Argentina', ' Australia', ' Austria',\n",
       "       ' Barossa, South Australia, Australia', ' Bordeaux, France',\n",
       "       ' Burgundy, France', ' California', ' Central Coast, California',\n",
       "       ' Chianti, Tuscany, Italy', ' Chile',\n",
       "       ' Columbia Valley, Washington',\n",
       "       ' Cote Chalonnaise, Burgundy, France',\n",
       "       \" Cote d'Or, Burgundy, France\",\n",
       "       \" Cote de Beaune, Cote d'Or, Burgundy, France\",\n",
       "       \" Cote de Nuits, Cote d'Or, Burgundy, France\",\n",
       "       ' Côtes du Roussillon-Villages, Roussillon, South of France, France',\n",
       "       ' France', ' Friuli-Venezia Giulia, Italy', ' Germany', ' Greece',\n",
       "       ' Italy', ' Lake County, North Coast, California',\n",
       "       ' Languedoc, South of France, France', ' Loire, France',\n",
       "       ' Maconnais, Burgundy, France', ' Mendocino, California',\n",
       "       ' Mendoza, Argentina',\n",
       "       ' Minervois, Languedoc, South of France, France',\n",
       "       ' Monterey, Central Coast, California', ' Napa Valley, California',\n",
       "       ' New South Wales, Australia', ' New York, Other U.S.',\n",
       "       ' New Zealand', ' North Coast, California', ' Oregon',\n",
       "       ' Other U.S.', ' Paso Robles, Central Coast, California',\n",
       "       ' Piedmont, Italy', ' Portugal', ' Prosecco, Italy',\n",
       "       ' Provence, South of France, France', ' Rapel Valley, Chile',\n",
       "       ' Rhone, France', ' Roussillon, South of France, France',\n",
       "       ' Russian River, Sonoma County, California', ' Salta, Argentina',\n",
       "       ' San Antonio Valley (Chile), Chile',\n",
       "       ' Santa Barbara, Central Coast, California',\n",
       "       ' Sierra Foothills, California',\n",
       "       ' Sonoma Coast, Sonoma County, California',\n",
       "       ' Sonoma County, California',\n",
       "       ' Sonoma Valley, Sonoma County, California', ' South Africa',\n",
       "       ' South Australia, Australia', ' South of France, France',\n",
       "       ' Southwest, France', ' Spain', ' Touraine, Loire, France',\n",
       "       ' Trentino-Alto Adige, Italy', ' Tuscany, Italy', ' Veneto, Italy',\n",
       "       ' Victoria, Australia', ' Washington',\n",
       "       ' Western Australia, Australia', ' Willamette Valley, Oregon',\n",
       "       ' Yakima Valley, Columbia Valley, Washington'], dtype=object)"
      ]
     },
     "execution_count": 77,
     "metadata": {},
     "output_type": "execute_result"
    }
   ],
   "source": [
    "df['country'].sort_values().unique()"
   ]
  },
  {
   "cell_type": "code",
   "execution_count": 75,
   "metadata": {},
   "outputs": [
    {
     "data": {
      "image/png": "[encoded data removed]",
      "text/plain": [
       "<Figure size 1440x360 with 1 Axes>"
      ]
     },
     "metadata": {
      "needs_background": "light"
     },
     "output_type": "display_data"
    }
   ],
   "source": [
    "# standard-scaled plot of rates capacity\n",
    "plt.figure(figsize = [20, 5])\n",
    "plt.title(\"Title\")\n",
    "sb.countplot(data= df, x='country', color=green, edgecolor='white').set( xlabel = \"Country of Origin\");"
   ]
  },
  {
   "cell_type": "code",
   "execution_count": null,
   "metadata": {},
   "outputs": [],
   "source": []
  }
 ],
 "metadata": {
  "kernelspec": {
   "display_name": "Python 3",
   "language": "python",
   "name": "python3"
  },
  "language_info": {
   "codemirror_mode": {
    "name": "ipython",
    "version": 3
   },
   "file_extension": ".py",
   "mimetype": "text/x-python",
   "name": "python",
   "nbconvert_exporter": "python",
   "pygments_lexer": "ipython3",
   "version": "3.8.3"
  }
 },
 "nbformat": 4,
 "nbformat_minor": 2
}
